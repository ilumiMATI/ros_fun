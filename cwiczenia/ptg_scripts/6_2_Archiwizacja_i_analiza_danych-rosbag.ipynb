{
 "cells": [
  {
   "cell_type": "markdown",
   "id": "eight-estonia",
   "metadata": {},
   "source": [
    "# Bag\n",
    "Jest to format danych przechowujący informacje o wiadomościach, które zostały wybrane do zarejestrowania w trakcie działania jakiegoś procesu np. monitorowanie zmiany położenia w czasie, zbieranie danych z czujników. Zebrane dane mogą być później użyte do testowania różnych algorytmów np. do wyznaczania odometrii na podstawie fuzji danych z sensorów, testowania różnych parametrów algorytmów do mapowania terenu.\n",
    "\n",
    "Do utworzenia bag'a wykorzystywane jest narzędzie rosbag umożliwiające rejestrowanie wiadomości ROS. Takie podejście umożliwia odtwarzanie i dostarczanie danych do systemu w taki sam sposób w jaki się pojawiają przy użyciu node'ów. \n",
    "\n",
    "Dostępne komendy dla polecenia rosbag."
   ]
  },
  {
   "cell_type": "code",
   "execution_count": null,
   "id": "funky-constitution",
   "metadata": {},
   "outputs": [],
   "source": [
    "!rosbag --help"
   ]
  },
  {
   "cell_type": "markdown",
   "id": "subsequent-liberia",
   "metadata": {},
   "source": [
    "Szczegółowe informacje o dostępnych możliwościach polecenia można znaleźć na stronie.\n",
    "http://wiki.ros.org/rosbag/Commandline\n",
    "\n",
    "Rejestrowane mogą być nie tylko wszystkie dane jednocześnie tak ja się pojawiają w systemie, ale mamy możliwość wybrania sposobu jak mają być zarejestrowane. Można zarejestrować m.in.:\n",
    "- pojedyncze wiadomości (oddzielne nazwy topicow)\n",
    "- wiadomości spełniające okreslone kryteria (-e (regex), -x (exclude_regex) z podanym kryterium filtracji)\n",
    "- rosbaga o określonym czasie trwania (--duration)\n",
    "- rosbaga o określonym rozmiarze (--size)\n",
    "- podział baga na mniejszy plik gdy czas trwania lub rozmiar zostanie przekroczony (--split)\n",
    "- rozbaga o określonym prefixie w nazwie (-o) oraz o podanej nazwie (-O)\n",
    "- maksymalna liczba zarejestrowanych danych, starsze pliki będą kasowane (--max-splits)\n",
    "- topici z określonego node'a (--node)\n",
    "\n",
    "### Rejestrowanie danych\n",
    "Najczęściej będzie wykorzystane polecenie wpisywane w terminalu:"
   ]
  },
  {
   "cell_type": "raw",
   "id": "alone-nickel",
   "metadata": {},
   "source": [
    "rosbag record nazwa_topicu_1 nazwa_topicu_2"
   ]
  },
  {
   "cell_type": "markdown",
   "id": "equal-balloon",
   "metadata": {},
   "source": [
    "#### Zadanie 1\n",
    "Zarejestrować rosbaga dla topiców od położenia robotów. Przerwać nagrywanie po wykonaniu pełnego okrążenia przez najwolniejszego robota. Wywołać polecenie terminala w jupyter notebook, czyli z (!). \n",
    "Zarejestrowany rosbag będzie wykorzystany w dalszych ćwiczeniach i nie powinien być usuwany."
   ]
  },
  {
   "cell_type": "code",
   "execution_count": null,
   "id": "compliant-preliminary",
   "metadata": {},
   "outputs": [],
   "source": [
    "!"
   ]
  },
  {
   "cell_type": "code",
   "execution_count": null,
   "id": "impaired-charm",
   "metadata": {},
   "outputs": [],
   "source": [
    "!ls # wyświetlenie wszystkich plików z folderu"
   ]
  },
  {
   "cell_type": "markdown",
   "id": "digital-uncertainty",
   "metadata": {},
   "source": [
    "#### Zadanie 2\n",
    "Korzystając z dokumentacji nagrać 20 sekundowego rosbaga o dowolnej podanej nazwie nie generowanej domyślnie jako data i godzina. Również zarejestrować informacje dla położeń. Wywołać polecenie terminala w jupyter notebook, czyli z (!)."
   ]
  },
  {
   "cell_type": "code",
   "execution_count": null,
   "id": "commercial-architect",
   "metadata": {},
   "outputs": [],
   "source": [
    "!"
   ]
  },
  {
   "cell_type": "code",
   "execution_count": null,
   "id": "black-timing",
   "metadata": {},
   "outputs": [],
   "source": [
    "!ls"
   ]
  },
  {
   "cell_type": "code",
   "execution_count": null,
   "id": "reflected-digit",
   "metadata": {},
   "outputs": [],
   "source": [
    "!rm nazwa_pliku #usuwa wybrany plik, można usunąć zarejestrowanego baga"
   ]
  },
  {
   "cell_type": "markdown",
   "id": "casual-wayne",
   "metadata": {},
   "source": [
    "#### Zadanie 3\n",
    "Zarejestrować te same dane. Tym razem rosbag powinien być dzielony na mniejsze 5 sekundowe fragmenty. Należy przechowywać w historii 4 bagi oprócz aktualnie zgrywanego (łącznie powinno być widocznych 5 po przerwaniu działania polecenia). Pozostałe powinny być usuwane. Nazwa powinna zawierać dowolny prefix np. dzielony_bag_ograniczony. Wywołać polecenie terminala w jupyter notebook, czyli z (!). Przerwać rejestrowanie po wyświetleniu co najmniej 6 bagów i zweryfikować działanie polecenia."
   ]
  },
  {
   "cell_type": "code",
   "execution_count": null,
   "id": "considered-windows",
   "metadata": {},
   "outputs": [],
   "source": [
    "!"
   ]
  },
  {
   "cell_type": "code",
   "execution_count": null,
   "id": "atmospheric-bahrain",
   "metadata": {},
   "outputs": [],
   "source": [
    "!ls"
   ]
  },
  {
   "cell_type": "markdown",
   "id": "protected-science",
   "metadata": {},
   "source": [
    "### Wyświetlanie informacji\n",
    "W terminalu do wyświetlenia informacji o bagu używamy polecenia:\n",
    "\n",
    "rosbag info nazwa_baga"
   ]
  },
  {
   "cell_type": "code",
   "execution_count": null,
   "id": "skilled-nightmare",
   "metadata": {},
   "outputs": [],
   "source": [
    "#Wyświetlić informację o jednym z zarejestrowanych bagów. Wywołać polecenie jak w terminalu (!).\n",
    "!rosbag info ... #wpisać nazwę jakiegos baga"
   ]
  },
  {
   "cell_type": "markdown",
   "id": "operating-pilot",
   "metadata": {},
   "source": [
    "### Odtwarzanie rosbaga\n",
    "Do odtworzenia zarejestrowanych prędkości sterujących robotów i sprawdzenia ich zachowania najpierw należy zarejestrować dane. "
   ]
  },
  {
   "cell_type": "code",
   "execution_count": null,
   "id": "outside-summit",
   "metadata": {},
   "outputs": [],
   "source": [
    "# Uzupłnić w miejscu ... parametrami odpowiadającymi za ustawienie nazwy \n",
    "# (np. velocities) i czas trwania baga (np. 10s)\n",
    "!rosbag record ... /robot1/cmd_vel /robot2/cmd_vel /robot3/cmd_vel"
   ]
  },
  {
   "cell_type": "markdown",
   "id": "national-transsexual",
   "metadata": {},
   "source": [
    "Należy wylączyć skrypt (6_1_Archiwizacja_i_analiza_danych-symulacja.ipynb) odpowiedzialny za ruch robotów. Zrestartować symulację:"
   ]
  },
  {
   "cell_type": "code",
   "execution_count": null,
   "id": "separated-negative",
   "metadata": {},
   "outputs": [],
   "source": [
    "!rosservice call /reset\n",
    "!rosservice call /kill turtle1\n",
    "!rosservice call /spawn 5.5 4 0 robot1\n",
    "!rosservice call /spawn 5.5 2.5 0 robot2\n",
    "!rosservice call /spawn 5.5 1 0 robot3"
   ]
  },
  {
   "cell_type": "markdown",
   "id": "polished-leave",
   "metadata": {},
   "source": [
    "W terminalu do odgrywania informacji o bagu używamy polecenia:\n",
    "\n",
    "rosbag play nazwa_rosbaga"
   ]
  },
  {
   "cell_type": "code",
   "execution_count": null,
   "id": "common-light",
   "metadata": {},
   "outputs": [],
   "source": [
    "#Wyświetlić informację o jednym z zarejestrowanych bagów. Wywołać polecenie jak w terminalu (!).\n",
    "!rosbag play ... # Wpisać nazwę zarejestrowanego baga z prędkościami"
   ]
  },
  {
   "cell_type": "markdown",
   "id": "military-balloon",
   "metadata": {},
   "source": [
    "### Odczyt i analiza danych\n",
    "Link do wiki zawierającego więcej szczegółowych informacji i przykładów.\n",
    "http://wiki.ros.org/rosbag/CookbookCookbook\n",
    "\n",
    "#### Odczytanie listy topiców wraz z typem"
   ]
  },
  {
   "cell_type": "code",
   "execution_count": null,
   "id": "democratic-rubber",
   "metadata": {},
   "outputs": [],
   "source": [
    "import rosbag\n",
    "bag_name = ... # Podać nazwę zarejestrowanego baga z Zadania 1\n",
    "bag = rosbag.Bag(bag_name) \n",
    "print(\"Surowe dane o topicach i ich typach \\n\")\n",
    "print(bag.get_type_and_topic_info())\n",
    "print(\"------------\")\n",
    "\n",
    "print(\"Zarejestrowane: \\n\")\n",
    "for data in bag.get_type_and_topic_info()[1].keys():\n",
    "    print(data)\n",
    "print(\"------------\")\n",
    "\n",
    "print(\"topic wraz z typem \\n\")\n",
    "print(\"nazwa          typ\")\n",
    "for data in bag.get_type_and_topic_info()[1].keys():\n",
    "    print(data + \"   \" + bag.get_type_and_topic_info()[1][data][0])\n",
    "\n",
    "print(\"------------\")\n",
    "print(\"Typ wiadomosci\\n\")\n",
    "\n",
    "!rosmsg info turtlesim/Pose"
   ]
  },
  {
   "cell_type": "markdown",
   "id": "hollow-marsh",
   "metadata": {},
   "source": [
    "#### Ograniczenie liczby wiadomości w bagu"
   ]
  },
  {
   "cell_type": "code",
   "execution_count": null,
   "id": "likely-intermediate",
   "metadata": {},
   "outputs": [],
   "source": [
    "import rosbag\n",
    "\n",
    "num_msgs = 100 # ograniczenie do 100 wiadomości\n",
    "\n",
    "with rosbag.Bag('output.bag', 'w') as outbag:\n",
    "    bag_name = ... # Podać nazwę zarejestrowanego baga z Zadania 1 \n",
    "    for topic, msg, t in rosbag.Bag(bag_name).read_messages():\n",
    "        while num_msgs:\n",
    "            outbag.write(topic, msg, t)\n",
    "            num_msgs -= 1\n",
    "\n",
    "bag = rosbag.Bag('output.bag')\n",
    "print(\"Surowe dane o topicach i ich typach \\n\")\n",
    "print(bag.get_type_and_topic_info()) # w message_count (liczba wiadomości) \n",
    "                                     # powinna pojawić się wartość 100"
   ]
  },
  {
   "cell_type": "markdown",
   "id": "satisfied-vermont",
   "metadata": {},
   "source": [
    "Po przepisaniu i ograniczeniu wiadomości powinien pojawić się nowy bag o nazwie \"output.bag\""
   ]
  },
  {
   "cell_type": "code",
   "execution_count": null,
   "id": "arbitrary-pound",
   "metadata": {},
   "outputs": [],
   "source": [
    "!ls "
   ]
  },
  {
   "cell_type": "markdown",
   "id": "liable-reach",
   "metadata": {},
   "source": [
    "### Export danych do CSV"
   ]
  },
  {
   "cell_type": "code",
   "execution_count": null,
   "id": "developed-drill",
   "metadata": {},
   "outputs": [],
   "source": [
    "import csv # biblioteka do obsługi plików CSV\n",
    "import rosbag\n",
    "import rospy\n",
    "\n",
    "bag_name = ... # Podać nazwę zarejestrowanego baga z Zadania 1\n",
    "\n",
    "def create_pose_csv_file(bag_name, file_name, pose_topic_name):\n",
    "    # Utworzenie pliku o podanej nazwie file_name i zapisywanie danych do pliku\n",
    "    bag = rosbag.Bag(bag_name)\n",
    "    with open(file_name, mode='w') as data_file:\n",
    "        data_writer = csv.writer(data_file, delimiter=',')\n",
    "        # Ustawienie nagłówka\n",
    "        data_writer.writerow(['pose x', 'pose y']) \n",
    "\n",
    "        # W każdej iteracji pętli odczytywana jest kolejna wiadomość, która pojawiła\n",
    "        # się na topicu /robot1/pose\n",
    "        for topic, msg, t in bag.read_messages(topics=[pose_topic_name]):\n",
    "            # Zapis położenia x,y robota do pliku\n",
    "            data_writer.writerow([msg.x, msg.y])\n",
    "    bag.close()\n",
    "\n",
    "# Utworzenie plikow z danymi dla robota 1 i 2\n",
    "create_pose_csv_file(bag_name, 'pose_data_robot_1.csv', '/robot1/pose')\n",
    "create_pose_csv_file(bag_name, 'pose_data_robot_2.csv', '/robot2/pose')"
   ]
  },
  {
   "cell_type": "markdown",
   "id": "controversial-hypothetical",
   "metadata": {},
   "source": [
    "### Odczyt danych z pliku CSV i generowanie wykresu"
   ]
  },
  {
   "cell_type": "code",
   "execution_count": null,
   "id": "loving-crack",
   "metadata": {},
   "outputs": [],
   "source": [
    "import csv \n",
    "\n",
    "def get_robot_pose(file_name):\n",
    "    # Zmienne x,y przechowujące informacje o położeniu robota.\n",
    "    x = []\n",
    "    y = []\n",
    "    # Otworzenie zapisanego pliku\n",
    "    with open(file_name) as csv_file:\n",
    "        csv_reader = csv.reader(csv_file, delimiter=',')\n",
    "        line_count = 0\n",
    "        # Pętla do iteracji po kolejnych wierszach pliku\n",
    "        for row in csv_reader:\n",
    "            if line_count == 0:\n",
    "                #print(\"{}    {}\".format(row[0], row[1]))\n",
    "                line_count += 1\n",
    "            else:\n",
    "                #print(\" {:.2f}      {:.2f} \".format(float(row[0]),float(row[1])))\n",
    "                line_count += 1\n",
    "                # Dopisanie na końcu listy kolejnego odczytanego położenia x, y\n",
    "                x.append(float(row[0]))\n",
    "                y.append(float(row[1]))\n",
    "    return x, y\n",
    "\n",
    "# Odebranie informacji oddzielnie o położeniu x,y z powyższej funkcji zwracającej oddzielnie\n",
    "# listę dla współrzędnych x i y.\n",
    "pose_r1 = get_robot_pose('pose_data_robot_1.csv')\n",
    "x = pose_r1[0]\n",
    "y = pose_r1[1]"
   ]
  },
  {
   "cell_type": "code",
   "execution_count": null,
   "id": "coral-terminology",
   "metadata": {},
   "outputs": [],
   "source": [
    "import matplotlib.pyplot as plt\n",
    "# Odczyt danych o położeniu dla robota 1 i2 \n",
    "pose_r1 = get_robot_pose('pose_data_robot_1.csv')\n",
    "pose_r2 = get_robot_pose('pose_data_robot_2.csv')\n",
    "# dane do wyświetlenia\n",
    "path1, = plt.plot(pose_r1[0],pose_r1[1], label=\"robot1\")\n",
    "path2, = plt.plot(pose_r2[0],pose_r2[1], label=\"robot2\")\n",
    "# ustawienie legendy\n",
    "plt.legend(handles=[path1,path2])\n",
    "# ustawienie nazw osi\n",
    "plt.xlabel(\"x pose\")\n",
    "plt.ylabel(\"y pose\")\n",
    "#ustawienie tutułu wykresu\n",
    "plt.title(\"Polozenia robotow\")\n",
    "# wyświetlenie wykresu\n",
    "plt.show()"
   ]
  },
  {
   "cell_type": "markdown",
   "id": "direct-ebony",
   "metadata": {},
   "source": [
    "#### Zadanie 4\n",
    "Wygenerować wykres dla baga z prędkościami dla 3 robotów. Kolejne kroki do wykonania:\n",
    "1. Zarejestrowanie rosbaga z prędkościami (w ćwiczeniach pojawił się, ale jeśli został usunięty to nagrać jeszcze raz)\n",
    "2. Analogicznie do funkcji **create_pose_csv_file(bag_name, file_name, pose_topic_name)** odpowiadającej za tworzenie plików z informacją o położeniach robotów napisać funkcję do tworzenia plików zawierających informacje o prędkościach sterujących robotów.\n",
    "- zmienić nazwę nagłowka przy zapisie do pliku, w jednej kolumnie są zapisywane prędkości postępowe (liniowa x), a w drugiej obrotowe (kątowa z)\n",
    "- sprawdzić typ wiadomości dla prędkości i jej strukturę\n",
    "- na podstawie tej informacji zmienić przy zapisie odczyt odtrzymanych informacji w zmiennej **msg**\n",
    "3. Analogicznie do funkcji **get_robot_pose(file_name)** odpowiadającej za odczyt danych z plików o położeniu napisać funkcję do odczytu informacji o prędkościach postępowych i obrotowych. Zmienić nazwy i komentarze tak, aby nazwy odnosiły się do prędkości.\n",
    "4. Narysować wykresy oddzielnie dla prędkości postępowej i obrotowej\n",
    "- zmienić nazwy osi, tytuł wykresu\n",
    "- na osi x znajduje się index kolejnej wiadomości\n",
    "- na osi y pojawia się wartość prędkości\n",
    "- Użycie metody plot z jednym argumentem spowoduje wyświetlenie odczytanych wartości na osi Y, a na osi X będą kolejne wartości odpowiadające indeksowi odczytanej wartości. \n",
    "\n",
    "**plt.plot(data_value, label=\"robot1\")**"
   ]
  },
  {
   "cell_type": "code",
   "execution_count": null,
   "id": "favorite-hospital",
   "metadata": {},
   "outputs": [],
   "source": []
  }
 ],
 "metadata": {
  "kernelspec": {
   "display_name": "Python 3",
   "language": "python",
   "name": "python3"
  },
  "language_info": {
   "codemirror_mode": {
    "name": "ipython",
    "version": 3
   },
   "file_extension": ".py",
   "mimetype": "text/x-python",
   "name": "python",
   "nbconvert_exporter": "python",
   "pygments_lexer": "ipython3",
   "version": "3.8.5"
  }
 },
 "nbformat": 4,
 "nbformat_minor": 5
}
