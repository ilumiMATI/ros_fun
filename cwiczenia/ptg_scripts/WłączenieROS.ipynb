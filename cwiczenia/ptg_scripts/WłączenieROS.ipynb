{
 "cells": [
  {
   "cell_type": "code",
   "execution_count": null,
   "id": "extensive-oklahoma",
   "metadata": {},
   "outputs": [
    {
     "name": "stdout",
     "output_type": "stream",
     "text": [
      "... logging to /home/ubuntu/.ros/log/642d895c-dc46-11eb-9461-0242ac130002/roslaunch-c2fcec522b94-1135.log\n",
      "Checking log directory for disk usage. This may take a while.\n",
      "Press Ctrl-C to interrupt\n",
      "Done checking log file disk usage. Usage is <1GB.\n",
      "\u001b]2;roscore\u0007\n",
      "\u001b[1mstarted roslaunch server http://localhost:42195/\u001b[0m\n",
      "ros_comm version 1.15.9\n",
      "\n",
      "\n",
      "SUMMARY\n",
      "========\n",
      "\n",
      "PARAMETERS\n",
      " * /rosdistro: noetic\n",
      " * /rosversion: 1.15.9\n",
      "\n",
      "NODES\n",
      "\n",
      "auto-starting new master\n",
      "\u001b[1mprocess[master]: started with pid [1143]\u001b[0m\n",
      "\u001b[1mROS_MASTER_URI=http://localhost:11311/\u001b[0m\n",
      "\u001b]2;roscore http://localhost:11311/\u0007\n",
      "\u001b[1msetting /run_id to 642d895c-dc46-11eb-9461-0242ac130002\u001b[0m\n",
      "\u001b[1mprocess[rosout-1]: started with pid [1153]\u001b[0m\n",
      "started core service [/rosout]\n"
     ]
    }
   ],
   "source": [
    "!roscore"
   ]
  },
  {
   "cell_type": "code",
   "execution_count": null,
   "id": "compound-watson",
   "metadata": {},
   "outputs": [],
   "source": []
  }
 ],
 "metadata": {
  "kernelspec": {
   "display_name": "Python 3",
   "language": "python",
   "name": "python3"
  },
  "language_info": {
   "codemirror_mode": {
    "name": "ipython",
    "version": 3
   },
   "file_extension": ".py",
   "mimetype": "text/x-python",
   "name": "python",
   "nbconvert_exporter": "python",
   "pygments_lexer": "ipython3",
   "version": "3.8.5"
  }
 },
 "nbformat": 4,
 "nbformat_minor": 5
}
