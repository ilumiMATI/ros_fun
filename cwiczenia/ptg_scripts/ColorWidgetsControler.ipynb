{
 "cells": [
  {
   "cell_type": "code",
   "execution_count": 1,
   "id": "bronze-queens",
   "metadata": {},
   "outputs": [],
   "source": [
    "import rospy\n",
    "import ipywidgets as widgets\n",
    "from std_srvs.srv import Empty\n",
    "\n",
    "rospy.init_node(\"Color_Controler\")"
   ]
  },
  {
   "cell_type": "code",
   "execution_count": 2,
   "id": "afraid-loading",
   "metadata": {},
   "outputs": [],
   "source": [
    "clear = rospy.ServiceProxy('clear',Empty)\n",
    "def set_color(r = 255, g = 255, b = 255):\n",
    "    rospy.set_param(\"turtlesim\",{\n",
    "        \"background_r\":r,\n",
    "        \"background_g\":g,\n",
    "        \"background_b\":b\n",
    "    })\n",
    "    clear()"
   ]
  },
  {
   "cell_type": "code",
   "execution_count": 3,
   "id": "composite-hudson",
   "metadata": {},
   "outputs": [
    {
     "data": {
      "application/vnd.jupyter.widget-view+json": {
       "model_id": "fe4382c3fdff4f04be698c0ba1665af6",
       "version_major": 2,
       "version_minor": 0
      },
      "text/plain": [
       "interactive(children=(FloatSlider(value=0.0, description='r', max=255.0), FloatSlider(value=0.0, description='…"
      ]
     },
     "metadata": {},
     "output_type": "display_data"
    },
    {
     "data": {
      "text/plain": [
       "<function __main__.set_color(r=255, g=255, b=255)>"
      ]
     },
     "execution_count": 3,
     "metadata": {},
     "output_type": "execute_result"
    }
   ],
   "source": [
    "widgets.interact(set_color,\n",
    "                r = widgets.FloatSlider(min=0,max=255,step=0.1,value=0),\n",
    "                g = widgets.FloatSlider(min=0,max=255,step=0.1,value=0),\n",
    "                b = widgets.FloatSlider(min=0,max=255,step=0.1,value=0)\n",
    "                )"
   ]
  },
  {
   "cell_type": "code",
   "execution_count": null,
   "id": "naval-least",
   "metadata": {},
   "outputs": [],
   "source": []
  }
 ],
 "metadata": {
  "kernelspec": {
   "display_name": "Python 3",
   "language": "python",
   "name": "python3"
  },
  "language_info": {
   "codemirror_mode": {
    "name": "ipython",
    "version": 3
   },
   "file_extension": ".py",
   "mimetype": "text/x-python",
   "name": "python",
   "nbconvert_exporter": "python",
   "pygments_lexer": "ipython3",
   "version": "3.8.5"
  }
 },
 "nbformat": 4,
 "nbformat_minor": 5
}
