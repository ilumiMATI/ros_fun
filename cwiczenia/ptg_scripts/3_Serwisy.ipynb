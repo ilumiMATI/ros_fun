{
 "cells": [
  {
   "cell_type": "markdown",
   "metadata": {},
   "source": [
    "# Obsługa ROS Service\n",
    "\n",
    "## Używanie komend z terminala\n",
    "\n",
    "### Wprowadzenie\n",
    "\n",
    "ROS Service jest kolejnym sposobem komunikacji. Zaletą serwisów jest możliwość wysłania zapytania do serwera. Podobnie jak dla ROS topic należy znać format wiadomości. Serwisy w danej paczce ROS przechowywane są w katalogu srv, a rozszerzenie serwisu to **.srv**. \n",
    "\n",
    "#### Struktura wiadomości serwisowej\n",
    "\n",
    "Wyróżnia się podział na format wiadomości:\n",
    "- wysyłany przez klienta (górna część wiadomości nad znakiem **---**)\n",
    "- odpowiedź serwera (dolna część wiadomości pod znakiem **---**)\n",
    "\n",
    "Z lewej strony należy podać typ wiadomości ROS. Mogą być one bardziej złożone i składać się z już utworzonych\n",
    "wiadomości (ROS msg). Z prawej strony podawana jest nazwa pola.\n",
    "\n",
    "Typ serwisu to **nazwa paczki + nazwa serwisu.srv**. Wyświetlenie przykładowego serwisu znajdującego się w paczce tsr_materials:"
   ]
  },
  {
   "cell_type": "code",
   "execution_count": 1,
   "metadata": {},
   "outputs": [
    {
     "name": "stdout",
     "output_type": "stream",
     "text": [
      "float64 x\r\n",
      "float64 y\r\n",
      "---\r\n",
      "string result\r\n",
      "\r\n"
     ]
    }
   ],
   "source": [
    "!rossrv show pkg_tsr/Task"
   ]
  },
  {
   "cell_type": "markdown",
   "metadata": {},
   "source": [
    "#### Wyświetlanie listy aktualnie dostępnych serwisów"
   ]
  },
  {
   "cell_type": "code",
   "execution_count": 2,
   "metadata": {},
   "outputs": [
    {
     "name": "stdout",
     "output_type": "stream",
     "text": [
      "/PositionUpdater_5115_1619277478157/get_loggers\r\n",
      "/PositionUpdater_5115_1619277478157/set_logger_level\r\n",
      "/clear\r\n",
      "/kill\r\n",
      "/reset\r\n",
      "/rosout/get_loggers\r\n",
      "/rosout/set_logger_level\r\n",
      "/rostopic_4284_1619275916185/get_loggers\r\n",
      "/rostopic_4284_1619275916185/set_logger_level\r\n",
      "/spawn\r\n",
      "/teleop_turtle/get_loggers\r\n",
      "/teleop_turtle/set_logger_level\r\n",
      "/turtle1/set_pen\r\n",
      "/turtle1/teleport_absolute\r\n",
      "/turtle1/teleport_relative\r\n",
      "/turtlesim/get_loggers\r\n",
      "/turtlesim/set_logger_level\r\n"
     ]
    }
   ],
   "source": [
    "!rosservice list"
   ]
  },
  {
   "cell_type": "markdown",
   "metadata": {},
   "source": [
    "#### Wyświetlanie dostępnej pomocy dla polecenia rosservice."
   ]
  },
  {
   "cell_type": "code",
   "execution_count": 2,
   "metadata": {},
   "outputs": [
    {
     "name": "stdout",
     "output_type": "stream",
     "text": [
      "Commands:\r\n",
      "\trosservice args\tprint service arguments\r\n",
      "\trosservice call\tcall the service with the provided args\r\n",
      "\trosservice find\tfind services by service type\r\n",
      "\trosservice info\tprint information about service\r\n",
      "\trosservice list\tlist active services\r\n",
      "\trosservice type\tprint service type\r\n",
      "\trosservice uri\tprint service ROSRPC uri\r\n",
      "\r\n",
      "Type rosservice <command> -h for more detailed usage, e.g. 'rosservice call -h'\r\n",
      "\r\n"
     ]
    }
   ],
   "source": [
    "!rosservice --help"
   ]
  },
  {
   "cell_type": "markdown",
   "metadata": {},
   "source": [
    "### Dostępne serwisy dla turtlesim node"
   ]
  },
  {
   "cell_type": "markdown",
   "metadata": {},
   "source": [
    "W podstawowym zakresie dostępne są następujące serwisy bez względu na robota:\n",
    "- /clear - wyczyszczenie narysowanych ścieżek\n",
    "- /kill - usunięcie robota\n",
    "- /reset - reset środowiska do stanu początkowego\n",
    "- /spawn - utworzenie nowego robota\n",
    "\n",
    "Dla pojedynczego utworzonego robota w przestrzeni nazw na przykładzie **turtle1** dostępne są nastpujące serwisy:\n",
    "- /turtle1/set_pen - ustawienie koloru pędzla do rysowania\n",
    "- /turtle1/teleport_absolute - natychmiastowe przeniesienie robota do wskazanej lokalizacji\n",
    "- /turtle1/teleport_relative - przeniesienie robota, współrzędne podawane w układzie robota"
   ]
  },
  {
   "cell_type": "markdown",
   "metadata": {},
   "source": [
    "Wyświetlenie informacji o serwisie \"clear\". Informuje o nazwie noda z którego pochodzi serwis, typie wiadomości i przyjmowanych argumentach."
   ]
  },
  {
   "cell_type": "code",
   "execution_count": 3,
   "metadata": {
    "scrolled": true
   },
   "outputs": [
    {
     "name": "stdout",
     "output_type": "stream",
     "text": [
      "Node: /turtlesim\r\n",
      "URI: rosrpc://localhost:54857\r\n",
      "Type: std_srvs/Empty\r\n",
      "Args: \r\n"
     ]
    }
   ],
   "source": [
    "!rosservice info clear"
   ]
  },
  {
   "cell_type": "markdown",
   "metadata": {},
   "source": [
    "#### Zadanie 1\n",
    "Wyświetlić informacje dla pozostałych serwisów"
   ]
  },
  {
   "cell_type": "code",
   "execution_count": 3,
   "metadata": {
    "scrolled": true
   },
   "outputs": [
    {
     "name": "stdout",
     "output_type": "stream",
     "text": [
      "Node: /turtlesim\r\n",
      "URI: rosrpc://localhost:37269\r\n",
      "Type: turtlesim/Kill\r\n",
      "Args: name\r\n"
     ]
    }
   ],
   "source": [
    "!rosservice info kill"
   ]
  },
  {
   "cell_type": "code",
   "execution_count": 4,
   "metadata": {},
   "outputs": [
    {
     "name": "stdout",
     "output_type": "stream",
     "text": [
      "Node: /turtlesim\r\n",
      "URI: rosrpc://localhost:37269\r\n",
      "Type: std_srvs/Empty\r\n",
      "Args: \r\n"
     ]
    }
   ],
   "source": [
    "!rosservice info reset"
   ]
  },
  {
   "cell_type": "code",
   "execution_count": 5,
   "metadata": {},
   "outputs": [
    {
     "name": "stdout",
     "output_type": "stream",
     "text": [
      "Node: /turtlesim\r\n",
      "URI: rosrpc://localhost:37269\r\n",
      "Type: turtlesim/Spawn\r\n",
      "Args: x y theta name\r\n"
     ]
    }
   ],
   "source": [
    "!rosservice info spawn"
   ]
  },
  {
   "cell_type": "code",
   "execution_count": 6,
   "metadata": {},
   "outputs": [
    {
     "name": "stdout",
     "output_type": "stream",
     "text": [
      "Node: /turtlesim\r\n",
      "URI: rosrpc://localhost:37269\r\n",
      "Type: turtlesim/SetPen\r\n",
      "Args: r g b width off\r\n"
     ]
    }
   ],
   "source": [
    "!rosservice info turtle1/set_pen"
   ]
  },
  {
   "cell_type": "code",
   "execution_count": 7,
   "metadata": {},
   "outputs": [
    {
     "name": "stdout",
     "output_type": "stream",
     "text": [
      "Node: /turtlesim\r\n",
      "URI: rosrpc://localhost:37269\r\n",
      "Type: turtlesim/TeleportAbsolute\r\n",
      "Args: x y theta\r\n"
     ]
    }
   ],
   "source": [
    "!rosservice info turtle1/teleport_absolute"
   ]
  },
  {
   "cell_type": "code",
   "execution_count": 8,
   "metadata": {},
   "outputs": [
    {
     "name": "stdout",
     "output_type": "stream",
     "text": [
      "Node: /turtlesim\r\n",
      "URI: rosrpc://localhost:37269\r\n",
      "Type: turtlesim/TeleportRelative\r\n",
      "Args: linear angular\r\n"
     ]
    }
   ],
   "source": [
    "!rosservice info turtle1/teleport_relative"
   ]
  },
  {
   "cell_type": "markdown",
   "metadata": {},
   "source": [
    "### Wywołanie serwisu"
   ]
  },
  {
   "cell_type": "markdown",
   "metadata": {},
   "source": [
    "Do wywołania serwisu używamy rosservice call a następnie w kolejności podajemy argumenty\n",
    "\n",
    "*rosservice call argument1 argument2 ...*\n",
    "\n",
    "**Uwaga! Współrzędne x,y powinny być z przedziału <0,11>**\n",
    "\n",
    "Tworzenie nowego robota."
   ]
  },
  {
   "cell_type": "code",
   "execution_count": 11,
   "metadata": {},
   "outputs": [
    {
     "name": "stdout",
     "output_type": "stream",
     "text": [
      "name: \"NowyRobot\"\r\n"
     ]
    }
   ],
   "source": [
    "!rosservice call spawn 5 5 1 NowyRobot"
   ]
  },
  {
   "cell_type": "markdown",
   "metadata": {},
   "source": [
    "#### Zadanie 2\n",
    "Utworzyć dodatkowe 2 roboty o różnych nazwach w różnych miejscach"
   ]
  },
  {
   "cell_type": "code",
   "execution_count": 12,
   "metadata": {},
   "outputs": [
    {
     "name": "stdout",
     "output_type": "stream",
     "text": [
      "name: \"Arcio\"\n",
      "name: \"Benek\"\n"
     ]
    }
   ],
   "source": [
    "!rosservice call spawn 2 2 2 Arcio\n",
    "!rosservice call spawn 10 2 2 Benek"
   ]
  },
  {
   "cell_type": "markdown",
   "metadata": {},
   "source": [
    "#### Zadanie 3\n",
    "Narysować dowolnym robotem kwadrat wykorzystując serwis /*nazwa_robota*/teleport_absolute"
   ]
  },
  {
   "cell_type": "code",
   "execution_count": 14,
   "metadata": {},
   "outputs": [
    {
     "name": "stdout",
     "output_type": "stream",
     "text": [
      "\n",
      "\n",
      "\n",
      "\n"
     ]
    }
   ],
   "source": [
    "!rosservice call /Benek/teleport_absolute 10 10 2\n",
    "!rosservice call /Benek/teleport_absolute 2 10 2\n",
    "!rosservice call /Benek/teleport_absolute 2 2 2\n",
    "!rosservice call /Benek/teleport_absolute 10 2 2"
   ]
  },
  {
   "cell_type": "markdown",
   "metadata": {},
   "source": [
    "#### Zadanie 4\n",
    "Usunąć wszystkie roboty. "
   ]
  },
  {
   "cell_type": "code",
   "execution_count": 15,
   "metadata": {},
   "outputs": [
    {
     "name": "stdout",
     "output_type": "stream",
     "text": [
      "\n",
      "\n",
      "\n",
      "\n"
     ]
    }
   ],
   "source": [
    "!rosservice call kill turtle1\n",
    "!rosservice call kill NowyRobot\n",
    "!rosservice call kill Benek\n",
    "!rosservice call kill Arcio"
   ]
  },
  {
   "cell_type": "markdown",
   "metadata": {},
   "source": [
    "## Używanie serwisów w Pythonie - klient"
   ]
  },
  {
   "cell_type": "code",
   "execution_count": 4,
   "metadata": {},
   "outputs": [
    {
     "name": "stdout",
     "output_type": "stream",
     "text": [
      "Unable to register with master node [http://localhost:11311]: master may not be running yet. Will keep trying.\n"
     ]
    },
    {
     "ename": "ROSInitException",
     "evalue": "Failed to initialize time. Please check logs for additional details",
     "output_type": "error",
     "traceback": [
      "\u001b[0;31m---------------------------------------------------------------------------\u001b[0m",
      "\u001b[0;31mROSInitException\u001b[0m                          Traceback (most recent call last)",
      "\u001b[0;32m<ipython-input-4-9d2a2fd21fbe>\u001b[0m in \u001b[0;36m<module>\u001b[0;34m\u001b[0m\n\u001b[1;32m      1\u001b[0m \u001b[0;32mimport\u001b[0m \u001b[0mrospy\u001b[0m\u001b[0;34m\u001b[0m\u001b[0;34m\u001b[0m\u001b[0m\n\u001b[0;32m----> 2\u001b[0;31m \u001b[0mrospy\u001b[0m\u001b[0;34m.\u001b[0m\u001b[0minit_node\u001b[0m\u001b[0;34m(\u001b[0m\u001b[0;34m\"serwis_node_test\"\u001b[0m\u001b[0;34m)\u001b[0m\u001b[0;34m\u001b[0m\u001b[0;34m\u001b[0m\u001b[0m\n\u001b[0m",
      "\u001b[0;32m/opt/ros/noetic/lib/python3/dist-packages/rospy/client.py\u001b[0m in \u001b[0;36minit_node\u001b[0;34m(name, argv, anonymous, log_level, disable_rostime, disable_rosout, disable_signals, xmlrpc_port, tcpros_port)\u001b[0m\n\u001b[1;32m    334\u001b[0m     \u001b[0;32mif\u001b[0m \u001b[0;32mnot\u001b[0m \u001b[0mdisable_rostime\u001b[0m\u001b[0;34m:\u001b[0m\u001b[0;34m\u001b[0m\u001b[0;34m\u001b[0m\u001b[0m\n\u001b[1;32m    335\u001b[0m         \u001b[0;32mif\u001b[0m \u001b[0;32mnot\u001b[0m \u001b[0mrospy\u001b[0m\u001b[0;34m.\u001b[0m\u001b[0mimpl\u001b[0m\u001b[0;34m.\u001b[0m\u001b[0msimtime\u001b[0m\u001b[0;34m.\u001b[0m\u001b[0minit_simtime\u001b[0m\u001b[0;34m(\u001b[0m\u001b[0;34m)\u001b[0m\u001b[0;34m:\u001b[0m\u001b[0;34m\u001b[0m\u001b[0;34m\u001b[0m\u001b[0m\n\u001b[0;32m--> 336\u001b[0;31m             \u001b[0;32mraise\u001b[0m \u001b[0mrospy\u001b[0m\u001b[0;34m.\u001b[0m\u001b[0mexceptions\u001b[0m\u001b[0;34m.\u001b[0m\u001b[0mROSInitException\u001b[0m\u001b[0;34m(\u001b[0m\u001b[0;34m\"Failed to initialize time. Please check logs for additional details\"\u001b[0m\u001b[0;34m)\u001b[0m\u001b[0;34m\u001b[0m\u001b[0;34m\u001b[0m\u001b[0m\n\u001b[0m\u001b[1;32m    337\u001b[0m     \u001b[0;32melse\u001b[0m\u001b[0;34m:\u001b[0m\u001b[0;34m\u001b[0m\u001b[0;34m\u001b[0m\u001b[0m\n\u001b[1;32m    338\u001b[0m         \u001b[0mrospy\u001b[0m\u001b[0;34m.\u001b[0m\u001b[0mrostime\u001b[0m\u001b[0;34m.\u001b[0m\u001b[0mset_rostime_initialized\u001b[0m\u001b[0;34m(\u001b[0m\u001b[0;32mTrue\u001b[0m\u001b[0;34m)\u001b[0m\u001b[0;34m\u001b[0m\u001b[0;34m\u001b[0m\u001b[0m\n",
      "\u001b[0;31mROSInitException\u001b[0m: Failed to initialize time. Please check logs for additional details"
     ]
    }
   ],
   "source": [
    "import rospy\n",
    "rospy.init_node(\"serwis_node_test\")"
   ]
  },
  {
   "cell_type": "markdown",
   "metadata": {},
   "source": [
    "Serwis */clear* do czyszczenia mapy, bez argumentów. Po stronie klienta do obsługi serwisu używamy *ServiceProxy* z biblioteki *rospy*. Jako pierwszy argument podawana jest nazwa serwisu z którego ma być odebrana odpowiedź, a jako drugi argument podawany jest typ serwisu."
   ]
  },
  {
   "cell_type": "code",
   "execution_count": 18,
   "metadata": {},
   "outputs": [],
   "source": [
    "#import serwisu\n",
    "from std_srvs.srv import Empty"
   ]
  },
  {
   "cell_type": "code",
   "execution_count": 19,
   "metadata": {},
   "outputs": [
    {
     "data": {
      "text/plain": []
     },
     "execution_count": 19,
     "metadata": {},
     "output_type": "execute_result"
    }
   ],
   "source": [
    "clear_map = rospy.ServiceProxy('clear', Empty)\n",
    "clear_map()"
   ]
  },
  {
   "cell_type": "markdown",
   "metadata": {},
   "source": [
    "Czysczenie przestrzeni z robotów */reset*"
   ]
  },
  {
   "cell_type": "code",
   "execution_count": 20,
   "metadata": {},
   "outputs": [
    {
     "data": {
      "text/plain": []
     },
     "execution_count": 20,
     "metadata": {},
     "output_type": "execute_result"
    }
   ],
   "source": [
    "reset_sim_state = rospy.ServiceProxy('reset', Empty)\n",
    "reset_sim_state()"
   ]
  },
  {
   "cell_type": "markdown",
   "metadata": {},
   "source": [
    "Używanie serwisu z argumentami na przykładzie */spawn*.  Kolejne argumenty polecenia podajemy po przecinku."
   ]
  },
  {
   "cell_type": "code",
   "execution_count": 22,
   "metadata": {},
   "outputs": [],
   "source": [
    "from turtlesim.srv import Spawn"
   ]
  },
  {
   "cell_type": "code",
   "execution_count": 23,
   "metadata": {},
   "outputs": [
    {
     "data": {
      "text/plain": [
       "name: \"t8\""
      ]
     },
     "execution_count": 23,
     "metadata": {},
     "output_type": "execute_result"
    }
   ],
   "source": [
    "create_new_robot = rospy.ServiceProxy('spawn', Spawn)\n",
    "create_new_robot(3, 3, 0, \"t8\")"
   ]
  },
  {
   "cell_type": "markdown",
   "metadata": {},
   "source": [
    "#### Zadanie 5\n",
    "Ustawić kolor pędzla na czerwony dla nowo utworzonego robota używając kodu w Pythonie"
   ]
  },
  {
   "cell_type": "code",
   "execution_count": 27,
   "metadata": {},
   "outputs": [
    {
     "data": {
      "text/plain": []
     },
     "execution_count": 27,
     "metadata": {},
     "output_type": "execute_result"
    }
   ],
   "source": [
    "# UZUPEŁNIĆ\n",
    "from turtlesim.srv import SetPen\n",
    "set_pen = rospy.ServiceProxy('/t8/set_pen',SetPen)\n",
    "set_pen(255,0,0,20,0)"
   ]
  },
  {
   "cell_type": "markdown",
   "metadata": {},
   "source": [
    "#### Zadanie 6\n",
    "Tak jak wcześniej narysować kwadrat, ale wykorzystując program w Pythonie."
   ]
  },
  {
   "cell_type": "code",
   "execution_count": 28,
   "metadata": {},
   "outputs": [
    {
     "data": {
      "text/plain": []
     },
     "execution_count": 28,
     "metadata": {},
     "output_type": "execute_result"
    }
   ],
   "source": [
    "# UZUPEŁNIĆ\n",
    "from turtlesim.srv import TeleportAbsolute\n",
    "tp = rospy.ServiceProxy('/t8/teleport_absolute',TeleportAbsolute)\n",
    "tp(3,8,0)\n",
    "tp(8,8,0)\n",
    "tp(8,3,0)\n",
    "tp(3,3,0)"
   ]
  },
  {
   "cell_type": "markdown",
   "metadata": {},
   "source": [
    "## Używanie serwisów w Pythonie - serwer"
   ]
  },
  {
   "cell_type": "code",
   "execution_count": 29,
   "metadata": {},
   "outputs": [
    {
     "name": "stdout",
     "output_type": "stream",
     "text": [
      "\r\n"
     ]
    }
   ],
   "source": [
    "!rosservice call reset"
   ]
  },
  {
   "cell_type": "markdown",
   "metadata": {},
   "source": [
    "Po stronie serwera używamy obiektu *Service* z biblioteki *rospy*. W kolejności podajemy 3 następujące argumenty:\n",
    "    - nazwa serwisu\n",
    "    - typ serwisu\n",
    "    - nazwa funkcji, która ma zostać wywołan po pojawieniu się żądania od klienta na tym serwisie"
   ]
  },
  {
   "cell_type": "code",
   "execution_count": 30,
   "metadata": {},
   "outputs": [],
   "source": [
    "from pkg_tsr.srv import Task\n",
    "from turtlesim.srv import TeleportAbsolute\n",
    "from std_srvs.srv import Empty"
   ]
  },
  {
   "cell_type": "code",
   "execution_count": 31,
   "metadata": {},
   "outputs": [],
   "source": [
    "def draw_square_function(req):\n",
    "    width = 5\n",
    "    print(\"Init pose x=%s, y=%s\" % (req.x, req.y))\n",
    "    set_pose = rospy.ServiceProxy('/turtle1/teleport_absolute', TeleportAbsolute)\n",
    "    clear_map = rospy.ServiceProxy('clear', Empty)\n",
    "    set_pose(req.x,req.y,0)\n",
    "    clear_map()\n",
    "    set_pose(req.x,req.y + width,0)\n",
    "    set_pose(req.x + width,req.y + width,0)\n",
    "    set_pose(req.x + width, req.y,0)\n",
    "    set_pose(req.x, req.y,0)\n",
    "    return \"finished\""
   ]
  },
  {
   "cell_type": "code",
   "execution_count": 32,
   "metadata": {},
   "outputs": [],
   "source": [
    "s = rospy.Service('robot_teleport', Task, draw_square_function)"
   ]
  },
  {
   "cell_type": "markdown",
   "metadata": {},
   "source": [
    "#### UWAGA\n",
    "Wyłączenie serwisu - gdy wprowadzone zostaną jakieś zmiany w funkcji serwisowej, aby nie restartować Kernela Jupyter Notebook, można poniższą metodą shutdown() zatrzymać działający serwis."
   ]
  },
  {
   "cell_type": "code",
   "execution_count": 35,
   "metadata": {},
   "outputs": [],
   "source": [
    "s.shutdown()"
   ]
  },
  {
   "cell_type": "markdown",
   "metadata": {},
   "source": [
    "#### Wynik działania powyższego serwisu"
   ]
  },
  {
   "cell_type": "code",
   "execution_count": 33,
   "metadata": {},
   "outputs": [
    {
     "name": "stdout",
     "output_type": "stream",
     "text": [
      "Init pose x=1.0, y=2.0\n"
     ]
    }
   ],
   "source": [
    "draw_square = rospy.ServiceProxy('robot_teleport', Task)\n",
    "resp = draw_square(1, 2)"
   ]
  },
  {
   "cell_type": "markdown",
   "metadata": {},
   "source": [
    "Odczyt otrzymanej wartości z serwera"
   ]
  },
  {
   "cell_type": "code",
   "execution_count": 34,
   "metadata": {},
   "outputs": [
    {
     "data": {
      "text/plain": [
       "'finished'"
      ]
     },
     "execution_count": 34,
     "metadata": {},
     "output_type": "execute_result"
    }
   ],
   "source": [
    "resp.result"
   ]
  },
  {
   "cell_type": "markdown",
   "metadata": {},
   "source": [
    "#### Zadanie 7\n",
    "1. Należy uzupełnić metodę **go_to_goal()** odpowiadającą za dojazd do punktu o podanych współrzędnych. W klasie Robot znajduje się serwis odpowiedzialny za wywołanie tej metody. Serwis korzysta z typu **tsr_materials/Task.srv**. W zapytaniu od klienta w polach x,y należy przesłać współrzędne celu. W odpowiedzi na zapytanie klienta należy odesłać informację o zakończeniu działania. Metoda powinna wysyłać odpowiednie prędkości sterujące robotem (postępową i obrotową)na topicu **/nazwa_robot/cmd_vel**. Należy ustawić wartość zmiennej od tolerancji dojazdu do celu (np.0.05) i skorzystać z niej przy dojeżdżaniu do celu. Dodatkowo powinny zostać uwzględnione ograniczenia prędkości (np. 0.3). \n",
    "2. Analogicznie do metody **go_to_goal** dołożyć inną metodę umożliwiającą dojazd do wskazanego punktu i rozpoczęcie ruchu po dowolnej krzywej np. łamana, spirala, okrąg."
   ]
  },
  {
   "cell_type": "code",
   "execution_count": 36,
   "metadata": {},
   "outputs": [
    {
     "name": "stdout",
     "output_type": "stream",
     "text": [
      "\r\n"
     ]
    }
   ],
   "source": [
    "!rosservice call reset"
   ]
  },
  {
   "cell_type": "code",
   "execution_count": 1,
   "metadata": {},
   "outputs": [],
   "source": [
    "import rospy\n",
    "import numpy as np\n",
    "from turtlesim.srv import Spawn\n",
    "from turtlesim.msg import Pose\n",
    "from geometry_msgs.msg import Twist\n",
    "from pkg_tsr.srv import Task\n",
    "import math\n",
    "\n",
    "rospy.init_node(\"serwis_node_test\")"
   ]
  },
  {
   "cell_type": "code",
   "execution_count": 21,
   "metadata": {},
   "outputs": [],
   "source": [
    "class Robot():\n",
    "    position = Pose()\n",
    "    def __init__(self, name, x, y):\n",
    "        self.name = name\n",
    "        self.follow_service = rospy.Service(name+'/go_to_goal', Task, self.go_to_goal)\n",
    "        self.velocity_pub = rospy.Publisher(name+'/cmd_vel', Twist, queue_size=10)\n",
    "        self.pose_sub = rospy.Subscriber(name+'/pose',Pose, self.callback_pose)\n",
    "        \n",
    "        create_new_turtle = rospy.ServiceProxy('spawn', Spawn)\n",
    "        create_new_turtle(x, y, 0, name)\n",
    "        \n",
    "    def go_to_goal(self, msg_srv):\n",
    "        max_speed = 0.3\n",
    "        tolerance = 0.05\n",
    "        # UZUPEŁNIĆ - na podstawie informacji o położeniu publikować odpowiednie prędkości. Po osiągnięciu \n",
    "        # celu z zadaną tolerancją zwrócić informację, że zakończono. Do określania kierunku ruchu i wyznaczania\n",
    "        # prędkości mogą przydać się funkcje:\n",
    "        # - math.atan2(y,x)- zwraca \n",
    "        # - math.sqrt(x) - zwraca pierwiastek kwadratowy z x\n",
    "        while abs(math.atan2(msg_srv.y - self.position.y,msg_srv.x - self.position.x) - self.position.theta)>tolerance*0.01:\n",
    "            msg_vel = Twist()\n",
    "            msg_vel.angular.z = np.clip(0.2*(abs(math.atan2(msg_srv.y - self.position.y,msg_srv.x - self.position.x) - self.position.theta))+0.01,0,max_speed)\n",
    "            self.velocity_pub.publish(msg_vel)\n",
    "        while (math.sqrt((msg_srv.x - self.position.x)**2 + (msg_srv.y - self.position.y)**2)) > tolerance:\n",
    "            msg_vel = Twist()\n",
    "            msg_vel.linear.x = np.clip(0.5*math.sqrt((msg_srv.x - self.position.x)**2 + (msg_srv.y - self.position.y)**2)+0.025,0,max_speed)\n",
    "            self.velocity_pub.publish(msg_vel)\n",
    "        \n",
    "        return \"finished\"\n",
    "\n",
    "    \n",
    "    def callback_pose(self, data):\n",
    "        self.position = data\n",
    "    \n",
    "    def unregister(self):\n",
    "        self.follow_service.shutdown()"
   ]
  },
  {
   "cell_type": "code",
   "execution_count": 22,
   "metadata": {},
   "outputs": [
    {
     "data": {
      "text/plain": [
       "'finished'"
      ]
     },
     "execution_count": 22,
     "metadata": {},
     "output_type": "execute_result"
    }
   ],
   "source": [
    "# UZUPEŁNIĆ - utworzyć klienta i zlecić zadanie dojazdu do kilku różnych punktów\n",
    "robocik = Robot(\"Zenon5\",2,2)\n",
    "robocik.go_to_goal(Pose(5.5,8,0,0,0))\n",
    "robocik.go_to_goal(Pose(8,2,0,0,0))\n",
    "robocik.go_to_goal(Pose(2,2,0,0,0))\n"
   ]
  },
  {
   "cell_type": "code",
   "execution_count": 19,
   "metadata": {},
   "outputs": [
    {
     "name": "stdout",
     "output_type": "stream",
     "text": [
      "\r\n"
     ]
    }
   ],
   "source": [
    "robocik.unregister()\n",
    "!rosservice call reset"
   ]
  },
  {
   "cell_type": "code",
   "execution_count": 164,
   "metadata": {},
   "outputs": [
    {
     "data": {
      "text/plain": [
       "6.282185307512919"
      ]
     },
     "execution_count": 164,
     "metadata": {},
     "output_type": "execute_result"
    }
   ],
   "source": [
    "(math.atan2(-0.001,1)+2*np.pi) % (2*np.pi)"
   ]
  },
  {
   "cell_type": "markdown",
   "metadata": {},
   "source": [
    "## Dodatek"
   ]
  },
  {
   "cell_type": "markdown",
   "metadata": {},
   "source": [
    "Tworzenie własnych wiadomości serwisowych. W paczce znajduje się katalog srv w którym można utworzyć dodatkowe wiadomości serwisowe. Konfiguracja w przedstawionym dodatku ogranicza się do używania typów wiadomości z poniższego linku:\n",
    "\n",
    "http://docs.ros.org/en/melodic/api/std_msgs/html/index-msg.html"
   ]
  },
  {
   "cell_type": "code",
   "execution_count": 1,
   "metadata": {},
   "outputs": [
    {
     "name": "stdout",
     "output_type": "stream",
     "text": [
      "float64 x\r\n",
      "float64 y\r\n",
      "---\r\n",
      "string result\r\n",
      "\r\n"
     ]
    }
   ],
   "source": [
    "!rossrv show pkg_tsr/Task"
   ]
  },
  {
   "cell_type": "code",
   "execution_count": 2,
   "metadata": {},
   "outputs": [
    {
     "name": "stdout",
     "output_type": "stream",
     "text": [
      "float32 r\r\n",
      "float32 g\r\n",
      "float32 b\r\n",
      "float32 a\r\n",
      "\r\n"
     ]
    }
   ],
   "source": [
    "!rosmsg show std_msgs/ColorRGBA"
   ]
  },
  {
   "cell_type": "markdown",
   "metadata": {},
   "source": [
    "Przykładowo rozbudowany serwis o wiadomość typu ColorRGBA może wyglądać następująco. "
   ]
  },
  {
   "cell_type": "raw",
   "metadata": {},
   "source": [
    "float64 x\n",
    "float64 y\n",
    "ColorRGBA my_color\n",
    "---\n",
    "string result"
   ]
  },
  {
   "cell_type": "markdown",
   "metadata": {},
   "source": [
    "Dodanie nowej wiadomości wymaga zmian w plikach konfiguracyjnych paczki. Ze względu na przyjęte uproszczenie w \n",
    "konfiguracji w paczce tsr_materials w pliku **CMakeLists.txt** w miejscu (od 57 linii):"
   ]
  },
  {
   "cell_type": "raw",
   "metadata": {},
   "source": [
    "## Generate services in the 'srv' folder\n",
    " add_service_files(\n",
    "   FILES\n",
    "   Task.srv\n",
    "   Nowy.srv\n",
    "#   Service2.srv\n",
    " )"
   ]
  },
  {
   "cell_type": "markdown",
   "metadata": {},
   "source": [
    "Należy dopisać nazwę swojego serwisu jak powyżej. Zamiast **Nowy.srv** należy podać nazwę serwisu pod jakim został on zapisany w katalogu srv."
   ]
  },
  {
   "cell_type": "code",
   "execution_count": 1,
   "metadata": {},
   "outputs": [
    {
     "name": "stdout",
     "output_type": "stream",
     "text": [
      "float64 a\r\n",
      "float64 b\r\n",
      "float64 start_x\r\n",
      "float64 start_y\r\n",
      "---\r\n",
      "string result\r\n",
      "\r\n"
     ]
    }
   ],
   "source": [
    "!rossrv show pkg_tsr/RectTask #uzupelnic nazwa nowego serwisu, jesli wszystko zostalo prawidlowo utworzone \n",
    "# powinna pojawic sie jego struktura"
   ]
  },
  {
   "cell_type": "code",
   "execution_count": null,
   "metadata": {},
   "outputs": [],
   "source": []
  }
 ],
 "metadata": {
  "kernelspec": {
   "display_name": "Python 3",
   "language": "python",
   "name": "python3"
  },
  "language_info": {
   "codemirror_mode": {
    "name": "ipython",
    "version": 3
   },
   "file_extension": ".py",
   "mimetype": "text/x-python",
   "name": "python",
   "nbconvert_exporter": "python",
   "pygments_lexer": "ipython3",
   "version": "3.8.5"
  }
 },
 "nbformat": 4,
 "nbformat_minor": 4
}
