{
 "cells": [
  {
   "cell_type": "markdown",
   "metadata": {},
   "source": [
    "Skrypt przeznaczony jest do obsługi ruchów robotów po okręgu w symulacji. Pozwoli na późniejsze zebranie dynamicznie zmieniających się danych i wyświetlenie ich na wykresie.\n",
    "\n",
    "Uruchomić w terminalu środowisko symulacyjne"
   ]
  },
  {
   "cell_type": "raw",
   "metadata": {},
   "source": [
    "rosrun turtlesim turtlesim_node"
   ]
  },
  {
   "cell_type": "markdown",
   "metadata": {},
   "source": [
    "Przygotowanie środowiska turtlesim do zgrywania danych "
   ]
  },
  {
   "cell_type": "code",
   "execution_count": null,
   "metadata": {},
   "outputs": [],
   "source": [
    "!rosservice call /reset\n",
    "!rosservice call /kill turtle1\n",
    "!rosservice call /spawn 5.5 4 0 robot1\n",
    "!rosservice call /spawn 5.5 2.5 0 robot2\n",
    "!rosservice call /spawn 5.5 1 0 robot3"
   ]
  },
  {
   "cell_type": "markdown",
   "metadata": {},
   "source": [
    "Przykładowy ruch robotów posłuży do zgrania rosbaga zawierajacego m.in. informacje o zmieniającym się położeniu robotów."
   ]
  },
  {
   "cell_type": "code",
   "execution_count": null,
   "metadata": {},
   "outputs": [],
   "source": [
    "import rospy\n",
    "from geometry_msgs.msg import Twist\n",
    "\n",
    "rospy.init_node(\"circle_drive\", anonymous=True)"
   ]
  },
  {
   "cell_type": "code",
   "execution_count": null,
   "metadata": {},
   "outputs": [],
   "source": [
    "pub_speed_1=rospy.Publisher(\"/robot1/cmd_vel\",Twist,queue_size=10)\n",
    "pub_speed_2=rospy.Publisher(\"/robot2/cmd_vel\",Twist,queue_size=10)\n",
    "pub_speed_3=rospy.Publisher(\"/robot3/cmd_vel\",Twist,queue_size=10)\n",
    "\n",
    "msg_1 = Twist()\n",
    "msg_1.linear.x = 1\n",
    "msg_1.angular.z = 1\n",
    "\n",
    "msg_2 = Twist()\n",
    "msg_2.linear.x = 2\n",
    "msg_2.angular.z = 0.8\n",
    "\n",
    "msg_3 = Twist()\n",
    "msg_3.linear.x = 3\n",
    "msg_3.angular.z = 0.75"
   ]
  },
  {
   "cell_type": "code",
   "execution_count": null,
   "metadata": {},
   "outputs": [],
   "source": [
    "rate = rospy.Rate(5)\n",
    "while not rospy.is_shutdown():\n",
    "    pub_speed_1.publish(msg_1)\n",
    "    pub_speed_2.publish(msg_2)\n",
    "    pub_speed_3.publish(msg_3)\n",
    "    rate.sleep()"
   ]
  },
  {
   "cell_type": "code",
   "execution_count": null,
   "metadata": {},
   "outputs": [],
   "source": []
  }
 ],
 "metadata": {
  "kernelspec": {
   "display_name": "Python 3",
   "language": "python",
   "name": "python3"
  },
  "language_info": {
   "codemirror_mode": {
    "name": "ipython",
    "version": 3
   },
   "file_extension": ".py",
   "mimetype": "text/x-python",
   "name": "python",
   "nbconvert_exporter": "python",
   "pygments_lexer": "ipython3",
   "version": "3.8.5"
  }
 },
 "nbformat": 4,
 "nbformat_minor": 4
}
