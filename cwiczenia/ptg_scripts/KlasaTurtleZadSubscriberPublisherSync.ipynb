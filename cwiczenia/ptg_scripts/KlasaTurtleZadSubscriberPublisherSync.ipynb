{
 "cells": [
  {
   "cell_type": "code",
   "execution_count": 5,
   "id": "ranging-colors",
   "metadata": {},
   "outputs": [],
   "source": [
    "# importowanie bibliotek i stworenie node'a\n",
    "import rospy\n",
    "from random import random\n",
    "from turtlesim.msg import Pose\n",
    "from geometry_msgs.msg import Twist\n",
    "rospy.init_node(\"PositionUpdater\",anonymous=True)"
   ]
  },
  {
   "cell_type": "code",
   "execution_count": 6,
   "id": "informational-henry",
   "metadata": {},
   "outputs": [],
   "source": [
    "# stworzenie klasy i odpowiednich funkcji do odczytu stanu \n",
    "class Turtle():\n",
    "    pos_x = 0\n",
    "    pos_y = 0\n",
    "    pos_theta = 0\n",
    "    dest_up = False\n",
    "    dest_right = True\n",
    "    \n",
    "    def __init__(self,turtle_name):\n",
    "        self.sub = rospy.Subscriber(\"/\"+turtle_name+\"/pose\",Pose,self.UpdatePos)\n",
    "        self.pub = rospy.Publisher(\"/\"+turtle_name+\"/cmd_vel\",Twist,queue_size=10)\n",
    "    def CheckBounds(self):\n",
    "        if self.pos_x < 1:\n",
    "            self.dest_right = True\n",
    "        elif self.pos_x > 10:\n",
    "            self.dest_right = False\n",
    "            \n",
    "        if self.pos_y < 1:\n",
    "            self.dest_up = True\n",
    "        elif self.pos_y > 10:\n",
    "            self.dest_up = False\n",
    "        \n",
    "    def Controler(self):\n",
    "        \n",
    "        self.CheckBounds()\n",
    "        \n",
    "        cmd = Twist()\n",
    "        if self.dest_up:\n",
    "            cmd.linear.y = (random()+0.2)*4\n",
    "        else:\n",
    "            cmd.linear.y = -(random()+0.2)*4\n",
    "        if self.dest_right:\n",
    "            cmd.linear.x = (random()+0.2)*3\n",
    "        else:\n",
    "            cmd.linear.x = -(random()+0.2)*3\n",
    "                      \n",
    "        self.pub.publish(cmd)\n",
    "        \n",
    "    def UpdatePos(self,msg):\n",
    "        # odczytanie pozycji\n",
    "        self.pos_x = msg.x\n",
    "        self.pos_y = msg.y\n",
    "        self.pos_theta = msg.theta\n",
    "        \n",
    "    def __repr__(self):\n",
    "        return f\"x:{self.pos_x}\\ny:{self.pos_y}\\ntheta:{self.pos_theta}\""
   ]
  },
  {
   "cell_type": "code",
   "execution_count": 7,
   "id": "younger-nursery",
   "metadata": {},
   "outputs": [
    {
     "name": "stdout",
     "output_type": "stream",
     "text": [
      "\r\n"
     ]
    },
    {
     "ename": "KeyboardInterrupt",
     "evalue": "",
     "output_type": "error",
     "traceback": [
      "\u001b[0;31m---------------------------------------------------------------------------\u001b[0m",
      "\u001b[0;31mKeyboardInterrupt\u001b[0m                         Traceback (most recent call last)",
      "\u001b[0;32m<ipython-input-7-41e521a1f9e2>\u001b[0m in \u001b[0;36m<module>\u001b[0;34m\u001b[0m\n\u001b[1;32m      6\u001b[0m \u001b[0;32mwhile\u001b[0m \u001b[0;32mnot\u001b[0m \u001b[0mrospy\u001b[0m\u001b[0;34m.\u001b[0m\u001b[0mis_shutdown\u001b[0m\u001b[0;34m(\u001b[0m\u001b[0;34m)\u001b[0m\u001b[0;34m:\u001b[0m\u001b[0;34m\u001b[0m\u001b[0;34m\u001b[0m\u001b[0m\n\u001b[1;32m      7\u001b[0m     \u001b[0mturtle\u001b[0m\u001b[0;34m.\u001b[0m\u001b[0mControler\u001b[0m\u001b[0;34m(\u001b[0m\u001b[0;34m)\u001b[0m\u001b[0;34m\u001b[0m\u001b[0;34m\u001b[0m\u001b[0m\n\u001b[0;32m----> 8\u001b[0;31m     \u001b[0mrate\u001b[0m\u001b[0;34m.\u001b[0m\u001b[0msleep\u001b[0m\u001b[0;34m(\u001b[0m\u001b[0;34m)\u001b[0m\u001b[0;34m\u001b[0m\u001b[0;34m\u001b[0m\u001b[0m\n\u001b[0m",
      "\u001b[0;32m/opt/ros/noetic/lib/python3/dist-packages/rospy/timer.py\u001b[0m in \u001b[0;36msleep\u001b[0;34m(self)\u001b[0m\n\u001b[1;32m    101\u001b[0m         \u001b[0mcurr_time\u001b[0m \u001b[0;34m=\u001b[0m \u001b[0mrospy\u001b[0m\u001b[0;34m.\u001b[0m\u001b[0mrostime\u001b[0m\u001b[0;34m.\u001b[0m\u001b[0mget_rostime\u001b[0m\u001b[0;34m(\u001b[0m\u001b[0;34m)\u001b[0m\u001b[0;34m\u001b[0m\u001b[0;34m\u001b[0m\u001b[0m\n\u001b[1;32m    102\u001b[0m         \u001b[0;32mtry\u001b[0m\u001b[0;34m:\u001b[0m\u001b[0;34m\u001b[0m\u001b[0;34m\u001b[0m\u001b[0m\n\u001b[0;32m--> 103\u001b[0;31m             \u001b[0msleep\u001b[0m\u001b[0;34m(\u001b[0m\u001b[0mself\u001b[0m\u001b[0;34m.\u001b[0m\u001b[0m_remaining\u001b[0m\u001b[0;34m(\u001b[0m\u001b[0mcurr_time\u001b[0m\u001b[0;34m)\u001b[0m\u001b[0;34m)\u001b[0m\u001b[0;34m\u001b[0m\u001b[0;34m\u001b[0m\u001b[0m\n\u001b[0m\u001b[1;32m    104\u001b[0m         \u001b[0;32mexcept\u001b[0m \u001b[0mrospy\u001b[0m\u001b[0;34m.\u001b[0m\u001b[0mexceptions\u001b[0m\u001b[0;34m.\u001b[0m\u001b[0mROSTimeMovedBackwardsException\u001b[0m\u001b[0;34m:\u001b[0m\u001b[0;34m\u001b[0m\u001b[0;34m\u001b[0m\u001b[0m\n\u001b[1;32m    105\u001b[0m             \u001b[0;32mif\u001b[0m \u001b[0;32mnot\u001b[0m \u001b[0mself\u001b[0m\u001b[0;34m.\u001b[0m\u001b[0m_reset\u001b[0m\u001b[0;34m:\u001b[0m\u001b[0;34m\u001b[0m\u001b[0;34m\u001b[0m\u001b[0m\n",
      "\u001b[0;32m/opt/ros/noetic/lib/python3/dist-packages/rospy/timer.py\u001b[0m in \u001b[0;36msleep\u001b[0;34m(duration)\u001b[0m\n\u001b[1;32m    132\u001b[0m             \u001b[0;32mreturn\u001b[0m\u001b[0;34m\u001b[0m\u001b[0;34m\u001b[0m\u001b[0m\n\u001b[1;32m    133\u001b[0m         \u001b[0;32melse\u001b[0m\u001b[0;34m:\u001b[0m\u001b[0;34m\u001b[0m\u001b[0;34m\u001b[0m\u001b[0m\n\u001b[0;32m--> 134\u001b[0;31m             \u001b[0mrospy\u001b[0m\u001b[0;34m.\u001b[0m\u001b[0mrostime\u001b[0m\u001b[0;34m.\u001b[0m\u001b[0mwallsleep\u001b[0m\u001b[0;34m(\u001b[0m\u001b[0mduration\u001b[0m\u001b[0;34m)\u001b[0m\u001b[0;34m\u001b[0m\u001b[0;34m\u001b[0m\u001b[0m\n\u001b[0m\u001b[1;32m    135\u001b[0m     \u001b[0;32melse\u001b[0m\u001b[0;34m:\u001b[0m\u001b[0;34m\u001b[0m\u001b[0;34m\u001b[0m\u001b[0m\n\u001b[1;32m    136\u001b[0m         \u001b[0minitial_rostime\u001b[0m \u001b[0;34m=\u001b[0m \u001b[0mrospy\u001b[0m\u001b[0;34m.\u001b[0m\u001b[0mrostime\u001b[0m\u001b[0;34m.\u001b[0m\u001b[0mget_rostime\u001b[0m\u001b[0;34m(\u001b[0m\u001b[0;34m)\u001b[0m\u001b[0;34m\u001b[0m\u001b[0;34m\u001b[0m\u001b[0m\n",
      "\u001b[0;32m/opt/ros/noetic/lib/python3/dist-packages/rospy/rostime.py\u001b[0m in \u001b[0;36mwallsleep\u001b[0;34m(duration)\u001b[0m\n\u001b[1;32m    275\u001b[0m             \u001b[0;32mpass\u001b[0m\u001b[0;34m\u001b[0m\u001b[0;34m\u001b[0m\u001b[0m\n\u001b[1;32m    276\u001b[0m     \u001b[0;32melse\u001b[0m\u001b[0;34m:\u001b[0m\u001b[0;34m\u001b[0m\u001b[0;34m\u001b[0m\u001b[0m\n\u001b[0;32m--> 277\u001b[0;31m         \u001b[0mtime\u001b[0m\u001b[0;34m.\u001b[0m\u001b[0msleep\u001b[0m\u001b[0;34m(\u001b[0m\u001b[0mduration\u001b[0m\u001b[0;34m)\u001b[0m\u001b[0;34m\u001b[0m\u001b[0;34m\u001b[0m\u001b[0m\n\u001b[0m",
      "\u001b[0;31mKeyboardInterrupt\u001b[0m: "
     ]
    }
   ],
   "source": [
    "# stworzenie obserwatora\n",
    "!rosservice call reset\n",
    "turtle = Turtle(\"turtle1\")\n",
    "\n",
    "rate = rospy.Rate(10)\n",
    "while not rospy.is_shutdown():\n",
    "    turtle.Controler()\n",
    "    rate.sleep()"
   ]
  },
  {
   "cell_type": "code",
   "execution_count": 6,
   "id": "sufficient-duncan",
   "metadata": {},
   "outputs": [
    {
     "name": "stdout",
     "output_type": "stream",
     "text": [
      "x:5.568444728851318\n",
      "y:5.568444728851318\n",
      "theta:0.0\n"
     ]
    }
   ],
   "source": [
    "# sprawdzanie stanu\n",
    "print(turtle)"
   ]
  },
  {
   "cell_type": "code",
   "execution_count": null,
   "id": "successful-bloom",
   "metadata": {},
   "outputs": [],
   "source": [
    "# wylaczenie subscribera\n",
    "turtle.sub.unregister()"
   ]
  },
  {
   "cell_type": "code",
   "execution_count": null,
   "id": "affiliated-rating",
   "metadata": {},
   "outputs": [],
   "source": []
  }
 ],
 "metadata": {
  "kernelspec": {
   "display_name": "Python 3",
   "language": "python",
   "name": "python3"
  },
  "language_info": {
   "codemirror_mode": {
    "name": "ipython",
    "version": 3
   },
   "file_extension": ".py",
   "mimetype": "text/x-python",
   "name": "python",
   "nbconvert_exporter": "python",
   "pygments_lexer": "ipython3",
   "version": "3.8.5"
  }
 },
 "nbformat": 4,
 "nbformat_minor": 5
}
