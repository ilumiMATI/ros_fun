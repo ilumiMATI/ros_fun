{
 "cells": [
  {
   "cell_type": "markdown",
   "metadata": {},
   "source": [
    "# ROS Parameter Server"
   ]
  },
  {
   "cell_type": "markdown",
   "metadata": {},
   "source": [
    "Jest zbiorem wartości parametrów odczytywanych przez nody w ROS. Parametry mogą przechowywać informacje o konfiguracji sprzętowej lub innych charakterystycznych parametrach."
   ]
  },
  {
   "cell_type": "markdown",
   "metadata": {},
   "source": [
    "## Lista dostępnych parametrów"
   ]
  },
  {
   "cell_type": "code",
   "execution_count": 1,
   "metadata": {},
   "outputs": [
    {
     "data": {
      "text/plain": [
       "['/run_id',\n",
       " '/roslaunch/uris/host_localhost__46099',\n",
       " '/rosversion',\n",
       " '/rosdistro',\n",
       " '/turtlesim/background_r',\n",
       " '/turtlesim/background_g',\n",
       " '/turtlesim/background_b']"
      ]
     },
     "execution_count": 1,
     "metadata": {},
     "output_type": "execute_result"
    }
   ],
   "source": [
    "import rospy\n",
    "rospy.get_param_names()"
   ]
  },
  {
   "cell_type": "markdown",
   "metadata": {},
   "source": [
    "## Odczyt wartości parametru"
   ]
  },
  {
   "cell_type": "code",
   "execution_count": 2,
   "metadata": {},
   "outputs": [
    {
     "name": "stdout",
     "output_type": "stream",
     "text": [
      "69\n",
      "86\n",
      "255\n"
     ]
    }
   ],
   "source": [
    "print(rospy.get_param(\"turtlesim/background_r\"))\n",
    "print(rospy.get_param(\"turtlesim/background_g\"))\n",
    "print(rospy.get_param(\"turtlesim/background_b\"))"
   ]
  },
  {
   "cell_type": "markdown",
   "metadata": {},
   "source": [
    "## Ustawienie nowych wartości parametrów tła\n",
    "Aby wprowadzone zmiany były widoczne należy wywołać dodatkowo serwis */clear*"
   ]
  },
  {
   "cell_type": "code",
   "execution_count": 3,
   "metadata": {},
   "outputs": [],
   "source": [
    "rospy.set_param(\"turtlesim/background_r\", 255)\n",
    "rospy.set_param(\"turtlesim/background_g\", 0)\n",
    "rospy.set_param(\"turtlesim/background_b\", 0)"
   ]
  },
  {
   "cell_type": "code",
   "execution_count": 4,
   "metadata": {},
   "outputs": [
    {
     "name": "stdout",
     "output_type": "stream",
     "text": [
      "\r\n"
     ]
    }
   ],
   "source": [
    "!rosservice call /clear"
   ]
  },
  {
   "cell_type": "markdown",
   "metadata": {},
   "source": [
    "### Przykłady"
   ]
  },
  {
   "cell_type": "markdown",
   "metadata": {},
   "source": [
    "Ustawianie kilku różnych parametrów w określonej przestrzeni nazw. Na przykładzie kolorów RGB tła można by ustawić je w przestrzeni nazw **color** i zgrupować razem. Takie ustawienie parametrów nie będzie miało wpływu na środowisko symulacyjne, gdyż nie są one obsługiwane."
   ]
  },
  {
   "cell_type": "code",
   "execution_count": 5,
   "metadata": {},
   "outputs": [],
   "source": [
    "# Wersja 1\n",
    "grupa = \"color\"\n",
    "rospy.set_param(grupa+\"/r\", 41)\n",
    "rospy.set_param(grupa+\"/g\", 231)\n",
    "rospy.set_param(grupa+\"/b\", 0)"
   ]
  },
  {
   "cell_type": "code",
   "execution_count": 6,
   "metadata": {},
   "outputs": [
    {
     "data": {
      "text/plain": [
       "['/run_id',\n",
       " '/roslaunch/uris/host_localhost__46099',\n",
       " '/rosversion',\n",
       " '/rosdistro',\n",
       " '/turtlesim/background_r',\n",
       " '/turtlesim/background_g',\n",
       " '/turtlesim/background_b',\n",
       " '/color/r',\n",
       " '/color/g',\n",
       " '/color/b']"
      ]
     },
     "execution_count": 6,
     "metadata": {},
     "output_type": "execute_result"
    }
   ],
   "source": [
    "rospy.get_param_names()"
   ]
  },
  {
   "cell_type": "markdown",
   "metadata": {},
   "source": [
    "Można zauważyć, że lista z parametrami wydłużyła się. Takie podejście umożliwia nam wyświetlenie parametrów z określonej grupy. Dla przykładu utworzonej grupy **color**. Na wyjściu get_param otrzymujemy słownik z wartościami parametrów w przestrzeni nazw. "
   ]
  },
  {
   "cell_type": "code",
   "execution_count": 7,
   "metadata": {},
   "outputs": [
    {
     "data": {
      "text/plain": [
       "{'r': 41, 'g': 231, 'b': 0}"
      ]
     },
     "execution_count": 7,
     "metadata": {},
     "output_type": "execute_result"
    }
   ],
   "source": [
    "rospy.get_param(\"color\")"
   ]
  },
  {
   "cell_type": "markdown",
   "metadata": {},
   "source": [
    "Parametry można też przekazać jako słownik."
   ]
  },
  {
   "cell_type": "code",
   "execution_count": 8,
   "metadata": {},
   "outputs": [
    {
     "data": {
      "text/plain": [
       "{'r': 133, 'g': 43, 'b': 25}"
      ]
     },
     "execution_count": 8,
     "metadata": {},
     "output_type": "execute_result"
    }
   ],
   "source": [
    "# Wersja 2\n",
    "rospy.set_param(\"color2\", {\"r\": 133, \"g\":43, \"b\":25})\n",
    "rospy.get_param(\"color2\")"
   ]
  },
  {
   "cell_type": "code",
   "execution_count": 9,
   "metadata": {},
   "outputs": [
    {
     "data": {
      "text/plain": [
       "['/run_id',\n",
       " '/roslaunch/uris/host_localhost__46099',\n",
       " '/rosversion',\n",
       " '/rosdistro',\n",
       " '/turtlesim/background_r',\n",
       " '/turtlesim/background_g',\n",
       " '/turtlesim/background_b',\n",
       " '/color/r',\n",
       " '/color/g',\n",
       " '/color/b',\n",
       " '/color2/r',\n",
       " '/color2/g',\n",
       " '/color2/b']"
      ]
     },
     "execution_count": 9,
     "metadata": {},
     "output_type": "execute_result"
    }
   ],
   "source": [
    "rospy.get_param_names()"
   ]
  },
  {
   "cell_type": "markdown",
   "metadata": {},
   "source": [
    "## Usuwanie parametrów \n",
    "Do usunięcia pojedynczego parametru należy podać jego pełną nazwę."
   ]
  },
  {
   "cell_type": "code",
   "execution_count": 10,
   "metadata": {},
   "outputs": [
    {
     "data": {
      "text/plain": [
       "['/run_id',\n",
       " '/roslaunch/uris/host_localhost__46099',\n",
       " '/rosversion',\n",
       " '/rosdistro',\n",
       " '/turtlesim/background_r',\n",
       " '/turtlesim/background_g',\n",
       " '/turtlesim/background_b',\n",
       " '/color/r',\n",
       " '/color/g',\n",
       " '/color/b',\n",
       " '/color2/g',\n",
       " '/color2/b']"
      ]
     },
     "execution_count": 10,
     "metadata": {},
     "output_type": "execute_result"
    }
   ],
   "source": [
    "rospy.delete_param(\"/color2/r\")\n",
    "rospy.get_param_names()"
   ]
  },
  {
   "cell_type": "markdown",
   "metadata": {},
   "source": [
    "Można usunąć więcej parametrów znajdującej się w określonej przestrzeni nazw."
   ]
  },
  {
   "cell_type": "code",
   "execution_count": 11,
   "metadata": {},
   "outputs": [
    {
     "data": {
      "text/plain": [
       "['/run_id',\n",
       " '/roslaunch/uris/host_localhost__46099',\n",
       " '/rosversion',\n",
       " '/rosdistro',\n",
       " '/turtlesim/background_r',\n",
       " '/turtlesim/background_g',\n",
       " '/turtlesim/background_b',\n",
       " '/color/r',\n",
       " '/color/g',\n",
       " '/color/b']"
      ]
     },
     "execution_count": 11,
     "metadata": {},
     "output_type": "execute_result"
    }
   ],
   "source": [
    "rospy.delete_param(\"/color2/\")\n",
    "rospy.get_param_names()"
   ]
  },
  {
   "cell_type": "markdown",
   "metadata": {},
   "source": [
    "## Zadania\n",
    "\n",
    "#### Zadanie 1\n",
    "Napisać funkcję, która będzie generwała parametry dla robota o podanej nazwie. Parametry powinny być tak wygenerowane, aby znajdowały się w przestrzeni nazw robota o podanej w argumencie nazwie. Parametry pojawiające się w tej przestrzeni powinny odpowiadać: maksymalnej dopuszczalnej prędkości postępowej, obrotowej, trybu pracy (auto/manual). Można dopisać jakieś własne parametry."
   ]
  },
  {
   "cell_type": "code",
   "execution_count": 15,
   "metadata": {},
   "outputs": [
    {
     "data": {
      "text/plain": [
       "['/run_id',\n",
       " '/roslaunch/uris/host_localhost__46099',\n",
       " '/rosversion',\n",
       " '/rosdistro',\n",
       " '/turtlesim/background_r',\n",
       " '/turtlesim/background_g',\n",
       " '/turtlesim/background_b',\n",
       " '/color/r',\n",
       " '/color/g',\n",
       " '/color/b']"
      ]
     },
     "execution_count": 15,
     "metadata": {},
     "output_type": "execute_result"
    }
   ],
   "source": [
    "def genParams(name):\n",
    "    rospy.set_param(name,{\n",
    "        \"max_linear_speed\": 0.3,\n",
    "        \"max_angular_speed\": 0.5,\n",
    "        \"mode\":\"manual\"\n",
    "    })"
   ]
  },
  {
   "cell_type": "markdown",
   "metadata": {},
   "source": [
    "#### Zadanie 2\n",
    "1. Skopiować klasę Robot z zajęć o serwisach wraz z importem odpowiednich bibliotek. Rozbudować ją o napisaną w poprzednim zadaniu funkcję. Podczas inicjalizacji klasy Robot powinny się również pojawić parametry robota.  Funkcja jako metoda klasy powinna mieć jako pierwszy argument self wskazujący na klasę.\n",
    "\n",
    "2. Dopisać metodę do wyświetlania parametrów robota z jego przestrzeni nazw.\n",
    "3. Uzupełnić metodę **unregistered** o usuwanie wszystkich parametrów robota.\n",
    "4. Dodać do klasy serwis od usuwania robota. (Serwis /kill)\n",
    "5. Utworzyć metodę do wyświetlania listy parametrów robota. Odczytać parametry z przestrzeni nazw i wyświetlić."
   ]
  },
  {
   "cell_type": "code",
   "execution_count": null,
   "metadata": {},
   "outputs": [],
   "source": []
  }
 ],
 "metadata": {
  "kernelspec": {
   "display_name": "Python 3",
   "language": "python",
   "name": "python3"
  },
  "language_info": {
   "codemirror_mode": {
    "name": "ipython",
    "version": 3
   },
   "file_extension": ".py",
   "mimetype": "text/x-python",
   "name": "python",
   "nbconvert_exporter": "python",
   "pygments_lexer": "ipython3",
   "version": "3.8.5"
  }
 },
 "nbformat": 4,
 "nbformat_minor": 4
}
