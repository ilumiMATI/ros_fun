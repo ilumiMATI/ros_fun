{
 "cells": [
  {
   "cell_type": "code",
   "execution_count": 1,
   "id": "civic-constraint",
   "metadata": {},
   "outputs": [],
   "source": [
    "import rospy\n",
    "import numpy as np\n",
    "from turtlesim.srv import Spawn\n",
    "from turtlesim.srv import Kill\n",
    "from turtlesim.msg import Pose\n",
    "from geometry_msgs.msg import Twist\n",
    "from pkg_tsr.srv import Task\n",
    "from std_srvs.srv import Empty\n",
    "import math\n",
    "\n",
    "rospy.init_node(\"params_test\")"
   ]
  },
  {
   "cell_type": "code",
   "execution_count": 2,
   "id": "sought-laptop",
   "metadata": {},
   "outputs": [],
   "source": [
    "class Robot():\n",
    "    position = Pose()\n",
    "    def __init__(self, name, x, y):\n",
    "        self.name = name\n",
    "        self.follow_service = rospy.Service(name+'/go_to_goal', Task, self.go_to_goal)\n",
    "        self.velocity_pub = rospy.Publisher(name+'/cmd_vel', Twist, queue_size=10)\n",
    "        self.pose_sub = rospy.Subscriber(name+'/pose',Pose, self.callback_pose)\n",
    "        \n",
    "        self.kill_proxy = rospy.ServiceProxy('kill', Kill)\n",
    "        \n",
    "        create_new_turtle = rospy.ServiceProxy('spawn', Spawn)\n",
    "        create_new_turtle(x, y, 0, name)\n",
    "        self.gen_params()\n",
    "        \n",
    "    def kill(self):\n",
    "        self.kill_proxy(self.name)\n",
    "        print(f\"killed {self.name}\")\n",
    "        \n",
    "    def gen_params(self):\n",
    "        rospy.set_param(self.name,{\n",
    "        \"max_linear_speed\": 0.3,\n",
    "        \"max_angular_speed\": 0.5,\n",
    "        \"mode\":\"manual\"\n",
    "        })\n",
    "    def get_params(self):\n",
    "        return rospy.get_param(self.name)\n",
    "        \n",
    "    def go_to_goal(self, msg_srv):\n",
    "        max_speed = 0.3 # dla liniowych i obrotowych\n",
    "        tolerance = 0.05 # max odleglosc od punktu\n",
    "        \n",
    "        # obracanie się w stronę punktu\n",
    "        while True:\n",
    "            celTheta = math.atan2(msg_srv.y - self.position.y,msg_srv.x - self.position.x)\n",
    "            celDelta = celTheta - self.position.theta\n",
    "            if abs(celDelta) < tolerance*0.005:\n",
    "                break\n",
    "            # poprawiamy\n",
    "            msg_vel = Twist()\n",
    "            speed = np.clip(0.2*(abs(celDelta))+0.01,0,max_speed)\n",
    "            if celDelta > 0:\n",
    "                msg_vel.angular.z = speed\n",
    "            else:\n",
    "                msg_vel.angular.z = -speed\n",
    "            self.velocity_pub.publish(msg_vel)\n",
    "            \n",
    "        # jazda do punktu\n",
    "        while True:\n",
    "            celDelta = math.sqrt((msg_srv.x - self.position.x)**2 + (msg_srv.y - self.position.y)**2)\n",
    "            if celDelta < tolerance:\n",
    "                break\n",
    "            #poprawiamy\n",
    "            msg_vel = Twist()\n",
    "            msg_vel.linear.x = np.clip(0.25*celDelta+0.025,0,max_speed)\n",
    "            self.velocity_pub.publish(msg_vel)\n",
    "            \n",
    "        return \"finished\" \n",
    "        \n",
    "    def callback_pose(self, data):\n",
    "        self.position = data\n",
    "    \n",
    "    def unregister(self):\n",
    "        self.follow_service.shutdown()\n",
    "        rospy.delete_param(self.name)\n",
    "        self.kill()\n",
    "        \n",
    "# funkcja pomocnicza do kierowania robotem\n",
    "def kieruj(robot,listaPunktow):\n",
    "    klient = rospy.ServiceProxy(robot.name+'/go_to_goal',Task)\n",
    "    for punkt in listaPunktow:\n",
    "        klient(punkt.x,punkt.y)\n",
    "        \n",
    "class Punkt():\n",
    "    x = 0.0\n",
    "    y = 0.0\n",
    "    def __init__(self,x,y):\n",
    "        self.x = x\n",
    "        self.y = y"
   ]
  },
  {
   "cell_type": "code",
   "execution_count": 3,
   "id": "emerging-chuck",
   "metadata": {},
   "outputs": [
    {
     "name": "stdout",
     "output_type": "stream",
     "text": [
      "\r\n"
     ]
    }
   ],
   "source": [
    "!rosservice call reset"
   ]
  },
  {
   "cell_type": "code",
   "execution_count": 7,
   "id": "connected-ancient",
   "metadata": {},
   "outputs": [],
   "source": [
    "robocik = Robot(\"Diabeu10\",4,2)"
   ]
  },
  {
   "cell_type": "code",
   "execution_count": 8,
   "id": "frozen-optimum",
   "metadata": {},
   "outputs": [
    {
     "data": {
      "text/plain": [
       "{'max_linear_speed': 0.3, 'max_angular_speed': 0.5, 'mode': 'manual'}"
      ]
     },
     "execution_count": 8,
     "metadata": {},
     "output_type": "execute_result"
    }
   ],
   "source": [
    "robocik.get_params()"
   ]
  },
  {
   "cell_type": "code",
   "execution_count": 9,
   "id": "stainless-mozambique",
   "metadata": {},
   "outputs": [
    {
     "name": "stdout",
     "output_type": "stream",
     "text": [
      "killed Diabeu10\n"
     ]
    }
   ],
   "source": [
    "robocik.unregister()"
   ]
  },
  {
   "cell_type": "code",
   "execution_count": null,
   "id": "cognitive-frame",
   "metadata": {},
   "outputs": [],
   "source": []
  }
 ],
 "metadata": {
  "kernelspec": {
   "display_name": "Python 3",
   "language": "python",
   "name": "python3"
  },
  "language_info": {
   "codemirror_mode": {
    "name": "ipython",
    "version": 3
   },
   "file_extension": ".py",
   "mimetype": "text/x-python",
   "name": "python",
   "nbconvert_exporter": "python",
   "pygments_lexer": "ipython3",
   "version": "3.8.5"
  }
 },
 "nbformat": 4,
 "nbformat_minor": 5
}
