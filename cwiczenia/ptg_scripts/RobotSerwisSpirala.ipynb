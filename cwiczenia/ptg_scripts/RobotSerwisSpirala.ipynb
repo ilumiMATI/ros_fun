{
 "cells": [
  {
   "cell_type": "code",
   "execution_count": 1,
   "id": "appointed-camping",
   "metadata": {},
   "outputs": [],
   "source": [
    "import rospy\n",
    "import numpy as np\n",
    "from turtlesim.srv import Spawn\n",
    "from turtlesim.msg import Pose\n",
    "from geometry_msgs.msg import Twist\n",
    "from pkg_tsr.srv import Task\n",
    "import math\n",
    "\n",
    "rospy.init_node(\"serwis_node_test\")"
   ]
  },
  {
   "cell_type": "code",
   "execution_count": 2,
   "id": "russian-second",
   "metadata": {},
   "outputs": [],
   "source": [
    "class Robot():\n",
    "    position = Pose()\n",
    "    def __init__(self, name, x, y):\n",
    "        self.name = name\n",
    "        self.follow_service = rospy.Service(name+'/go_to_goal', Task, self.go_to_goal_spiral)\n",
    "        self.velocity_pub = rospy.Publisher(name+'/cmd_vel', Twist, queue_size=10)\n",
    "        self.pose_sub = rospy.Subscriber(name+'/pose',Pose, self.callback_pose)\n",
    "        \n",
    "        create_new_turtle = rospy.ServiceProxy('spawn', Spawn)\n",
    "        create_new_turtle(x, y, 0, name)\n",
    "        \n",
    "    def go_to_goal(self, msg_srv):\n",
    "        max_speed = 0.3 # dla liniowych i obrotowych\n",
    "        tolerance = 0.05 # max odleglosc od punktu\n",
    "        \n",
    "        # obracanie się w stronę punktu\n",
    "        while True:\n",
    "            celTheta = math.atan2(msg_srv.y - self.position.y,msg_srv.x - self.position.x)\n",
    "            celDelta = celTheta - self.position.theta\n",
    "            if abs(celDelta) < tolerance*0.005:\n",
    "                break\n",
    "            # poprawiamy\n",
    "            msg_vel = Twist()\n",
    "            speed = np.clip(0.2*(abs(celDelta))+0.01,0,max_speed)\n",
    "            if celDelta > 0:\n",
    "                msg_vel.angular.z = speed\n",
    "            else:\n",
    "                msg_vel.angular.z = -speed\n",
    "            self.velocity_pub.publish(msg_vel)\n",
    "            \n",
    "        # jazda do punktu\n",
    "        while True:\n",
    "            celDelta = math.sqrt((msg_srv.x - self.position.x)**2 + (msg_srv.y - self.position.y)**2)\n",
    "            if celDelta < tolerance:\n",
    "                break\n",
    "            #poprawiamy\n",
    "            msg_vel = Twist()\n",
    "            msg_vel.linear.x = np.clip(0.25*celDelta+0.025,0,max_speed)\n",
    "            self.velocity_pub.publish(msg_vel)\n",
    "            \n",
    "        return \"finished\"\n",
    "    def go_to_goal_spiral(self, msg_srv):\n",
    "        self.go_to_goal(msg_srv)\n",
    "        start = rospy.get_time()\n",
    "        while True:\n",
    "            time = rospy.get_time()-start\n",
    "            if time > 20:\n",
    "                break\n",
    "            msg = Twist()\n",
    "            msg.linear.x = 0.3\n",
    "            msg.angular.z = 3/(rospy.get_time()-start+1)\n",
    "            self.velocity_pub.publish(msg)\n",
    "            rospy.sleep(1)\n",
    "        return \"finished\"    \n",
    "        \n",
    "    def callback_pose(self, data):\n",
    "        self.position = data\n",
    "    \n",
    "    def unregister(self):\n",
    "        self.follow_service.shutdown()\n",
    "        \n",
    "# funkcja pomocnicza do kierowania robotem\n",
    "def kieruj(robot,listaPunktow):\n",
    "    klient = rospy.ServiceProxy(robot.name+'/go_to_goal',Task)\n",
    "    for punkt in listaPunktow:\n",
    "        klient(punkt.x,punkt.y)\n",
    "        \n",
    "class Punkt():\n",
    "    x = 0.0\n",
    "    y = 0.0\n",
    "    def __init__(self,x,y):\n",
    "        self.x = x\n",
    "        self.y = y"
   ]
  },
  {
   "cell_type": "code",
   "execution_count": 3,
   "id": "democratic-excuse",
   "metadata": {},
   "outputs": [
    {
     "name": "stdout",
     "output_type": "stream",
     "text": [
      "\r\n"
     ]
    }
   ],
   "source": [
    "!rosservice call reset"
   ]
  },
  {
   "cell_type": "code",
   "execution_count": 24,
   "id": "acting-review",
   "metadata": {},
   "outputs": [
    {
     "ename": "NameError",
     "evalue": "name 'robocik' is not defined",
     "output_type": "error",
     "traceback": [
      "\u001b[0;31m---------------------------------------------------------------------------\u001b[0m",
      "\u001b[0;31mNameError\u001b[0m                                 Traceback (most recent call last)",
      "\u001b[0;32m<ipython-input-24-1167e7fe2329>\u001b[0m in \u001b[0;36m<module>\u001b[0;34m\u001b[0m\n\u001b[0;32m----> 1\u001b[0;31m \u001b[0mrobocik\u001b[0m\u001b[0;34m.\u001b[0m\u001b[0munregister\u001b[0m\u001b[0;34m(\u001b[0m\u001b[0;34m)\u001b[0m\u001b[0;34m\u001b[0m\u001b[0;34m\u001b[0m\u001b[0m\n\u001b[0m",
      "\u001b[0;31mNameError\u001b[0m: name 'robocik' is not defined"
     ]
    }
   ],
   "source": [
    "robocik.unregister()"
   ]
  },
  {
   "cell_type": "code",
   "execution_count": 4,
   "id": "bigger-swaziland",
   "metadata": {},
   "outputs": [],
   "source": [
    "# UZUPEŁNIĆ - utworzyć klienta i zlecić zadanie dojazdu do kilku różnych punktów\n",
    "robocik = Robot(\"Zen55\",4,1)\n",
    "droga = [ \n",
    "    Punkt(5,5),\n",
    "    Punkt(5,8)\n",
    "]\n",
    "kieruj(robocik,droga)"
   ]
  },
  {
   "cell_type": "code",
   "execution_count": 5,
   "id": "loaded-vector",
   "metadata": {},
   "outputs": [
    {
     "data": {
      "text/plain": [
       "x: 5.103328704833984\n",
       "y: 6.0348310470581055\n",
       "theta: -0.2393801212310791\n",
       "linear_velocity: 0.0\n",
       "angular_velocity: 0.0"
      ]
     },
     "execution_count": 5,
     "metadata": {},
     "output_type": "execute_result"
    }
   ],
   "source": [
    "robocik.position"
   ]
  },
  {
   "cell_type": "code",
   "execution_count": null,
   "id": "suitable-option",
   "metadata": {},
   "outputs": [],
   "source": []
  }
 ],
 "metadata": {
  "kernelspec": {
   "display_name": "Python 3",
   "language": "python",
   "name": "python3"
  },
  "language_info": {
   "codemirror_mode": {
    "name": "ipython",
    "version": 3
   },
   "file_extension": ".py",
   "mimetype": "text/x-python",
   "name": "python",
   "nbconvert_exporter": "python",
   "pygments_lexer": "ipython3",
   "version": "3.8.5"
  }
 },
 "nbformat": 4,
 "nbformat_minor": 5
}
