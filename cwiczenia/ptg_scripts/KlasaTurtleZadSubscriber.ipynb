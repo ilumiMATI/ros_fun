{
 "cells": [
  {
   "cell_type": "code",
   "execution_count": 15,
   "id": "ranging-colors",
   "metadata": {},
   "outputs": [],
   "source": [
    "# importowanie bibliotek i stworenie node'a\n",
    "import rospy\n",
    "from turtlesim.msg import Pose\n",
    "rospy.init_node(\"PositionUpdater\",anonymous=True)"
   ]
  },
  {
   "cell_type": "code",
   "execution_count": 29,
   "id": "informational-henry",
   "metadata": {},
   "outputs": [],
   "source": [
    "# stworzenie klasy i odpowiednich funkcji do odczytu stanu \n",
    "class Turtle():\n",
    "    pos_x = 0\n",
    "    pos_y = 0\n",
    "    pos_theta = 0\n",
    "    \n",
    "    def __init__(self,topic_name):\n",
    "        self.sub = rospy.Subscriber(topic_name,Pose,self.UpdatePos)\n",
    "        \n",
    "    def UpdatePos(self,msg_pose):\n",
    "        self.pos_x = msg_pose.x\n",
    "        self.pos_y = msg_pose.y\n",
    "        self.pos_theta = msg_pose.theta\n",
    "    def __repr__(self):\n",
    "        return f\"x:{self.pos_x}\\ny:{self.pos_y}\\ntheta:{self.pos_theta}\""
   ]
  },
  {
   "cell_type": "code",
   "execution_count": 30,
   "id": "younger-nursery",
   "metadata": {},
   "outputs": [],
   "source": [
    "# stworzenie obserwatora\n",
    "turtle = Turtle(\"/turtle1/pose\")"
   ]
  },
  {
   "cell_type": "code",
   "execution_count": 44,
   "id": "sufficient-duncan",
   "metadata": {},
   "outputs": [
    {
     "name": "stdout",
     "output_type": "stream",
     "text": [
      "x:11.088889122009277\n",
      "y:11.088889122009277\n",
      "theta:0.24110794067382812\n"
     ]
    }
   ],
   "source": [
    "# sprawdzanie stanu\n",
    "print(turtle)"
   ]
  },
  {
   "cell_type": "code",
   "execution_count": null,
   "id": "successful-bloom",
   "metadata": {},
   "outputs": [],
   "source": [
    "# wylaczenie subscribera\n",
    "turtle.sub.unregister()"
   ]
  }
 ],
 "metadata": {
  "kernelspec": {
   "display_name": "Python 3",
   "language": "python",
   "name": "python3"
  },
  "language_info": {
   "codemirror_mode": {
    "name": "ipython",
    "version": 3
   },
   "file_extension": ".py",
   "mimetype": "text/x-python",
   "name": "python",
   "nbconvert_exporter": "python",
   "pygments_lexer": "ipython3",
   "version": "3.8.5"
  }
 },
 "nbformat": 4,
 "nbformat_minor": 5
}
