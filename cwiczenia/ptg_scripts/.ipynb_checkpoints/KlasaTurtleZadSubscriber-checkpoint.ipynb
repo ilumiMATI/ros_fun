{
 "cells": [
  {
   "cell_type": "code",
   "execution_count": 25,
   "id": "informational-henry",
   "metadata": {},
   "outputs": [],
   "source": [
    "import rospy\n",
    "from turtlesim.msg import Pose\n",
    "\n",
    "class Turtle():\n",
    "    pos_x = 0\n",
    "    pos_y = 0\n",
    "    pos_theta = 0\n",
    "    \n",
    "    def __init__(self,topic_name):\n",
    "        self.sub = rospy.Subscriber(topic_name,Pose,self.UpdatePos)\n",
    "        \n",
    "    def UpdatePos(self,msg_pose):\n",
    "        self.pos_x = msg_pose.x\n",
    "        self.pos_y = msg_pose.y\n",
    "        self.pos_theta = msg_pose.theta\n",
    "    def __repr__(self):\n",
    "        return f\"x:{self.pos_x}, y:{self.pos_y}, theta:{self.pos_theta}\"\n",
    "turtle = Turtle(\"/turtle1/pose\")"
   ]
  },
  {
   "cell_type": "code",
   "execution_count": 26,
   "id": "driven-chocolate",
   "metadata": {},
   "outputs": [
    {
     "name": "stdout",
     "output_type": "stream",
     "text": [
      "x:0, y:0, theta:0\n"
     ]
    }
   ],
   "source": [
    "print(turtle)"
   ]
  },
  {
   "cell_type": "code",
   "execution_count": 27,
   "id": "willing-differential",
   "metadata": {},
   "outputs": [],
   "source": [
    "turtle.sub.unregister()"
   ]
  }
 ],
 "metadata": {
  "kernelspec": {
   "display_name": "Python 3",
   "language": "python",
   "name": "python3"
  },
  "language_info": {
   "codemirror_mode": {
    "name": "ipython",
    "version": 3
   },
   "file_extension": ".py",
   "mimetype": "text/x-python",
   "name": "python",
   "nbconvert_exporter": "python",
   "pygments_lexer": "ipython3",
   "version": "3.8.5"
  }
 },
 "nbformat": 4,
 "nbformat_minor": 5
}
