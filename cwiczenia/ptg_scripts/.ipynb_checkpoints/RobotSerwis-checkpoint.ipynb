{
 "cells": [
  {
   "cell_type": "code",
   "execution_count": 1,
   "id": "latter-earth",
   "metadata": {},
   "outputs": [],
   "source": [
    "import rospy\n",
    "import numpy as np\n",
    "from turtlesim.srv import Spawn\n",
    "from turtlesim.msg import Pose\n",
    "from geometry_msgs.msg import Twist\n",
    "from pkg_tsr.srv import Task\n",
    "import math\n",
    "\n",
    "rospy.init_node(\"serwis_node_test\")"
   ]
  },
  {
   "cell_type": "code",
   "execution_count": 2,
   "id": "linear-cheat",
   "metadata": {},
   "outputs": [],
   "source": [
    "class Robot():\n",
    "    position = Pose()\n",
    "    def __init__(self, name, x, y):\n",
    "        self.name = name\n",
    "        create_new_turtle = rospy.ServiceProxy('spawn', Spawn)\n",
    "        create_new_turtle(x, y, 0, name)\n",
    "        \n",
    "        self.follow_service = rospy.Service(name+'/go_to_goal', Task, self.go_to_goal)\n",
    "        self.velocity_pub = rospy.Publisher(name+'/cmd_vel', Twist, queue_size=10)\n",
    "        self.pose_sub = rospy.Subscriber(name+'/pose',Pose, self.callback_pose)\n",
    "        \n",
    "    def go_to_goal(self, msg_srv):\n",
    "        max_speed = 0.3 # dla liniowych i obrotowych\n",
    "        tolerance = 0.05 # max odleglosc od punktu\n",
    "        \n",
    "        # obracanie się w stronę punktu\n",
    "        while True:\n",
    "            celTheta = math.atan2(msg_srv.y - self.position.y,msg_srv.x - self.position.x)\n",
    "            celDelta = celTheta - self.position.theta\n",
    "            if abs(celDelta) < tolerance*0.005:\n",
    "                break\n",
    "            # poprawiamy\n",
    "            msg_vel = Twist()\n",
    "            speed = np.clip(0.2*(abs(celDelta))+0.01,0,max_speed)\n",
    "            if celDelta > 0:\n",
    "                msg_vel.angular.z = speed\n",
    "            else:\n",
    "                msg_vel.angular.z = -speed\n",
    "            self.velocity_pub.publish(msg_vel)\n",
    "            \n",
    "        # jazda do punktu\n",
    "        while True:\n",
    "            celDelta = math.sqrt((msg_srv.x - self.position.x)**2 + (msg_srv.y - self.position.y)**2)\n",
    "            if celDelta < tolerance:\n",
    "                break\n",
    "            #poprawiamy\n",
    "            msg_vel = Twist()\n",
    "            msg_vel.linear.x = np.clip(0.25*celDelta+0.025,0,max_speed)\n",
    "            self.velocity_pub.publish(msg_vel)\n",
    "            \n",
    "        return \"finished\" \n",
    "        \n",
    "    def callback_pose(self, data):\n",
    "        self.position = data\n",
    "    \n",
    "    def unregister(self):\n",
    "        self.follow_service.shutdown()\n",
    "        \n",
    "# funkcja pomocnicza do kierowania robotem\n",
    "def kieruj(robot,listaPunktow):\n",
    "    klient = rospy.ServiceProxy(robot.name+'/go_to_goal',Task)\n",
    "    for punkt in listaPunktow:\n",
    "        klient(punkt.x,punkt.y)\n",
    "        \n",
    "class Punkt():\n",
    "    x = 0.0\n",
    "    y = 0.0\n",
    "    def __init__(self,x,y):\n",
    "        self.x = x\n",
    "        self.y = y"
   ]
  },
  {
   "cell_type": "code",
   "execution_count": 9,
   "id": "devoted-stomach",
   "metadata": {},
   "outputs": [
    {
     "name": "stdout",
     "output_type": "stream",
     "text": [
      "\r\n"
     ]
    }
   ],
   "source": [
    "!rosservice call reset"
   ]
  },
  {
   "cell_type": "code",
   "execution_count": 8,
   "id": "unique-dynamics",
   "metadata": {},
   "outputs": [],
   "source": [
    "robocik.unregister()"
   ]
  },
  {
   "cell_type": "code",
   "execution_count": 10,
   "id": "expensive-durham",
   "metadata": {},
   "outputs": [],
   "source": [
    "# UZUPEŁNIĆ - utworzyć klienta i zlecić zadanie dojazdu do kilku różnych punktów\n",
    "robocik = Robot(\"Danonek4\",4,1)\n",
    "droga = [ \n",
    "    Punkt(5,5),\n",
    "    Punkt(5,8),\n",
    "    Punkt(8,8),\n",
    "    Punkt(1,5),\n",
    "    Punkt(5,4)\n",
    "]\n",
    "kieruj(robocik,droga)"
   ]
  },
  {
   "cell_type": "code",
   "execution_count": 6,
   "id": "tamil-syntax",
   "metadata": {},
   "outputs": [
    {
     "data": {
      "text/plain": [
       "x: 4.989445686340332\n",
       "y: 4.003197193145752\n",
       "theta: -0.25206229090690613\n",
       "linear_velocity: 0.0\n",
       "angular_velocity: 0.0"
      ]
     },
     "execution_count": 6,
     "metadata": {},
     "output_type": "execute_result"
    }
   ],
   "source": [
    "robocik.position"
   ]
  },
  {
   "cell_type": "code",
   "execution_count": null,
   "id": "liberal-government",
   "metadata": {},
   "outputs": [],
   "source": []
  }
 ],
 "metadata": {
  "kernelspec": {
   "display_name": "Python 3",
   "language": "python",
   "name": "python3"
  },
  "language_info": {
   "codemirror_mode": {
    "name": "ipython",
    "version": 3
   },
   "file_extension": ".py",
   "mimetype": "text/x-python",
   "name": "python",
   "nbconvert_exporter": "python",
   "pygments_lexer": "ipython3",
   "version": "3.8.5"
  }
 },
 "nbformat": 4,
 "nbformat_minor": 5
}
