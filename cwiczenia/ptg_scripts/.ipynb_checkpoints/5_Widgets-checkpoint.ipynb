{
 "cells": [
  {
   "cell_type": "markdown",
   "metadata": {},
   "source": [
    "# Widgets\n",
    "Są to obiekty w Pythonie reagujące na zdarzenia i umożliwiające obsługę różnych popularnych kontrolek w przeglądarce. Wykorzystane zostaną do utworzenia prostego GUI do obsługi robota."
   ]
  },
  {
   "cell_type": "code",
   "execution_count": 1,
   "metadata": {},
   "outputs": [],
   "source": [
    "import ipywidgets as widgets"
   ]
  },
  {
   "cell_type": "code",
   "execution_count": 2,
   "metadata": {},
   "outputs": [],
   "source": [
    "import rospy\n",
    "from geometry_msgs.msg import Twist"
   ]
  },
  {
   "cell_type": "code",
   "execution_count": 3,
   "metadata": {},
   "outputs": [],
   "source": [
    "rospy.init_node(\"widgets_controller\")"
   ]
  },
  {
   "cell_type": "markdown",
   "metadata": {},
   "source": [
    "Na zajęciach w których omawiany był Publisher wysyłanie prędkości sterujących odbywało się w następuący sposób:"
   ]
  },
  {
   "cell_type": "code",
   "execution_count": 7,
   "metadata": {},
   "outputs": [],
   "source": [
    "twist_publisher= rospy.Publisher(\"/turtle1/cmd_vel\",Twist,queue_size=10)\n",
    "\n",
    "some_message=Twist()\n",
    "some_message.angular.z=1\n",
    "some_message.linear.x=10\n",
    "\n",
    "twist_publisher.publish(some_message)"
   ]
  },
  {
   "cell_type": "code",
   "execution_count": 8,
   "metadata": {},
   "outputs": [],
   "source": [
    "def move_robot(forward_vel=5,rotation_vel=5):\n",
    "    '''A function to move turtle from turtlesim simulation\n",
    "    \n",
    "    Args:\n",
    "        forward_vel (float): Linear velocity\n",
    "        rotation_vel (float): Angular velocity'''\n",
    "    message=Twist()\n",
    "    message.angular.z=rotation_vel\n",
    "    message.linear.x=forward_vel\n",
    "    \n",
    "    \n",
    "    twist_publisher.publish(message)"
   ]
  },
  {
   "cell_type": "code",
   "execution_count": 7,
   "metadata": {},
   "outputs": [],
   "source": [
    "move_robot(1,-1)"
   ]
  },
  {
   "cell_type": "markdown",
   "metadata": {},
   "source": [
    "# Slider"
   ]
  },
  {
   "cell_type": "markdown",
   "metadata": {},
   "source": [
    "Jak widać zmiana prędkości odbywa się poprzez ręczne wprowadzenie wartośi i wywołanie funkcji. Z punktu widzenia użytkownika oczekiwałby on, aby mógł sterować robotem przy pomocy kontrolek. Wykorzystamy funkcję **move_robot** do utworzenia domyślnego widgetu sterującego prędkościami robota. Każda zmiana wartości kontrolki powoduje wywołanie funkcji **move_robot** i wysłanie odczytanych prędkości z kontrolek."
   ]
  },
  {
   "cell_type": "code",
   "execution_count": 7,
   "metadata": {},
   "outputs": [
    {
     "data": {
      "application/vnd.jupyter.widget-view+json": {
       "model_id": "2f9ee48d596f4f24a26aad12f970657b",
       "version_major": 2,
       "version_minor": 0
      },
      "text/plain": [
       "interactive(children=(IntSlider(value=5, description='forward_vel', max=15, min=-5), IntSlider(value=5, descri…"
      ]
     },
     "metadata": {},
     "output_type": "display_data"
    },
    {
     "data": {
      "text/plain": [
       "<function __main__.move_robot(forward_vel=5, rotation_vel=5)>"
      ]
     },
     "execution_count": 7,
     "metadata": {},
     "output_type": "execute_result"
    }
   ],
   "source": [
    "widgets.interact(move_robot)"
   ]
  },
  {
   "cell_type": "markdown",
   "metadata": {},
   "source": [
    "Można również zdefiniować własne kontrolki. Poniżej przykład z użyciem **FloatSlider** dla, którego ustawiane są wartości minimalne, maksymalne, krok zmiany oraz wartość początkowa. Jako pierwszy argument podawana jest nazwa funkcji, która ma zostać wywołana. Dla argumentów jakie przyjmuje funkcja *move_turtle* utworzone zostały odpowiednie slidery."
   ]
  },
  {
   "cell_type": "code",
   "execution_count": 9,
   "metadata": {},
   "outputs": [
    {
     "data": {
      "application/vnd.jupyter.widget-view+json": {
       "model_id": "bf685bcca6ec45eca3f6e53153f9c0a5",
       "version_major": 2,
       "version_minor": 0
      },
      "text/plain": [
       "interactive(children=(FloatSlider(value=0.0, description='forward_vel', max=10.0, min=-10.0, step=2.0), FloatS…"
      ]
     },
     "metadata": {},
     "output_type": "display_data"
    },
    {
     "data": {
      "text/plain": [
       "<function __main__.move_robot(forward_vel=5, rotation_vel=5)>"
      ]
     },
     "execution_count": 9,
     "metadata": {},
     "output_type": "execute_result"
    }
   ],
   "source": [
    "widgets.interact(move_robot,\n",
    "                 forward_vel=widgets.FloatSlider(min=-10,max=10,step=2,value=0),\n",
    "                 rotation_vel=widgets.FloatSlider(min=-3,max=3,value=0))"
   ]
  },
  {
   "cell_type": "markdown",
   "metadata": {},
   "source": [
    "#### Zadanie 1\n",
    "Utworzyć slidery do zmiany koloru tła\n",
    "1. Zaimportować odpowiednie biblioteki dla sersicu /clear\n",
    "2. Utworzyć funkcję set_color przyjmującą 3 argumeny koloru, która ustawia odpowiednie wartości parametrów koloru tła. Było na zajęciach z ROS Parameter Server.\n",
    "3. Wyczyścić serwisem */clear* tło mapy, aby możliwa była aktualizacja koloru.\n",
    "4. Utworzyć widget z 3 sliderami ustawiającymi kolor.\n"
   ]
  },
  {
   "cell_type": "code",
   "execution_count": 9,
   "metadata": {},
   "outputs": [],
   "source": [
    "# UZUPEŁNIĆ\n",
    "import rospy\n",
    "from std_srvs.srv import Empty"
   ]
  },
  {
   "cell_type": "code",
   "execution_count": 10,
   "metadata": {},
   "outputs": [],
   "source": [
    "clear = rospy.ServiceProxy('clear',Empty)\n",
    "\n",
    "def set_color(r = 255, g = 255, b = 255):\n",
    "    rospy.set_param(\"turtlesim\",{\n",
    "        \"background_r\":r,\n",
    "        \"background_g\":g,\n",
    "        \"background_b\":b\n",
    "    })\n",
    "    clear()"
   ]
  },
  {
   "cell_type": "code",
   "execution_count": 11,
   "metadata": {},
   "outputs": [
    {
     "data": {
      "application/vnd.jupyter.widget-view+json": {
       "model_id": "b90445f9eb604dd3a516bd7835ad64d7",
       "version_major": 2,
       "version_minor": 0
      },
      "text/plain": [
       "interactive(children=(FloatSlider(value=0.0, description='r', max=255.0), FloatSlider(value=0.0, description='…"
      ]
     },
     "metadata": {},
     "output_type": "display_data"
    },
    {
     "data": {
      "text/plain": [
       "<function __main__.set_color(r=255, g=255, b=255)>"
      ]
     },
     "execution_count": 11,
     "metadata": {},
     "output_type": "execute_result"
    }
   ],
   "source": [
    "widgets.interact(set_color,\n",
    "                r = widgets.FloatSlider(min=0,max=255,step=0.1,value=0),\n",
    "                g = widgets.FloatSlider(min=0,max=255,step=0.1,value=0),\n",
    "                b = widgets.FloatSlider(min=0,max=255,step=0.1,value=0)\n",
    "                )"
   ]
  },
  {
   "cell_type": "markdown",
   "metadata": {},
   "source": [
    "# Textbox\n",
    "Teraz czas na wysłanie dowolnej informacji na topicu **/informacja**. Skorzystanie z kontrolki do wprowadzania tekstu spowoduje, że każde wprowadzenie nowego znaku wyśle wiadomość. W terminalu można podejrzeć informację na tym topicu.\n",
    "\n",
    "*rostopic echo /informacja*\n",
    "\n",
    "Oto przykład:"
   ]
  },
  {
   "cell_type": "code",
   "execution_count": 12,
   "metadata": {},
   "outputs": [],
   "source": [
    "from std_msgs.msg import String\n",
    "def send_msg(wiadomosc):\n",
    "    pub_info = pub_speed=rospy.Publisher(\"/informacja\",String,queue_size=10)\n",
    "    msg_info = String()\n",
    "    msg_info.data = wiadomosc\n",
    "    pub_info.publish(msg_info)"
   ]
  },
  {
   "cell_type": "code",
   "execution_count": 13,
   "metadata": {},
   "outputs": [
    {
     "data": {
      "application/vnd.jupyter.widget-view+json": {
       "model_id": "3f29d1f3296f44fba18532cf54eb64d2",
       "version_major": 2,
       "version_minor": 0
      },
      "text/plain": [
       "interactive(children=(Text(value='Hello World!', description='wiadomosc'), Output()), _dom_classes=('widget-in…"
      ]
     },
     "metadata": {},
     "output_type": "display_data"
    },
    {
     "data": {
      "text/plain": [
       "<function __main__.send_msg(wiadomosc)>"
      ]
     },
     "execution_count": 13,
     "metadata": {},
     "output_type": "execute_result"
    }
   ],
   "source": [
    "widgets.interact(send_msg,\n",
    "                    wiadomosc=widgets.Text(value='Hello World!'))"
   ]
  },
  {
   "cell_type": "markdown",
   "metadata": {},
   "source": [
    "# Button"
   ]
  },
  {
   "cell_type": "markdown",
   "metadata": {},
   "source": [
    "Jeśli chcielibyśmy wysłać dowolną informację po zakończeniu jej wprowadzania przydadlby się przycisk *wyślij* odpowiedzialny za przekazanie informacji.\n"
   ]
  },
  {
   "cell_type": "code",
   "execution_count": 14,
   "metadata": {},
   "outputs": [
    {
     "data": {
      "application/vnd.jupyter.widget-view+json": {
       "model_id": "6fcf98bac81a4f138029727ac0782dee",
       "version_major": 2,
       "version_minor": 0
      },
      "text/plain": [
       "ToggleButton(value=False, description='Click me', icon='check', tooltip='Description')"
      ]
     },
     "metadata": {},
     "output_type": "display_data"
    }
   ],
   "source": [
    "widgets.ToggleButton(\n",
    "    value=False,\n",
    "    description='Click me',\n",
    "    disabled=False,\n",
    "    button_style='', # 'success', 'info', 'warning', 'danger' or ''\n",
    "    tooltip='Description',\n",
    "    icon='check' # (FontAwesome names without the `fa-` prefix)\n",
    ")"
   ]
  },
  {
   "cell_type": "markdown",
   "metadata": {},
   "source": [
    "Teraz czas na modyfikację kodu do wysyłania informacji po wciśnięciu przycisku wyślij. W tym celu tworzona jest zmienna *input_text*. Do wyświetlenia kontrolki służy funkcja *display()*."
   ]
  },
  {
   "cell_type": "code",
   "execution_count": 15,
   "metadata": {},
   "outputs": [
    {
     "data": {
      "application/vnd.jupyter.widget-view+json": {
       "model_id": "b5256ea1a7cb44288384f616d6f09363",
       "version_major": 2,
       "version_minor": 0
      },
      "text/plain": [
       "Text(value='Hello World!', description='informacja:')"
      ]
     },
     "metadata": {},
     "output_type": "display_data"
    }
   ],
   "source": [
    "input_text = widgets.Text(value='Hello World!', disabled=False, description=\"informacja:\")\n",
    "display(input_text)"
   ]
  },
  {
   "cell_type": "markdown",
   "metadata": {},
   "source": [
    "Odbiór wartości z kontrolki."
   ]
  },
  {
   "cell_type": "code",
   "execution_count": 17,
   "metadata": {},
   "outputs": [
    {
     "name": "stdout",
     "output_type": "stream",
     "text": [
      "haras\n",
      "typ wartości:  <class 'str'>\n"
     ]
    }
   ],
   "source": [
    "odczytany_tekst = input_text.value\n",
    "print(odczytany_tekst)\n",
    "print(\"typ wartości: \", type(odczytany_tekst))"
   ]
  },
  {
   "cell_type": "markdown",
   "metadata": {},
   "source": [
    "Jak można zauważyć pomimo tego, że tekst wprowadzamy jako string to po odczytaniu wartości jest ona typu 'unicode'.\n",
    "Jeśli mamy wysłać wiadomość tekstową to należy dokonać konwersji typu na str."
   ]
  },
  {
   "cell_type": "code",
   "execution_count": 18,
   "metadata": {},
   "outputs": [
    {
     "name": "stdout",
     "output_type": "stream",
     "text": [
      "haras\n",
      "typ wartości:  <class 'str'>\n"
     ]
    }
   ],
   "source": [
    "odczytany_tekst = str(input_text.value)\n",
    "print(odczytany_tekst)\n",
    "print(\"typ wartości: \", type(odczytany_tekst))"
   ]
  },
  {
   "cell_type": "markdown",
   "metadata": {},
   "source": [
    "Funkcja *send_msg* jako argument przyjmuje informację o stanie przycisku *wyslij*, z którego pochodzi żądanie wywołania tej funkji."
   ]
  },
  {
   "cell_type": "code",
   "execution_count": 19,
   "metadata": {},
   "outputs": [],
   "source": [
    "from std_msgs.msg import String\n",
    "def send_msg(button_data):\n",
    "    pub_info = pub_speed=rospy.Publisher(\"/informacja\",String,queue_size=10)\n",
    "    msg_info = String()\n",
    "    msg_info.data = str(input_text.value)\n",
    "    pub_info.publish(msg_info)"
   ]
  },
  {
   "cell_type": "markdown",
   "metadata": {},
   "source": [
    "Utworzenie przycisku do wysyłania wiadomości."
   ]
  },
  {
   "cell_type": "code",
   "execution_count": 20,
   "metadata": {},
   "outputs": [
    {
     "data": {
      "application/vnd.jupyter.widget-view+json": {
       "model_id": "0659c38b474e470eb0a015b8e753c4ab",
       "version_major": 2,
       "version_minor": 0
      },
      "text/plain": [
       "Button(description='wyslij', icon='check', style=ButtonStyle(), tooltip='Description')"
      ]
     },
     "metadata": {},
     "output_type": "display_data"
    }
   ],
   "source": [
    "przycisk_wyslij = widgets.Button(\n",
    "    value=False,\n",
    "    description='wyslij',\n",
    "    disabled=False,\n",
    "    button_style='', # 'success', 'info', 'warning', 'danger' or ''\n",
    "    tooltip='Description',\n",
    "    icon='check' # (FontAwesome names without the `fa-` prefix)\n",
    ")\n",
    "display(przycisk_wyslij)"
   ]
  },
  {
   "cell_type": "markdown",
   "metadata": {},
   "source": [
    "Obsługa zdarzenia przycisku na kliknięcie. Po wciśnięciu przycisku wyślij następuje wywołanie funkcji **send_msg** podanej jako argument w poniższej metodzie dla zmiennej przechowującej informację o obiekcie przycisku. Wywołana funkcja jako argument przyjmuje informację o stanie przycisku, z którego pochodzi sygnał."
   ]
  },
  {
   "cell_type": "code",
   "execution_count": 21,
   "metadata": {},
   "outputs": [],
   "source": [
    "przycisk_wyslij.on_click(send_msg)"
   ]
  },
  {
   "cell_type": "markdown",
   "metadata": {},
   "source": [
    "#### Zadanie 2\n",
    "Utworzyć publishera i slidery do wysyłania prędkości postępowej i obrotowej do robota. Można skorzystać z dostępnych sliderów na początku tego skryptu.\n",
    "Wiadomość o prędkościach powinna pojawiać się na topicu **/nazwa_robota/cmd_vel/slider**."
   ]
  },
  {
   "cell_type": "code",
   "execution_count": 33,
   "metadata": {},
   "outputs": [
    {
     "data": {
      "application/vnd.jupyter.widget-view+json": {
       "model_id": "b32476183e484e1e867f6e0d6d34986a",
       "version_major": 2,
       "version_minor": 0
      },
      "text/plain": [
       "interactive(children=(FloatSlider(value=0.0, description='forward_vel', max=10.0, min=-10.0), FloatSlider(valu…"
      ]
     },
     "metadata": {},
     "output_type": "display_data"
    },
    {
     "data": {
      "text/plain": [
       "<function __main__.send_vel(forward_vel=0, rotation_vel=0)>"
      ]
     },
     "execution_count": 33,
     "metadata": {},
     "output_type": "execute_result"
    }
   ],
   "source": [
    "# UZUPEŁNIĆ\n",
    "import rospy\n",
    "import ipywidgets as widgets\n",
    "from geometry_msgs.msg import Twist\n",
    "from turtlesim.msg import Pose\n",
    "from std_msgs.msg import Float32\n",
    "\n",
    "class RobotControl():\n",
    "    def __init__(self,name):\n",
    "        self.name = name\n",
    "        self.vel_pub = rospy.Publisher(name + '/cmd_vel',Twist,queue_size = 10)\n",
    "        self.slider_sub = rospy.Subscriber(name + '/slider',Twist,self.UpdatePos)\n",
    "        self.pose_sub = rospy.Subscriber(name + '/pose',Pose,self.HandleMove)\n",
    "        self.current_twist = Twist()\n",
    "        \n",
    "    def UpdatePos(self,data):\n",
    "        self.current_twist = data\n",
    "        \n",
    "    def HandleMove(self,data):\n",
    "        self.vel_pub.publish(self.current_twist)\n",
    "        \n",
    "    def unregister(self):\n",
    "        self.slider_sub.unregister()\n",
    "        self.pose_sub.unregister()\n",
    "\n",
    "robotControls = RobotControl(\"turtle1\")\n",
    "pub_vel_slider = rospy.Publisher(\"/turtle1/slider\",Twist,queue_size=10)\n",
    "def send_vel(forward_vel = 0, rotation_vel = 0):\n",
    "    message = Twist()\n",
    "    message.angular.z = rotation_vel\n",
    "    message.linear.x = forward_vel\n",
    "    pub_vel_slider.publish(message)\n",
    "\n",
    "widgets.interact(send_vel,\n",
    "                 forward_vel=widgets.FloatSlider(min=-10,max=10,step=0.1,value=0),\n",
    "                 rotation_vel=widgets.FloatSlider(min=-3,max=3,step=0.1,value=0))"
   ]
  },
  {
   "cell_type": "code",
   "execution_count": 32,
   "metadata": {},
   "outputs": [],
   "source": [
    "robotControls.unregister()"
   ]
  },
  {
   "cell_type": "markdown",
   "metadata": {},
   "source": [
    "#### Zadanie 3\n",
    "Utworzyć dwie kontrolki do wprowadzania prędkości. Wysłanie prędkości powinno zostać zatwierdzone przez wciśnięcie przycisku. Można skorzystać z kontrolki **FloatText** przedstawionej poniżej. Można zauważyć, że zwracana wartość przez kontrolkę jest typu float i nie trzeba dokonać konwersji danych."
   ]
  },
  {
   "cell_type": "code",
   "execution_count": 14,
   "metadata": {},
   "outputs": [
    {
     "data": {
      "application/vnd.jupyter.widget-view+json": {
       "model_id": "ebb58c9c242c4d189f280a725a6f8557",
       "version_major": 2,
       "version_minor": 0
      },
      "text/plain": [
       "FloatText(value=7.5, description='Any:')"
      ]
     },
     "metadata": {},
     "output_type": "display_data"
    },
    {
     "name": "stdout",
     "output_type": "stream",
     "text": [
      "7.5\n",
      "typ wartości:  <class 'float'>\n"
     ]
    }
   ],
   "source": [
    "liczba = widgets.FloatText(\n",
    "    value=7.5,\n",
    "    description='Any:',\n",
    "    disabled=False\n",
    ")\n",
    "display(liczba)\n",
    "odczytana_liczba = liczba.value\n",
    "print(odczytana_liczba)\n",
    "print(\"typ wartości: \", type(odczytana_liczba))"
   ]
  },
  {
   "cell_type": "code",
   "execution_count": null,
   "metadata": {},
   "outputs": [],
   "source": [
    "# UZUPEŁNIĆ\n"
   ]
  },
  {
   "cell_type": "markdown",
   "metadata": {},
   "source": [
    "#### Zadanie 4\n",
    "Utworzyć przycisk do wysyłania prędkości wraz z funkcją, która będzie wysyłała wartość z przycisków na topic **/nazwa_robota/cmd_vel/float_text**."
   ]
  },
  {
   "cell_type": "code",
   "execution_count": null,
   "metadata": {},
   "outputs": [],
   "source": [
    "# UZUPEŁNIĆ\n"
   ]
  },
  {
   "cell_type": "code",
   "execution_count": null,
   "metadata": {},
   "outputs": [],
   "source": []
  },
  {
   "cell_type": "markdown",
   "metadata": {},
   "source": [
    "#### Zadanie 5\n",
    "Utworzyć parametr *select_controler* oraz uzupełnić poniższą klasę."
   ]
  },
  {
   "cell_type": "code",
   "execution_count": null,
   "metadata": {},
   "outputs": [],
   "source": [
    "rospy.set_param(..., ...) # UZUPEŁNIĆ ustawić parametr velocity_source, 1 - źródło slidery, 2 - float_text\n",
    "class VelocityControler:\n",
    "    def __init__(self):\n",
    "        slider_sub = ... # UZUPEŁNIĆ subscriberem od topicu ze sliderów,  do odczytu wykorzystać \n",
    "                         # metodę klasy callback_slider. Odwołanie się do metod klasy następuje poprzez self.nazwa_metody w klasie.\n",
    "        float_text_sub = ... # UZUPEŁNIĆ subscriberem od wartości prędkości wprowadzanych z pól tekstowych callback_float_text\n",
    "        self.vel_pub = ... # UZUPEŁNIĆ utworzyć publishera, który będzie wysyłał wiadomości w zależności od ustawionego\n",
    "                      # parametru velocity_source do robota. Gdzie wartość parametru 1 oznacza, że źródłem jest\n",
    "                      # slider, a wartość 2 - float_text. Dla pozostałych wartości parametru robot stoi w miejscu.\n",
    "                      # Wysyłana jest prędkość 0 zatrzymująca robota. Wiadomość powinna zostać opublikowana na topic\n",
    "                      # sterującym robotem /nazwa_robota/cmd_vel\n",
    "        \n",
    "    def callback_slider(self, msg_data):\n",
    "        # UZUPEŁNIĆ zweryfikować stan parametru i jeśli tryb jest właściwy przekazywać prędkości sterujące\n",
    "        ...\n",
    "        \n",
    "    def callback_float_text(self, msg_data):\n",
    "        # UZUPEŁNIĆ zweryfikować stan parametru i jeśli tryb jest właściwy przekazywać prędkości sterujące\n",
    "        ..."
   ]
  },
  {
   "cell_type": "code",
   "execution_count": null,
   "metadata": {},
   "outputs": [],
   "source": [
    "VelocityControler()"
   ]
  },
  {
   "cell_type": "markdown",
   "metadata": {},
   "source": [
    "# Checkbox\n",
    "Przykład użycia"
   ]
  },
  {
   "cell_type": "code",
   "execution_count": null,
   "metadata": {},
   "outputs": [],
   "source": [
    "widgets.Checkbox(\n",
    "    value=False,\n",
    "    description='Check me',\n",
    "    disabled=False,\n",
    "    indent=False\n",
    ")"
   ]
  },
  {
   "cell_type": "markdown",
   "metadata": {},
   "source": [
    "#### Zadanie 6\n",
    "Odczytać wartość z przycisku i ustawić parametr **velocity_source**."
   ]
  },
  {
   "cell_type": "code",
   "execution_count": null,
   "metadata": {},
   "outputs": [],
   "source": [
    "# UZUPEŁNIĆ\n",
    "\n",
    "def set_velocity_source(slider_source): \n",
    "    #UZUPEŁNIĆ\n",
    "    ...\n",
    "    \n",
    "    \n",
    "widgets.interact(set_velocity_source,\n",
    "                slider_source = ... # UZUPEŁNIĆ\n",
    "                )"
   ]
  },
  {
   "cell_type": "markdown",
   "metadata": {},
   "source": [
    "# Tabs"
   ]
  },
  {
   "cell_type": "markdown",
   "metadata": {},
   "source": [
    "Do grupowania zakladek i wyświetlania wszystkich w jednej karcie służy **VBox** z omawianej biblioteki. Przyjmuje listę kontrolek do wyświetlenia."
   ]
  },
  {
   "cell_type": "code",
   "execution_count": null,
   "metadata": {},
   "outputs": [],
   "source": [
    "tab_contents = ['P0', 'P1', 'P2']\n",
    "children = [widgets.VBox([widgets.Text(description=name), widgets.IntSlider(), widgets.IntSlider(), widgets.IntSlider()]) for name in tab_contents]\n",
    "tab = widgets.Tab(children = children)\n",
    "for i in range(len(tab_contents)):\n",
    "    tab.set_title(i, tab_contents[i])\n",
    "tab"
   ]
  },
  {
   "cell_type": "code",
   "execution_count": null,
   "metadata": {},
   "outputs": [],
   "source": [
    "kontrolka1 = widgets.IntSlider(description=\"speed\")\n",
    "kontrolka1_2 = widgets.Checkbox(description=\"slider_source\")\n",
    "kontrolka2 = widgets.IntSlider(description=\"cos tam\")\n",
    "kontrolka3 = widgets.Text(description=\"info\")\n",
    "kontrolka3_2 = widgets.IntSlider(description=\"forward\")\n",
    "kontrolka3_3 = widgets.IntSlider(description=\"rotational\")\n",
    "\n",
    "children = [\n",
    "    widgets.VBox([kontrolka1, kontrolka1_2]),\n",
    "    widgets.VBox([kontrolka2]),\n",
    "    widgets.VBox([kontrolka3, kontrolka3_2, kontrolka3_3])\n",
    "]\n",
    "\n",
    "tab = widgets.Tab(children = children)\n",
    "# ustawianie nazwy zakładek; Kolejne argumenty: id zakładki, nazwa zakładki\n",
    "tab.set_title(0, \"P1\")\n",
    "tab.set_title(1, \"P2\")\n",
    "tab.set_title(2, \"P3\")\n",
    "tab"
   ]
  },
  {
   "cell_type": "markdown",
   "metadata": {},
   "source": [
    "### Dodatkowe widgety\n",
    "https://ipywidgets.readthedocs.io/en/latest/examples/Widget%20List.html\n",
    "### Zmiana stylu i układu kontrolek\n",
    "https://ipywidgets.readthedocs.io/en/latest/examples/Widget%20Styling.html"
   ]
  },
  {
   "cell_type": "code",
   "execution_count": null,
   "metadata": {},
   "outputs": [],
   "source": []
  }
 ],
 "metadata": {
  "kernelspec": {
   "display_name": "Python 3",
   "language": "python",
   "name": "python3"
  },
  "language_info": {
   "codemirror_mode": {
    "name": "ipython",
    "version": 3
   },
   "file_extension": ".py",
   "mimetype": "text/x-python",
   "name": "python",
   "nbconvert_exporter": "python",
   "pygments_lexer": "ipython3",
   "version": "3.8.5"
  }
 },
 "nbformat": 4,
 "nbformat_minor": 4
}
