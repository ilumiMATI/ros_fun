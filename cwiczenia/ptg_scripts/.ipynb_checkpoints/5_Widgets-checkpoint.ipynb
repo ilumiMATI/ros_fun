{
 "cells": [
  {
   "cell_type": "markdown",
   "metadata": {},
   "source": [
    "# Widgets\n",
    "Są to obiekty w Pythonie reagujące na zdarzenia i umożliwiające obsługę różnych popularnych kontrolek w przeglądarce. Wykorzystane zostaną do utworzenia prostego GUI do obsługi robota."
   ]
  },
  {
   "cell_type": "code",
   "execution_count": 1,
   "metadata": {},
   "outputs": [],
   "source": [
    "import ipywidgets as widgets"
   ]
  },
  {
   "cell_type": "code",
   "execution_count": 2,
   "metadata": {},
   "outputs": [],
   "source": [
    "import rospy\n",
    "from geometry_msgs.msg import Twist"
   ]
  },
  {
   "cell_type": "code",
   "execution_count": 3,
   "metadata": {},
   "outputs": [],
   "source": [
    "rospy.init_node(\"widgets_controller\")"
   ]
  },
  {
   "cell_type": "markdown",
   "metadata": {},
   "source": [
    "Na zajęciach w których omawiany był Publisher wysyłanie prędkości sterujących odbywało się w następuący sposób:"
   ]
  },
  {
   "cell_type": "code",
   "execution_count": 4,
   "metadata": {},
   "outputs": [],
   "source": [
    "twist_publisher= rospy.Publisher(\"/turtle1/cmd_vel\",Twist,queue_size=10)\n",
    "\n",
    "some_message=Twist()\n",
    "some_message.angular.z=1\n",
    "some_message.linear.x=10\n",
    "\n",
    "twist_publisher.publish(some_message)"
   ]
  },
  {
   "cell_type": "code",
   "execution_count": 5,
   "metadata": {},
   "outputs": [],
   "source": [
    "def move_robot(forward_vel=5,rotation_vel=5):\n",
    "    '''A function to move turtle from turtlesim simulation\n",
    "    \n",
    "    Args:\n",
    "        forward_vel (float): Linear velocity\n",
    "        rotation_vel (float): Angular velocity'''\n",
    "    message=Twist()\n",
    "    message.angular.z=rotation_vel\n",
    "    message.linear.x=forward_vel\n",
    "    \n",
    "    \n",
    "    twist_publisher.publish(message)"
   ]
  },
  {
   "cell_type": "code",
   "execution_count": 6,
   "metadata": {},
   "outputs": [],
   "source": [
    "move_robot(1,-1)"
   ]
  },
  {
   "cell_type": "markdown",
   "metadata": {},
   "source": [
    "# Slider"
   ]
  },
  {
   "cell_type": "markdown",
   "metadata": {},
   "source": [
    "Jak widać zmiana prędkości odbywa się poprzez ręczne wprowadzenie wartośi i wywołanie funkcji. Z punktu widzenia użytkownika oczekiwałby on, aby mógł sterować robotem przy pomocy kontrolek. Wykorzystamy funkcję **move_robot** do utworzenia domyślnego widgetu sterującego prędkościami robota. Każda zmiana wartości kontrolki powoduje wywołanie funkcji **move_robot** i wysłanie odczytanych prędkości z kontrolek."
   ]
  },
  {
   "cell_type": "code",
   "execution_count": null,
   "metadata": {},
   "outputs": [],
   "source": [
    "widgets.interact(move_robot)"
   ]
  },
  {
   "cell_type": "markdown",
   "metadata": {},
   "source": [
    "Można również zdefiniować własne kontrolki. Poniżej przykład z użyciem **FloatSlider** dla, którego ustawiane są wartości minimalne, maksymalne, krok zmiany oraz wartość początkowa. Jako pierwszy argument podawana jest nazwa funkcji, która ma zostać wywołana. Dla argumentów jakie przyjmuje funkcja *move_turtle* utworzone zostały odpowiednie slidery."
   ]
  },
  {
   "cell_type": "code",
   "execution_count": null,
   "metadata": {},
   "outputs": [],
   "source": [
    "widgets.interact(move_robot,\n",
    "                 forward_vel=widgets.FloatSlider(min=-10,max=10,step=2,value=0),\n",
    "                 rotation_vel=widgets.FloatSlider(min=-3,max=3,value=0))"
   ]
  },
  {
   "cell_type": "markdown",
   "metadata": {},
   "source": [
    "#### Zadanie 1\n",
    "Utworzyć slidery do zmiany koloru tła\n",
    "1. Zaimportować odpowiednie biblioteki dla sersicu /clear\n",
    "2. Utworzyć funkcję set_color przyjmującą 3 argumeny koloru, która ustawia odpowiednie wartości parametrów koloru tła. Było na zajęciach z ROS Parameter Server.\n",
    "3. Wyczyścić serwisem */clear* tło mapy, aby możliwa była aktualizacja koloru.\n",
    "4. Utworzyć widget z 3 sliderami ustawiającymi kolor.\n"
   ]
  },
  {
   "cell_type": "code",
   "execution_count": null,
   "metadata": {},
   "outputs": [],
   "source": [
    "# UZUPEŁNIĆ\n"
   ]
  },
  {
   "cell_type": "code",
   "execution_count": null,
   "metadata": {},
   "outputs": [],
   "source": []
  },
  {
   "cell_type": "markdown",
   "metadata": {},
   "source": [
    "# Textbox\n",
    "Teraz czas na wysłanie dowolnej informacji na topicu **/informacja**. Skorzystanie z kontrolki do wprowadzania tekstu spowoduje, że każde wprowadzenie nowego znaku wyśle wiadomość. W terminalu można podejrzeć informację na tym topicu.\n",
    "\n",
    "*rostopic echo /informacja*\n",
    "\n",
    "Oto przykład:"
   ]
  },
  {
   "cell_type": "code",
   "execution_count": null,
   "metadata": {},
   "outputs": [],
   "source": [
    "from std_msgs.msg import String\n",
    "def send_msg(wiadomosc):\n",
    "    pub_info = pub_speed=rospy.Publisher(\"/informacja\",String,queue_size=10)\n",
    "    msg_info = String()\n",
    "    msg_info.data = wiadomosc\n",
    "    pub_info.publish(msg_info)"
   ]
  },
  {
   "cell_type": "code",
   "execution_count": null,
   "metadata": {},
   "outputs": [],
   "source": [
    "widgets.interact(send_msg,\n",
    "                    wiadomosc=widgets.Text(value='Hello World!'))"
   ]
  },
  {
   "cell_type": "markdown",
   "metadata": {},
   "source": [
    "# Button"
   ]
  },
  {
   "cell_type": "markdown",
   "metadata": {},
   "source": [
    "Jeśli chcielibyśmy wysłać dowolną informację po zakończeniu jej wprowadzania przydadlby się przycisk *wyślij* odpowiedzialny za przekazanie informacji.\n"
   ]
  },
  {
   "cell_type": "code",
   "execution_count": null,
   "metadata": {},
   "outputs": [],
   "source": [
    "widgets.ToggleButton(\n",
    "    value=False,\n",
    "    description='Click me',\n",
    "    disabled=False,\n",
    "    button_style='', # 'success', 'info', 'warning', 'danger' or ''\n",
    "    tooltip='Description',\n",
    "    icon='check' # (FontAwesome names without the `fa-` prefix)\n",
    ")"
   ]
  },
  {
   "cell_type": "markdown",
   "metadata": {},
   "source": [
    "Teraz czas na modyfikację kodu do wysyłania informacji po wciśnięciu przycisku wyślij. W tym celu tworzona jest zmienna *input_text*. Do wyświetlenia kontrolki służy funkcja *display()*."
   ]
  },
  {
   "cell_type": "code",
   "execution_count": null,
   "metadata": {},
   "outputs": [],
   "source": [
    "input_text = widgets.Text(value='Hello World!', disabled=False, description=\"informacja:\")\n",
    "display(input_text)"
   ]
  },
  {
   "cell_type": "markdown",
   "metadata": {},
   "source": [
    "Odbiór wartości z kontrolki."
   ]
  },
  {
   "cell_type": "code",
   "execution_count": null,
   "metadata": {},
   "outputs": [],
   "source": [
    "odczytany_tekst = input_text.value\n",
    "print(odczytany_tekst)\n",
    "print(\"typ wartości: \", type(odczytany_tekst))"
   ]
  },
  {
   "cell_type": "markdown",
   "metadata": {},
   "source": [
    "Jak można zauważyć pomimo tego, że tekst wprowadzamy jako string to po odczytaniu wartości jest ona typu 'unicode'.\n",
    "Jeśli mamy wysłać wiadomość tekstową to należy dokonać konwersji typu na str."
   ]
  },
  {
   "cell_type": "code",
   "execution_count": null,
   "metadata": {},
   "outputs": [],
   "source": [
    "odczytany_tekst = str(input_text.value)\n",
    "print(odczytany_tekst)\n",
    "print(\"typ wartości: \", type(odczytany_tekst))"
   ]
  },
  {
   "cell_type": "markdown",
   "metadata": {},
   "source": [
    "Funkcja *send_msg* jako argument przyjmuje informację o stanie przycisku *wyslij*, z którego pochodzi żądanie wywołania tej funkji."
   ]
  },
  {
   "cell_type": "code",
   "execution_count": null,
   "metadata": {},
   "outputs": [],
   "source": [
    "from std_msgs.msg import String\n",
    "def send_msg(button_data):\n",
    "    pub_info = pub_speed=rospy.Publisher(\"/informacja\",String,queue_size=10)\n",
    "    msg_info = String()\n",
    "    msg_info.data = str(input_text.value)\n",
    "    pub_info.publish(msg_info)"
   ]
  },
  {
   "cell_type": "markdown",
   "metadata": {},
   "source": [
    "Utworzenie przycisku do wysyłania wiadomości."
   ]
  },
  {
   "cell_type": "code",
   "execution_count": null,
   "metadata": {},
   "outputs": [],
   "source": [
    "przycisk_wyslij = widgets.Button(\n",
    "    value=False,\n",
    "    description='wyslij',\n",
    "    disabled=False,\n",
    "    button_style='', # 'success', 'info', 'warning', 'danger' or ''\n",
    "    tooltip='Description',\n",
    "    icon='check' # (FontAwesome names without the `fa-` prefix)\n",
    ")\n",
    "display(przycisk_wyslij)"
   ]
  },
  {
   "cell_type": "markdown",
   "metadata": {},
   "source": [
    "Obsługa zdarzenia przycisku na kliknięcie. Po wciśnięciu przycisku wyślij następuje wywołanie funkcji **send_msg** podanej jako argument w poniższej metodzie dla zmiennej przechowującej informację o obiekcie przycisku. Wywołana funkcja jako argument przyjmuje informację o stanie przycisku, z którego pochodzi sygnał."
   ]
  },
  {
   "cell_type": "code",
   "execution_count": null,
   "metadata": {},
   "outputs": [],
   "source": [
    "przycisk_wyslij.on_click(send_msg)"
   ]
  },
  {
   "cell_type": "markdown",
   "metadata": {},
   "source": [
    "#### Zadanie 2\n",
    "Utworzyć publishera i slidery do wysyłania prędkości postępowej i obrotowej do robota. Można skorzystać z dostępnych sliderów na początku tego skryptu.\n",
    "Wiadomość o prędkościach powinna pojawiać się na topicu **/nazwa_robota/cmd_vel/slider**."
   ]
  },
  {
   "cell_type": "code",
   "execution_count": null,
   "metadata": {},
   "outputs": [],
   "source": [
    "# UZUPEŁNIĆ\n"
   ]
  },
  {
   "cell_type": "markdown",
   "metadata": {},
   "source": [
    "#### Zadanie 3\n",
    "Utworzyć dwie kontrolki do wprowadzania prędkości. Wysłanie prędkości powinno zostać zatwierdzone przez wciśnięcie przycisku. Można skorzystać z kontrolki **FloatText** przedstawionej poniżej. Można zauważyć, że zwracana wartość przez kontrolkę jest typu float i nie trzeba dokonać konwersji danych."
   ]
  },
  {
   "cell_type": "code",
   "execution_count": null,
   "metadata": {},
   "outputs": [],
   "source": [
    "liczba = widgets.FloatText(\n",
    "    value=7.5,\n",
    "    description='Any:',\n",
    "    disabled=False\n",
    ")\n",
    "display(liczba)\n",
    "odczytana_liczba = liczba.value\n",
    "print(odczytana_liczba)\n",
    "print(\"typ wartości: \", type(odczytana_liczba))"
   ]
  },
  {
   "cell_type": "code",
   "execution_count": null,
   "metadata": {},
   "outputs": [],
   "source": [
    "# UZUPEŁNIĆ\n"
   ]
  },
  {
   "cell_type": "markdown",
   "metadata": {},
   "source": [
    "#### Zadanie 4\n",
    "Utworzyć przycisk do wysyłania prędkości wraz z funkcją, która będzie wysyłała wartość z przycisków na topic **/nazwa_robota/cmd_vel/float_text**."
   ]
  },
  {
   "cell_type": "code",
   "execution_count": null,
   "metadata": {},
   "outputs": [],
   "source": [
    "# UZUPEŁNIĆ\n"
   ]
  },
  {
   "cell_type": "code",
   "execution_count": null,
   "metadata": {},
   "outputs": [],
   "source": []
  },
  {
   "cell_type": "markdown",
   "metadata": {},
   "source": [
    "#### Zadanie 5\n",
    "Utworzyć parametr *select_controler* oraz uzupełnić poniższą klasę."
   ]
  },
  {
   "cell_type": "code",
   "execution_count": null,
   "metadata": {},
   "outputs": [],
   "source": [
    "rospy.set_param(..., ...) # UZUPEŁNIĆ ustawić parametr velocity_source, 1 - źródło slidery, 2 - float_text\n",
    "class VelocityControler:\n",
    "    def __init__(self):\n",
    "        slider_sub = ... # UZUPEŁNIĆ subscriberem od topicu ze sliderów,  do odczytu wykorzystać \n",
    "                         # metodę klasy callback_slider. Odwołanie się do metod klasy następuje poprzez self.nazwa_metody w klasie.\n",
    "        float_text_sub = ... # UZUPEŁNIĆ subscriberem od wartości prędkości wprowadzanych z pól tekstowych callback_float_text\n",
    "        self.vel_pub = ... # UZUPEŁNIĆ utworzyć publishera, który będzie wysyłał wiadomości w zależności od ustawionego\n",
    "                      # parametru velocity_source do robota. Gdzie wartość parametru 1 oznacza, że źródłem jest\n",
    "                      # slider, a wartość 2 - float_text. Dla pozostałych wartości parametru robot stoi w miejscu.\n",
    "                      # Wysyłana jest prędkość 0 zatrzymująca robota. Wiadomość powinna zostać opublikowana na topic\n",
    "                      # sterującym robotem /nazwa_robota/cmd_vel\n",
    "        \n",
    "    def callback_slider(self, msg_data):\n",
    "        # UZUPEŁNIĆ zweryfikować stan parametru i jeśli tryb jest właściwy przekazywać prędkości sterujące\n",
    "        ...\n",
    "        \n",
    "    def callback_float_text(self, msg_data):\n",
    "        # UZUPEŁNIĆ zweryfikować stan parametru i jeśli tryb jest właściwy przekazywać prędkości sterujące\n",
    "        ..."
   ]
  },
  {
   "cell_type": "code",
   "execution_count": null,
   "metadata": {},
   "outputs": [],
   "source": [
    "VelocityControler()"
   ]
  },
  {
   "cell_type": "markdown",
   "metadata": {},
   "source": [
    "# Checkbox\n",
    "Przykład użycia"
   ]
  },
  {
   "cell_type": "code",
   "execution_count": null,
   "metadata": {},
   "outputs": [],
   "source": [
    "widgets.Checkbox(\n",
    "    value=False,\n",
    "    description='Check me',\n",
    "    disabled=False,\n",
    "    indent=False\n",
    ")"
   ]
  },
  {
   "cell_type": "markdown",
   "metadata": {},
   "source": [
    "#### Zadanie 6\n",
    "Odczytać wartość z przycisku i ustawić parametr **velocity_source**."
   ]
  },
  {
   "cell_type": "code",
   "execution_count": null,
   "metadata": {},
   "outputs": [],
   "source": [
    "# UZUPEŁNIĆ\n",
    "\n",
    "def set_velocity_source(slider_source): \n",
    "    #UZUPEŁNIĆ\n",
    "    ...\n",
    "    \n",
    "    \n",
    "widgets.interact(set_velocity_source,\n",
    "                slider_source = ... # UZUPEŁNIĆ\n",
    "                )"
   ]
  },
  {
   "cell_type": "markdown",
   "metadata": {},
   "source": [
    "# Tabs"
   ]
  },
  {
   "cell_type": "markdown",
   "metadata": {},
   "source": [
    "Do grupowania zakladek i wyświetlania wszystkich w jednej karcie służy **VBox** z omawianej biblioteki. Przyjmuje listę kontrolek do wyświetlenia."
   ]
  },
  {
   "cell_type": "code",
   "execution_count": null,
   "metadata": {},
   "outputs": [],
   "source": [
    "tab_contents = ['P0', 'P1', 'P2']\n",
    "children = [widgets.VBox([widgets.Text(description=name), widgets.IntSlider(), widgets.IntSlider(), widgets.IntSlider()]) for name in tab_contents]\n",
    "tab = widgets.Tab(children = children)\n",
    "for i in range(len(tab_contents)):\n",
    "    tab.set_title(i, tab_contents[i])\n",
    "tab"
   ]
  },
  {
   "cell_type": "code",
   "execution_count": null,
   "metadata": {},
   "outputs": [],
   "source": [
    "kontrolka1 = widgets.IntSlider(description=\"speed\")\n",
    "kontrolka1_2 = widgets.Checkbox(description=\"slider_source\")\n",
    "kontrolka2 = widgets.IntSlider(description=\"cos tam\")\n",
    "kontrolka3 = widgets.Text(description=\"info\")\n",
    "kontrolka3_2 = widgets.IntSlider(description=\"forward\")\n",
    "kontrolka3_3 = widgets.IntSlider(description=\"rotational\")\n",
    "\n",
    "children = [\n",
    "    widgets.VBox([kontrolka1, kontrolka1_2]),\n",
    "    widgets.VBox([kontrolka2]),\n",
    "    widgets.VBox([kontrolka3, kontrolka3_2, kontrolka3_3])\n",
    "]\n",
    "\n",
    "tab = widgets.Tab(children = children)\n",
    "# ustawianie nazwy zakładek; Kolejne argumenty: id zakładki, nazwa zakładki\n",
    "tab.set_title(0, \"P1\")\n",
    "tab.set_title(1, \"P2\")\n",
    "tab.set_title(2, \"P3\")\n",
    "tab"
   ]
  },
  {
   "cell_type": "markdown",
   "metadata": {},
   "source": [
    "### Dodatkowe widgety\n",
    "https://ipywidgets.readthedocs.io/en/latest/examples/Widget%20List.html\n",
    "### Zmiana stylu i układu kontrolek\n",
    "https://ipywidgets.readthedocs.io/en/latest/examples/Widget%20Styling.html"
   ]
  },
  {
   "cell_type": "code",
   "execution_count": null,
   "metadata": {},
   "outputs": [],
   "source": []
  }
 ],
 "metadata": {
  "kernelspec": {
   "display_name": "Python 3",
   "language": "python",
   "name": "python3"
  },
  "language_info": {
   "codemirror_mode": {
    "name": "ipython",
    "version": 3
   },
   "file_extension": ".py",
   "mimetype": "text/x-python",
   "name": "python",
   "nbconvert_exporter": "python",
   "pygments_lexer": "ipython3",
   "version": "3.8.5"
  }
 },
 "nbformat": 4,
 "nbformat_minor": 4
}
