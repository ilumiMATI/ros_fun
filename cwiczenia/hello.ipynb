{
 "cells": [
  {
   "cell_type": "code",
   "execution_count": 8,
   "id": "demanding-allowance",
   "metadata": {},
   "outputs": [
    {
     "name": "stdout",
     "output_type": "stream",
     "text": [
      "Hello World\n",
      "12.3\n",
      "hello systemy robotyczne\n",
      "12.3\n",
      "120.3\n"
     ]
    }
   ],
   "source": [
    "print(\"Hello World\")\n",
    "print(12.3)\n",
    "print(\"hello \" + \"systemy robotyczne\")\n",
    "print(12 + 0.3)\n",
    "print(str(12) + str(0.3))"
   ]
  },
  {
   "cell_type": "code",
   "execution_count": 18,
   "id": "nearby-fundamentals",
   "metadata": {},
   "outputs": [],
   "source": [
    "duzy = False\n",
    "\n",
    "if duzy:\n",
    "    print(\"ale duzy\")"
   ]
  },
  {
   "cell_type": "code",
   "execution_count": 14,
   "id": "separated-airplane",
   "metadata": {},
   "outputs": [
    {
     "name": "stdout",
     "output_type": "stream",
     "text": [
      "no wcale nie taki duzy\n"
     ]
    }
   ],
   "source": [
    "if duzy:\n",
    "    print(\"ale duży\")\n",
    "else:\n",
    "    print(\"no wcale nie taki duzy\")"
   ]
  },
  {
   "cell_type": "code",
   "execution_count": 17,
   "id": "played-mathematics",
   "metadata": {},
   "outputs": [
    {
     "name": "stdout",
     "output_type": "stream",
     "text": [
      "wieksza niz dwa ale nie 4\n"
     ]
    }
   ],
   "source": [
    "tajemnicza_liczba = 3\n",
    "\n",
    "if tajemnicza_liczba == 4:\n",
    "    print(\"To czworka\")\n",
    "elif tajemnicza_liczba > 2:\n",
    "    print(\"wieksza niz dwa ale nie 4\")\n",
    "else:\n",
    "    print(\"w pozostałych przypadkach\")"
   ]
  },
  {
   "cell_type": "code",
   "execution_count": 19,
   "id": "detected-boulder",
   "metadata": {},
   "outputs": [
    {
     "data": {
      "text/plain": [
       "11"
      ]
     },
     "execution_count": 19,
     "metadata": {},
     "output_type": "execute_result"
    }
   ],
   "source": [
    "len(\"hello world\")"
   ]
  },
  {
   "cell_type": "code",
   "execution_count": 32,
   "id": "delayed-carolina",
   "metadata": {},
   "outputs": [],
   "source": [
    "#### challenge\n",
    "# ZADANIE\n",
    "# jesli ten tekst jest dluzszy niz 100 znaków to ma printowac \"dlugi tekst\"\n",
    "# jak ma dokładnie 20 znaków to ma printować \"perfect\"\n",
    "# a jak zero to ma drukować ;-(\n",
    "\n",
    "jakis_tekst = \"Ala ma kota\"\n",
    "dlugosc_tekstu = len(jakis_tekst)\n",
    "\n",
    "if dlugosc_tekstu > 100:\n",
    "    print(\"dlugi tekst\")\n",
    "elif dlugosc_tekstu == 20:\n",
    "    print(\"perfect\")\n",
    "elif dlugosc_tekstu == 0:\n",
    "    print(\";-(\")\n"
   ]
  },
  {
   "cell_type": "code",
   "execution_count": 26,
   "id": "basic-tablet",
   "metadata": {},
   "outputs": [
    {
     "data": {
      "text/plain": [
       "10"
      ]
     },
     "execution_count": 26,
     "metadata": {},
     "output_type": "execute_result"
    }
   ],
   "source": [
    "12 * 20\n",
    "12**2\n",
    "2+2*2**2"
   ]
  },
  {
   "cell_type": "code",
   "execution_count": 43,
   "id": "imposed-owner",
   "metadata": {},
   "outputs": [
    {
     "data": {
      "text/plain": [
       "'o'"
      ]
     },
     "execution_count": 43,
     "metadata": {},
     "output_type": "execute_result"
    }
   ],
   "source": [
    "lista_elementów = [2,1,4,5,\"kot\",\"młot\",[1,2,3,\"uciekinier\"]]\n",
    "krotka_elementów = (1,2,3,4,\"asasasasdsdsd\")\n",
    "\n",
    "lista_elementów[3]\n",
    "lista_elementów[4][1]"
   ]
  },
  {
   "cell_type": "code",
   "execution_count": 36,
   "id": "particular-formation",
   "metadata": {},
   "outputs": [
    {
     "name": "stdout",
     "output_type": "stream",
     "text": [
      "m\n",
      "Ala m\n",
      "a kota\n"
     ]
    }
   ],
   "source": [
    "print(jakis_tekst[4])\n",
    "print(jakis_tekst[0:5])\n",
    "print(jakis_tekst[5:])"
   ]
  },
  {
   "cell_type": "code",
   "execution_count": 40,
   "id": "joint-fruit",
   "metadata": {},
   "outputs": [
    {
     "name": "stdout",
     "output_type": "stream",
     "text": [
      "uciekinier\n"
     ]
    }
   ],
   "source": [
    "print(lista_elementów[6][3])"
   ]
  },
  {
   "cell_type": "code",
   "execution_count": 41,
   "id": "synthetic-marathon",
   "metadata": {},
   "outputs": [
    {
     "name": "stdout",
     "output_type": "stream",
     "text": [
      "2\n",
      "1\n",
      "4\n",
      "5\n",
      "kot\n",
      "młot\n",
      "[1, 2, 3, 'uciekinier']\n"
     ]
    }
   ],
   "source": [
    "for element in lista_elementów:\n",
    "    print(element)"
   ]
  },
  {
   "cell_type": "code",
   "execution_count": 42,
   "id": "palestinian-blend",
   "metadata": {},
   "outputs": [
    {
     "name": "stdout",
     "output_type": "stream",
     "text": [
      "[2, 1, 4, 5, 'kot', 'młot', [1, 2, 3, 'uciekinier'], 'nowy element']\n"
     ]
    }
   ],
   "source": [
    "lista_elementów.append(\"nowy element\")\n",
    "print(lista_elementów)"
   ]
  },
  {
   "cell_type": "code",
   "execution_count": 44,
   "id": "compliant-characterization",
   "metadata": {},
   "outputs": [
    {
     "name": "stdout",
     "output_type": "stream",
     "text": [
      "5\n",
      "7\n"
     ]
    }
   ],
   "source": [
    "print(len(krotka_elementów))\n",
    "print(len(lista_elementów))"
   ]
  },
  {
   "cell_type": "code",
   "execution_count": 46,
   "id": "original-acquisition",
   "metadata": {},
   "outputs": [
    {
     "name": "stdout",
     "output_type": "stream",
     "text": [
      "3 ale duzy\n",
      "10 ale duzy\n",
      "15 ale duzy\n",
      "16 ale duzy\n"
     ]
    }
   ],
   "source": [
    "lista_elementów = [1,2,3,10,15,16]\n",
    "wyniki = []\n",
    "for element in lista_elementów:\n",
    "    if element > 2:\n",
    "        print(element,\"ale duzy\")\n",
    "        wyniki.append(element)"
   ]
  },
  {
   "cell_type": "code",
   "execution_count": 53,
   "id": "trained-discretion",
   "metadata": {},
   "outputs": [
    {
     "name": "stdout",
     "output_type": "stream",
     "text": [
      "9.9225\n",
      "6.969600000000001\n",
      "10201\n",
      "[9.9225, 6.969600000000001, 10201]\n"
     ]
    }
   ],
   "source": [
    "dziwne_liczby = [3.15, 2.64, 101]\n",
    "\n",
    "# printowanie kwadratów i dodawanie jej do listy\n",
    "\n",
    "lista = []\n",
    "for el in dziwne_liczby:\n",
    "    nowy = el**2\n",
    "    lista.append(nowy)\n",
    "    print(nowy)\n",
    "print(lista)"
   ]
  },
  {
   "cell_type": "code",
   "execution_count": 50,
   "id": "attempted-aside",
   "metadata": {},
   "outputs": [
    {
     "data": {
      "text/plain": [
       "3.141592653589793"
      ]
     },
     "execution_count": 50,
     "metadata": {},
     "output_type": "execute_result"
    }
   ],
   "source": [
    "import math\n",
    "math.pi"
   ]
  },
  {
   "cell_type": "code",
   "execution_count": null,
   "id": "recognized-heavy",
   "metadata": {},
   "outputs": [],
   "source": []
  }
 ],
 "metadata": {
  "kernelspec": {
   "display_name": "Python 3",
   "language": "python",
   "name": "python3"
  },
  "language_info": {
   "codemirror_mode": {
    "name": "ipython",
    "version": 3
   },
   "file_extension": ".py",
   "mimetype": "text/x-python",
   "name": "python",
   "nbconvert_exporter": "python",
   "pygments_lexer": "ipython3",
   "version": "3.8.5"
  }
 },
 "nbformat": 4,
 "nbformat_minor": 5
}
