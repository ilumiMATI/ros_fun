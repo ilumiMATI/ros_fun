{
 "cells": [
  {
   "cell_type": "code",
   "execution_count": 1,
   "id": "operational-charleston",
   "metadata": {},
   "outputs": [
    {
     "data": {
      "text/plain": [
       "['/run_id',\n",
       " '/roslaunch/uris/host_localhost__45659',\n",
       " '/rosversion',\n",
       " '/rosdistro',\n",
       " '/turtlesim/background_r',\n",
       " '/turtlesim/background_g',\n",
       " '/turtlesim/background_b']"
      ]
     },
     "execution_count": 1,
     "metadata": {},
     "output_type": "execute_result"
    }
   ],
   "source": [
    "import rospy\n",
    "rospy.get_param_names()"
   ]
  },
  {
   "cell_type": "code",
   "execution_count": 3,
   "id": "faced-place",
   "metadata": {},
   "outputs": [
    {
     "name": "stdout",
     "output_type": "stream",
     "text": [
      "{'batteryDrain': 0.02, 'batteryCharge': 0.04}\n",
      "{'background_r': 153, 'background_g': 153, 'background_b': 102}\n",
      "['/run_id', '/roslaunch/uris/host_localhost__45659', '/rosversion', '/rosdistro', '/turtlesim/background_r', '/turtlesim/background_g', '/turtlesim/background_b', '/robot/batteryDrain', '/robot/batteryCharge']\n"
     ]
    }
   ],
   "source": [
    "rospy.set_param('robot',{'batteryDrain':0.02, 'batteryCharge':0.04})\n",
    "rospy.set_param(\"turtlesim\",{'background_r':153,'background_g':153,'background_b':102})\n",
    "print(rospy.get_param('robot'))\n",
    "print(rospy.get_param('turtlesim'))\n",
    "print(rospy.get_param_names())"
   ]
  },
  {
   "cell_type": "code",
   "execution_count": null,
   "id": "decreased-macedonia",
   "metadata": {},
   "outputs": [],
   "source": []
  }
 ],
 "metadata": {
  "kernelspec": {
   "display_name": "Python 3",
   "language": "python",
   "name": "python3"
  },
  "language_info": {
   "codemirror_mode": {
    "name": "ipython",
    "version": 3
   },
   "file_extension": ".py",
   "mimetype": "text/x-python",
   "name": "python",
   "nbconvert_exporter": "python",
   "pygments_lexer": "ipython3",
   "version": "3.8.5"
  }
 },
 "nbformat": 4,
 "nbformat_minor": 5
}
