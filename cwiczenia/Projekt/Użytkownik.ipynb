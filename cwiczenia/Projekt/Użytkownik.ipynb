{
 "cells": [
  {
   "cell_type": "code",
   "execution_count": 16,
   "id": "persistent-prerequisite",
   "metadata": {},
   "outputs": [],
   "source": [
    "import rospy\n",
    "\n",
    "from std_msgs.msg import String\n",
    "\n",
    "rospy.init_node(\"Uzytkownik\")\n",
    "\n",
    "class User():\n",
    "    def __init__(self):\n",
    "        self.msg_pub = rospy.Publisher(\"polecenia\",String, queue_size = 10)\n",
    "        self.info_sub = rospy.Subscriber(\"komunikaty\",String, self.callback_info)\n",
    "    \n",
    "    def callback_info(self,info):\n",
    "        print(info.data)\n",
    "        \n",
    "    def zadanie(self,req):\n",
    "        self.msg_pub.publish(req)\n",
    "        \n",
    "    def unregister(self):\n",
    "        self.info_sub.unregister()"
   ]
  },
  {
   "cell_type": "code",
   "execution_count": 17,
   "id": "initial-element",
   "metadata": {},
   "outputs": [],
   "source": [
    "msg_pub = rospy.Publisher(\"polecenia\",String, queue_size = 10)\n",
    "\n",
    "# polecenie go_to_goal struktura:\n",
    "# R<NumerRobota>, idz, <X>, <Y>\n",
    "\n",
    "# wysłane zadania zostaną wykonane jeden po drugim, niestety nie jest to jednoczesne w tej strukturze.\n",
    "# możliwe, że gdybyśmy zrobili oddzielne topici dla każdego robota \n",
    "msg_pub.publish(\"R1, idz, 1,9\")\n",
    "msg_pub.publish(\"R2, idz, 9,1\")\n",
    "\n",
    "# polecenie podlania roślin\n",
    "# podlej"
   ]
  },
  {
   "cell_type": "code",
   "execution_count": 12,
   "id": "present-wells",
   "metadata": {},
   "outputs": [],
   "source": [
    "user = User()"
   ]
  },
  {
   "cell_type": "code",
   "execution_count": 43,
   "id": "representative-tribute",
   "metadata": {},
   "outputs": [
    {
     "name": "stdout",
     "output_type": "stream",
     "text": [
      "R2: Zmierzam do punktu (10.0,7.0)\n",
      "R2: Dojechalem do punktu (10.0,7.0)\n",
      "System: Robot R2 wysłany do ładowania\n",
      "R2: Zmierzam do punktu (10.0,10.0)\n",
      "R2: Dotarłem do stacji ładującej\n"
     ]
    }
   ],
   "source": [
    "user.zadanie(\"R2, idz, 10,7\")"
   ]
  },
  {
   "cell_type": "code",
   "execution_count": 53,
   "id": "connected-russell",
   "metadata": {},
   "outputs": [
    {
     "name": "stdout",
     "output_type": "stream",
     "text": [
      "System: Robot R2 wysłany do ładowania\n",
      "R2: Zmierzam do punktu (1.0,1.0)\n",
      "R1: Zakończyłem podlewanie grzadki 1\n"
     ]
    }
   ],
   "source": [
    "user.zadanie(\"R2, naladuj\")"
   ]
  },
  {
   "cell_type": "code",
   "execution_count": 48,
   "id": "respected-syndrome",
   "metadata": {},
   "outputs": [
    {
     "name": "stdout",
     "output_type": "stream",
     "text": [
      "System: Robot R1 wysłany do ładowania\n",
      "R1: Zmierzam do punktu (1.0,1.0)\n",
      "R1: Dotarłem do stacji ładującej\n"
     ]
    }
   ],
   "source": [
    "user.zadanie(\"R1, naladuj\")"
   ]
  },
  {
   "cell_type": "code",
   "execution_count": 49,
   "id": "historic-teaching",
   "metadata": {},
   "outputs": [
    {
     "name": "stdout",
     "output_type": "stream",
     "text": [
      "System: Robot R1 wysłany do podlania grządki 1\n",
      "R1: Zmierzam do punktu (3.0,2.0)\n"
     ]
    }
   ],
   "source": [
    "user.zadanie(\"R1, podlej,1\")"
   ]
  },
  {
   "cell_type": "code",
   "execution_count": 54,
   "id": "resistant-credit",
   "metadata": {},
   "outputs": [
    {
     "name": "stdout",
     "output_type": "stream",
     "text": [
      "System: Robot R2 wysłany do podlania grządki 2\n",
      "System: Robot R1 wysłany do podlania grządki 1\n",
      "R1: Zmierzam do punktu (3.0,9.0)\n",
      "R1: Rozpoczynam podlewanie grzadki 1\n",
      "R1: Zmierzam do punktu (3.0,2.0)\n",
      "R2: Dotarłem do stacji ładującej\n",
      "R2: Zmierzam do punktu (8.0,2.0)\n",
      "R1: Zakończyłem podlewanie grzadki 1\n",
      "R2: Rozpoczynam podlewanie grzadki 2\n",
      "R2: Zmierzam do punktu (8.0,9.0)\n",
      "R2: Zakończyłem podlewanie grzadki 2\n"
     ]
    }
   ],
   "source": [
    "user.zadanie(\"R2, podlej,2\")\n",
    "user.zadanie(\"R1, podlej,1\")"
   ]
  },
  {
   "cell_type": "code",
   "execution_count": null,
   "id": "gorgeous-clause",
   "metadata": {},
   "outputs": [],
   "source": []
  }
 ],
 "metadata": {
  "kernelspec": {
   "display_name": "Python 3",
   "language": "python",
   "name": "python3"
  },
  "language_info": {
   "codemirror_mode": {
    "name": "ipython",
    "version": 3
   },
   "file_extension": ".py",
   "mimetype": "text/x-python",
   "name": "python",
   "nbconvert_exporter": "python",
   "pygments_lexer": "ipython3",
   "version": "3.8.5"
  }
 },
 "nbformat": 4,
 "nbformat_minor": 5
}
