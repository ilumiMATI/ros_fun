{
 "cells": [
  {
   "cell_type": "code",
   "execution_count": 39,
   "id": "latter-earth",
   "metadata": {},
   "outputs": [],
   "source": [
    "import rospy\n",
    "import numpy as np\n",
    "from turtlesim.srv import Spawn\n",
    "from turtlesim.srv import Kill\n",
    "from turtlesim.srv import SetPen\n",
    "from turtlesim.msg import Pose\n",
    "from geometry_msgs.msg import Twist\n",
    "from pkg_tsr.srv import Task\n",
    "from std_msgs.msg import Float32\n",
    "import math\n",
    "\n",
    "rospy.init_node(\"Robot\")"
   ]
  },
  {
   "cell_type": "code",
   "execution_count": 40,
   "id": "linear-cheat",
   "metadata": {},
   "outputs": [],
   "source": [
    "kill_robot = rospy.ServiceProxy('kill',Kill)\n",
    "class Robot():\n",
    "    position = Pose()\n",
    "    def __init__(self, name, x, y):\n",
    "        self.name = name\n",
    "        create_new_turtle = rospy.ServiceProxy('spawn', Spawn)\n",
    "        create_new_turtle(x, y, 0, name)\n",
    "        \n",
    "        position = Pose(x,y,0,0,0)\n",
    "        self.batteryDrain = rospy.get_param(\"robot/batteryDrain\")\n",
    "        self.batteryCharge = rospy.get_param(\"robot/batteryCharge\")\n",
    "        \n",
    "        self.set_pen = rospy.ServiceProxy(name+'/set_pen',SetPen)\n",
    "        self.set_pen(0,0,0,0,1)\n",
    "        \n",
    "        self.follow_service = rospy.Service(name+'/go_to_goal', Task, self.go_to_goal)\n",
    "        self.velocity_pub = rospy.Publisher(name+'/cmd_vel', Twist, queue_size=10)\n",
    "        self.pose_sub = rospy.Subscriber(name+'/pose',Pose, self.callback_pose)\n",
    "        self.battery_pub = rospy.Publisher(name+'/battery',Float32, queue_size=10)\n",
    "        self.battery = 100.0\n",
    "        \n",
    "        rospy.set_param(self.name+\"/tryb_pracy\",\"autonomiczny\")\n",
    "        \n",
    "    def go_to_goal(self, msg_srv):\n",
    "        max_speed = 0.3 # dla liniowych i obrotowych\n",
    "        tolerance = 0.05 # max odleglosc od punktu\n",
    "        \n",
    "        # obracanie się w stronę punktu\n",
    "        while True:\n",
    "            celTheta = math.atan2(msg_srv.y - self.position.y,msg_srv.x - self.position.x)\n",
    "            celDelta = celTheta - self.position.theta\n",
    "            if abs(celDelta) < tolerance*0.005:\n",
    "                break\n",
    "            # poprawiamy\n",
    "            msg_vel = Twist()\n",
    "            speed = np.clip(0.2*(abs(celDelta))+0.01,0,max_speed)\n",
    "            if celDelta > 0:\n",
    "                msg_vel.angular.z = speed\n",
    "            else:\n",
    "                msg_vel.angular.z = -speed\n",
    "            if rospy.get_param(self.name+'/tryb_pracy')=='autonomiczny':\n",
    "                self.velocity_pub.publish(msg_vel)\n",
    "            else:\n",
    "                msg_vel.angular.z=0\n",
    "                self.velocity_pub.publish(msg_vel)\n",
    "                return \"Interrupted\"\n",
    "            \n",
    "        # jazda do punktu\n",
    "        while True:\n",
    "            celDelta = math.sqrt((msg_srv.x - self.position.x)**2 + (msg_srv.y - self.position.y)**2)\n",
    "            if celDelta < tolerance:\n",
    "                break\n",
    "            #poprawiamy\n",
    "            msg_vel = Twist()\n",
    "            msg_vel.linear.x = np.clip(0.25*celDelta+0.025,0,max_speed)\n",
    "            if rospy.get_param(self.name+'/tryb_pracy')=='autonomiczny':\n",
    "                self.velocity_pub.publish(msg_vel)\n",
    "            else:\n",
    "                msg_vel.linear.x=0\n",
    "                self.velocity_pub.publish(msg_vel)\n",
    "                return \"Interrupted\"\n",
    "            \n",
    "        return \"finished\" \n",
    "        \n",
    "    def callback_pose(self, data):\n",
    "        #deltaX = data.x - self.position.x\n",
    "        #deltaY = data.y - self.position.y\n",
    "        #distance = math.sqrt( deltaX**2 + deltaY**2)\n",
    "        if (data.x >= 9.5 and data.y >= 9.5) or (data.x <= 1.5 and data.y <= 1.5):\n",
    "            self.battery += self.batteryCharge\n",
    "        else:\n",
    "            self.battery -= data.linear_velocity * self.batteryDrain\n",
    "        self.battery = np.clip(self.battery,0,100)\n",
    "        self.battery_pub.publish(self.battery)\n",
    "        self.position = data\n",
    "    \n",
    "    def get_params(self):\n",
    "        try:\n",
    "            return rospy.get_param(self.name)\n",
    "        except KeyError:\n",
    "            print(\"Brak parametrow\")\n",
    "            \n",
    "    def unregister(self):\n",
    "        self.follow_service.shutdown()\n",
    "        self.pose_sub.unregister()\n",
    "        kill_robot(self.name)\n",
    "        \n",
    "# funkcja pomocnicza do kierowania robotem\n",
    "def kieruj(robot,listaPunktow):\n",
    "    klient = rospy.ServiceProxy(robot.name+'/go_to_goal',Task)\n",
    "    for punkt in listaPunktow:\n",
    "        klient(punkt.x,punkt.y)\n",
    "        \n",
    "class Punkt():\n",
    "    x = 0.0\n",
    "    y = 0.0\n",
    "    def __init__(self,x,y):\n",
    "        self.x = x\n",
    "        self.y = y"
   ]
  },
  {
   "cell_type": "code",
   "execution_count": 41,
   "id": "devoted-stomach",
   "metadata": {},
   "outputs": [
    {
     "name": "stdout",
     "output_type": "stream",
     "text": [
      "\r\n"
     ]
    }
   ],
   "source": [
    "!rosservice call reset"
   ]
  },
  {
   "cell_type": "code",
   "execution_count": 42,
   "id": "unique-dynamics",
   "metadata": {},
   "outputs": [
    {
     "ename": "ServiceException",
     "evalue": "service [/kill] responded with an error: b''",
     "output_type": "error",
     "traceback": [
      "\u001b[0;31m---------------------------------------------------------------------------\u001b[0m",
      "\u001b[0;31mServiceException\u001b[0m                          Traceback (most recent call last)",
      "\u001b[0;32m<ipython-input-42-1167e7fe2329>\u001b[0m in \u001b[0;36m<module>\u001b[0;34m\u001b[0m\n\u001b[0;32m----> 1\u001b[0;31m \u001b[0mrobocik\u001b[0m\u001b[0;34m.\u001b[0m\u001b[0munregister\u001b[0m\u001b[0;34m(\u001b[0m\u001b[0;34m)\u001b[0m\u001b[0;34m\u001b[0m\u001b[0;34m\u001b[0m\u001b[0m\n\u001b[0m",
      "\u001b[0;32m<ipython-input-35-ea622c682105>\u001b[0m in \u001b[0;36munregister\u001b[0;34m(self)\u001b[0m\n\u001b[1;32m     84\u001b[0m         \u001b[0mself\u001b[0m\u001b[0;34m.\u001b[0m\u001b[0mfollow_service\u001b[0m\u001b[0;34m.\u001b[0m\u001b[0mshutdown\u001b[0m\u001b[0;34m(\u001b[0m\u001b[0;34m)\u001b[0m\u001b[0;34m\u001b[0m\u001b[0;34m\u001b[0m\u001b[0m\n\u001b[1;32m     85\u001b[0m         \u001b[0mself\u001b[0m\u001b[0;34m.\u001b[0m\u001b[0mpose_sub\u001b[0m\u001b[0;34m.\u001b[0m\u001b[0munregister\u001b[0m\u001b[0;34m(\u001b[0m\u001b[0;34m)\u001b[0m\u001b[0;34m\u001b[0m\u001b[0;34m\u001b[0m\u001b[0m\n\u001b[0;32m---> 86\u001b[0;31m         \u001b[0mkill_robot\u001b[0m\u001b[0;34m(\u001b[0m\u001b[0mself\u001b[0m\u001b[0;34m.\u001b[0m\u001b[0mname\u001b[0m\u001b[0;34m)\u001b[0m\u001b[0;34m\u001b[0m\u001b[0;34m\u001b[0m\u001b[0m\n\u001b[0m\u001b[1;32m     87\u001b[0m \u001b[0;34m\u001b[0m\u001b[0m\n\u001b[1;32m     88\u001b[0m \u001b[0;31m# funkcja pomocnicza do kierowania robotem\u001b[0m\u001b[0;34m\u001b[0m\u001b[0;34m\u001b[0m\u001b[0;34m\u001b[0m\u001b[0m\n",
      "\u001b[0;32m/opt/ros/noetic/lib/python3/dist-packages/rospy/impl/tcpros_service.py\u001b[0m in \u001b[0;36m__call__\u001b[0;34m(self, *args, **kwds)\u001b[0m\n\u001b[1;32m    440\u001b[0m         \u001b[0mmessage\u001b[0m\u001b[0;34m.\u001b[0m \u001b[0mThis\u001b[0m \u001b[0;32mis\u001b[0m \u001b[0musually\u001b[0m \u001b[0ma\u001b[0m \u001b[0mtype\u001b[0m \u001b[0merror\u001b[0m \u001b[0;32mwith\u001b[0m \u001b[0mone\u001b[0m \u001b[0mof\u001b[0m \u001b[0mthe\u001b[0m \u001b[0mfields\u001b[0m\u001b[0;34m.\u001b[0m\u001b[0;34m\u001b[0m\u001b[0;34m\u001b[0m\u001b[0m\n\u001b[1;32m    441\u001b[0m         \"\"\"\n\u001b[0;32m--> 442\u001b[0;31m         \u001b[0;32mreturn\u001b[0m \u001b[0mself\u001b[0m\u001b[0;34m.\u001b[0m\u001b[0mcall\u001b[0m\u001b[0;34m(\u001b[0m\u001b[0;34m*\u001b[0m\u001b[0margs\u001b[0m\u001b[0;34m,\u001b[0m \u001b[0;34m**\u001b[0m\u001b[0mkwds\u001b[0m\u001b[0;34m)\u001b[0m\u001b[0;34m\u001b[0m\u001b[0;34m\u001b[0m\u001b[0m\n\u001b[0m\u001b[1;32m    443\u001b[0m \u001b[0;34m\u001b[0m\u001b[0m\n\u001b[1;32m    444\u001b[0m     \u001b[0;32mdef\u001b[0m \u001b[0m_get_service_uri\u001b[0m\u001b[0;34m(\u001b[0m\u001b[0mself\u001b[0m\u001b[0;34m,\u001b[0m \u001b[0mrequest\u001b[0m\u001b[0;34m)\u001b[0m\u001b[0;34m:\u001b[0m\u001b[0;34m\u001b[0m\u001b[0;34m\u001b[0m\u001b[0m\n",
      "\u001b[0;32m/opt/ros/noetic/lib/python3/dist-packages/rospy/impl/tcpros_service.py\u001b[0m in \u001b[0;36mcall\u001b[0;34m(self, *args, **kwds)\u001b[0m\n\u001b[1;32m    520\u001b[0m \u001b[0;34m\u001b[0m\u001b[0m\n\u001b[1;32m    521\u001b[0m         \u001b[0;32mtry\u001b[0m\u001b[0;34m:\u001b[0m\u001b[0;34m\u001b[0m\u001b[0;34m\u001b[0m\u001b[0m\n\u001b[0;32m--> 522\u001b[0;31m             \u001b[0mresponses\u001b[0m \u001b[0;34m=\u001b[0m \u001b[0mtransport\u001b[0m\u001b[0;34m.\u001b[0m\u001b[0mreceive_once\u001b[0m\u001b[0;34m(\u001b[0m\u001b[0;34m)\u001b[0m\u001b[0;34m\u001b[0m\u001b[0;34m\u001b[0m\u001b[0m\n\u001b[0m\u001b[1;32m    523\u001b[0m             \u001b[0;32mif\u001b[0m \u001b[0mlen\u001b[0m\u001b[0;34m(\u001b[0m\u001b[0mresponses\u001b[0m\u001b[0;34m)\u001b[0m \u001b[0;34m==\u001b[0m \u001b[0;36m0\u001b[0m\u001b[0;34m:\u001b[0m\u001b[0;34m\u001b[0m\u001b[0;34m\u001b[0m\u001b[0m\n\u001b[1;32m    524\u001b[0m                 \u001b[0;32mraise\u001b[0m \u001b[0mServiceException\u001b[0m\u001b[0;34m(\u001b[0m\u001b[0;34m\"service [%s] returned no response\"\u001b[0m\u001b[0;34m%\u001b[0m\u001b[0mself\u001b[0m\u001b[0;34m.\u001b[0m\u001b[0mresolved_name\u001b[0m\u001b[0;34m)\u001b[0m\u001b[0;34m\u001b[0m\u001b[0;34m\u001b[0m\u001b[0m\n",
      "\u001b[0;32m/opt/ros/noetic/lib/python3/dist-packages/rospy/impl/tcpros_base.py\u001b[0m in \u001b[0;36mreceive_once\u001b[0;34m(self)\u001b[0m\n\u001b[1;32m    733\u001b[0m             \u001b[0;32mwhile\u001b[0m \u001b[0;32mnot\u001b[0m \u001b[0mmsg_queue\u001b[0m \u001b[0;32mand\u001b[0m \u001b[0;32mnot\u001b[0m \u001b[0mself\u001b[0m\u001b[0;34m.\u001b[0m\u001b[0mdone\u001b[0m \u001b[0;32mand\u001b[0m \u001b[0;32mnot\u001b[0m \u001b[0mis_shutdown\u001b[0m\u001b[0;34m(\u001b[0m\u001b[0;34m)\u001b[0m\u001b[0;34m:\u001b[0m\u001b[0;34m\u001b[0m\u001b[0;34m\u001b[0m\u001b[0m\n\u001b[1;32m    734\u001b[0m                 \u001b[0;32mif\u001b[0m \u001b[0mb\u001b[0m\u001b[0;34m.\u001b[0m\u001b[0mtell\u001b[0m\u001b[0;34m(\u001b[0m\u001b[0;34m)\u001b[0m \u001b[0;34m>=\u001b[0m \u001b[0;36m4\u001b[0m\u001b[0;34m:\u001b[0m\u001b[0;34m\u001b[0m\u001b[0;34m\u001b[0m\u001b[0m\n\u001b[0;32m--> 735\u001b[0;31m                     \u001b[0mp\u001b[0m\u001b[0;34m.\u001b[0m\u001b[0mread_messages\u001b[0m\u001b[0;34m(\u001b[0m\u001b[0mb\u001b[0m\u001b[0;34m,\u001b[0m \u001b[0mmsg_queue\u001b[0m\u001b[0;34m,\u001b[0m \u001b[0msock\u001b[0m\u001b[0;34m)\u001b[0m\u001b[0;34m\u001b[0m\u001b[0;34m\u001b[0m\u001b[0m\n\u001b[0m\u001b[1;32m    736\u001b[0m                 \u001b[0;32mif\u001b[0m \u001b[0;32mnot\u001b[0m \u001b[0mmsg_queue\u001b[0m\u001b[0;34m:\u001b[0m\u001b[0;34m\u001b[0m\u001b[0;34m\u001b[0m\u001b[0m\n\u001b[1;32m    737\u001b[0m                     \u001b[0mself\u001b[0m\u001b[0;34m.\u001b[0m\u001b[0mstat_bytes\u001b[0m \u001b[0;34m+=\u001b[0m \u001b[0mrecv_buff\u001b[0m\u001b[0;34m(\u001b[0m\u001b[0msock\u001b[0m\u001b[0;34m,\u001b[0m \u001b[0mb\u001b[0m\u001b[0;34m,\u001b[0m \u001b[0mp\u001b[0m\u001b[0;34m.\u001b[0m\u001b[0mbuff_size\u001b[0m\u001b[0;34m)\u001b[0m\u001b[0;34m\u001b[0m\u001b[0;34m\u001b[0m\u001b[0m\n",
      "\u001b[0;32m/opt/ros/noetic/lib/python3/dist-packages/rospy/impl/tcpros_service.py\u001b[0m in \u001b[0;36mread_messages\u001b[0;34m(self, b, msg_queue, sock)\u001b[0m\n\u001b[1;32m    358\u001b[0m         \u001b[0;34m@\u001b[0m\u001b[0mtype\u001b[0m  \u001b[0msock\u001b[0m\u001b[0;34m:\u001b[0m \u001b[0msocket\u001b[0m\u001b[0;34m.\u001b[0m\u001b[0msocket\u001b[0m\u001b[0;34m\u001b[0m\u001b[0;34m\u001b[0m\u001b[0m\n\u001b[1;32m    359\u001b[0m         \"\"\"\n\u001b[0;32m--> 360\u001b[0;31m         \u001b[0mself\u001b[0m\u001b[0;34m.\u001b[0m\u001b[0m_read_ok_byte\u001b[0m\u001b[0;34m(\u001b[0m\u001b[0mb\u001b[0m\u001b[0;34m,\u001b[0m \u001b[0msock\u001b[0m\u001b[0;34m)\u001b[0m\u001b[0;34m\u001b[0m\u001b[0;34m\u001b[0m\u001b[0m\n\u001b[0m\u001b[1;32m    361\u001b[0m         \u001b[0mrospy\u001b[0m\u001b[0;34m.\u001b[0m\u001b[0mmsg\u001b[0m\u001b[0;34m.\u001b[0m\u001b[0mdeserialize_messages\u001b[0m\u001b[0;34m(\u001b[0m\u001b[0mb\u001b[0m\u001b[0;34m,\u001b[0m \u001b[0mmsg_queue\u001b[0m\u001b[0;34m,\u001b[0m \u001b[0mself\u001b[0m\u001b[0;34m.\u001b[0m\u001b[0mrecv_data_class\u001b[0m\u001b[0;34m,\u001b[0m \u001b[0mqueue_size\u001b[0m\u001b[0;34m=\u001b[0m\u001b[0mself\u001b[0m\u001b[0;34m.\u001b[0m\u001b[0mqueue_size\u001b[0m\u001b[0;34m,\u001b[0m \u001b[0mmax_msgs\u001b[0m\u001b[0;34m=\u001b[0m\u001b[0;36m1\u001b[0m\u001b[0;34m,\u001b[0m \u001b[0mstart\u001b[0m\u001b[0;34m=\u001b[0m\u001b[0;36m1\u001b[0m\u001b[0;34m)\u001b[0m \u001b[0;31m#rospy.msg\u001b[0m\u001b[0;34m\u001b[0m\u001b[0;34m\u001b[0m\u001b[0m\n\u001b[1;32m    362\u001b[0m         \u001b[0;31m#deserialize_messages only resets the buffer to the start\u001b[0m\u001b[0;34m\u001b[0m\u001b[0;34m\u001b[0m\u001b[0;34m\u001b[0m\u001b[0m\n",
      "\u001b[0;32m/opt/ros/noetic/lib/python3/dist-packages/rospy/impl/tcpros_service.py\u001b[0m in \u001b[0;36m_read_ok_byte\u001b[0;34m(self, b, sock)\u001b[0m\n\u001b[1;32m    341\u001b[0m             \u001b[0mb\u001b[0m\u001b[0;34m.\u001b[0m\u001b[0mseek\u001b[0m\u001b[0;34m(\u001b[0m\u001b[0;36m0\u001b[0m\u001b[0;34m)\u001b[0m\u001b[0;34m\u001b[0m\u001b[0;34m\u001b[0m\u001b[0m\n\u001b[1;32m    342\u001b[0m             \u001b[0mb\u001b[0m\u001b[0;34m.\u001b[0m\u001b[0mtruncate\u001b[0m\u001b[0;34m(\u001b[0m\u001b[0;36m0\u001b[0m\u001b[0;34m)\u001b[0m\u001b[0;34m\u001b[0m\u001b[0;34m\u001b[0m\u001b[0m\n\u001b[0;32m--> 343\u001b[0;31m             \u001b[0;32mraise\u001b[0m \u001b[0mServiceException\u001b[0m\u001b[0;34m(\u001b[0m\u001b[0;34m\"service [%s] responded with an error: %s\"\u001b[0m\u001b[0;34m%\u001b[0m\u001b[0;34m(\u001b[0m\u001b[0mself\u001b[0m\u001b[0;34m.\u001b[0m\u001b[0mresolved_name\u001b[0m\u001b[0;34m,\u001b[0m \u001b[0mstr\u001b[0m\u001b[0;34m)\u001b[0m\u001b[0;34m)\u001b[0m\u001b[0;34m\u001b[0m\u001b[0;34m\u001b[0m\u001b[0m\n\u001b[0m\u001b[1;32m    344\u001b[0m         \u001b[0;32melse\u001b[0m\u001b[0;34m:\u001b[0m\u001b[0;34m\u001b[0m\u001b[0;34m\u001b[0m\u001b[0m\n\u001b[1;32m    345\u001b[0m             \u001b[0;31m# success, set seek point to start of message\u001b[0m\u001b[0;34m\u001b[0m\u001b[0;34m\u001b[0m\u001b[0;34m\u001b[0m\u001b[0m\n",
      "\u001b[0;31mServiceException\u001b[0m: service [/kill] responded with an error: b''"
     ]
    }
   ],
   "source": [
    "robocik.unregister()"
   ]
  },
  {
   "cell_type": "code",
   "execution_count": 43,
   "id": "expensive-durham",
   "metadata": {},
   "outputs": [],
   "source": [
    "# UZUPEŁNIĆ - utworzyć klienta i zlecić zadanie dojazdu do kilku różnych punktów\n",
    "robocik = Robot(\"Danonek4\",4,4)\n",
    "droga = [ \n",
    "    Punkt(5,5),\n",
    "    Punkt(5,8)\n",
    "    #Punkt(8,8),\n",
    "    #Punkt(1,5),\n",
    "    #Punkt(5,4)\n",
    "]\n",
    "kieruj(robocik,droga)"
   ]
  },
  {
   "cell_type": "code",
   "execution_count": 17,
   "id": "incoming-disclaimer",
   "metadata": {},
   "outputs": [
    {
     "data": {
      "text/plain": [
       "{'tryb_pracy': 'autonomiczny'}"
      ]
     },
     "execution_count": 17,
     "metadata": {},
     "output_type": "execute_result"
    }
   ],
   "source": [
    "robocik.get_params()"
   ]
  },
  {
   "cell_type": "code",
   "execution_count": 15,
   "id": "tamil-syntax",
   "metadata": {},
   "outputs": [
    {
     "data": {
      "text/plain": [
       "x: 4.0\n",
       "y: 1.0\n",
       "theta: 0.0\n",
       "linear_velocity: 0.0\n",
       "angular_velocity: 0.0"
      ]
     },
     "execution_count": 15,
     "metadata": {},
     "output_type": "execute_result"
    }
   ],
   "source": [
    "robocik.position"
   ]
  }
 ],
 "metadata": {
  "kernelspec": {
   "display_name": "Python 3",
   "language": "python",
   "name": "python3"
  },
  "language_info": {
   "codemirror_mode": {
    "name": "ipython",
    "version": 3
   },
   "file_extension": ".py",
   "mimetype": "text/x-python",
   "name": "python",
   "nbconvert_exporter": "python",
   "pygments_lexer": "ipython3",
   "version": "3.8.5"
  }
 },
 "nbformat": 4,
 "nbformat_minor": 5
}
