{
 "cells": [
  {
   "cell_type": "code",
   "execution_count": 1,
   "id": "latter-earth",
   "metadata": {},
   "outputs": [],
   "source": [
    "import rospy\n",
    "import numpy as np\n",
    "from turtlesim.srv import Spawn\n",
    "from turtlesim.srv import Kill\n",
    "from turtlesim.srv import SetPen\n",
    "from turtlesim.msg import Pose\n",
    "from geometry_msgs.msg import Twist\n",
    "from pkg_tsr.srv import Task\n",
    "from std_msgs.msg import Float32\n",
    "import math\n",
    "\n",
    "rospy.init_node(\"Robot\")"
   ]
  },
  {
   "cell_type": "code",
   "execution_count": 2,
   "id": "linear-cheat",
   "metadata": {},
   "outputs": [],
   "source": [
    "kill_robot = rospy.ServiceProxy('kill',Kill)\n",
    "class Robot():\n",
    "    position = Pose()\n",
    "    def __init__(self, name, x, y):\n",
    "        self.name = name\n",
    "        create_new_turtle = rospy.ServiceProxy('spawn', Spawn)\n",
    "        create_new_turtle(x, y, 0, name)\n",
    "        \n",
    "        position = Pose(x,y,0,0,0)\n",
    "        self.batteryDrain = rospy.get_param(\"robot/batteryDrain\")\n",
    "        self.batteryCharge = rospy.get_param(\"robot/batteryCharge\")\n",
    "        \n",
    "        self.set_pen = rospy.ServiceProxy(name+'/set_pen',SetPen)\n",
    "        self.set_pen(0,0,0,0,1)\n",
    "        \n",
    "        self.follow_service = rospy.Service(name+'/go_to_goal', Task, self.go_to_goal)\n",
    "        self.velocity_pub = rospy.Publisher(name+'/cmd_vel', Twist, queue_size=10)\n",
    "        self.pose_sub = rospy.Subscriber(name+'/pose',Pose, self.callback_pose)\n",
    "        self.battery_pub = rospy.Publisher(name+'/battery',Float32, queue_size=10)\n",
    "        self.battery = 100.0\n",
    "        \n",
    "        rospy.set_param(self.name+\"/tryb_pracy\",\"autonomiczny\")\n",
    "        \n",
    "    def go_to_goal(self, msg_srv):\n",
    "        max_speed = 0.3 # dla liniowych i obrotowych\n",
    "        tolerance = 0.05 # max odleglosc od punktu\n",
    "        \n",
    "        # obracanie się w stronę punktu\n",
    "        while True:\n",
    "            celTheta = math.atan2(msg_srv.y - self.position.y,msg_srv.x - self.position.x)\n",
    "            celDelta = celTheta - self.position.theta\n",
    "            if abs(celDelta) < tolerance*0.005:\n",
    "                break\n",
    "            # poprawiamy\n",
    "            msg_vel = Twist()\n",
    "            speed = np.clip(0.2*(abs(celDelta))+0.01,0,max_speed)\n",
    "            if celDelta > 0:\n",
    "                msg_vel.angular.z = speed\n",
    "            else:\n",
    "                msg_vel.angular.z = -speed\n",
    "            if rospy.get_param(self.name+'/tryb_pracy')=='autonomiczny':\n",
    "                self.velocity_pub.publish(msg_vel)\n",
    "            else:\n",
    "                msg_vel.angular.z=0\n",
    "                self.velocity_pub.publish(msg_vel)\n",
    "                return \"Interrupted\"\n",
    "            \n",
    "        # jazda do punktu\n",
    "        while True:\n",
    "            celDelta = math.sqrt((msg_srv.x - self.position.x)**2 + (msg_srv.y - self.position.y)**2)\n",
    "            if celDelta < tolerance:\n",
    "                break\n",
    "            #poprawiamy\n",
    "            msg_vel = Twist()\n",
    "            msg_vel.linear.x = np.clip(0.25*celDelta+0.025,0,max_speed)\n",
    "            if rospy.get_param(self.name+'/tryb_pracy')=='autonomiczny':\n",
    "                self.velocity_pub.publish(msg_vel)\n",
    "            else:\n",
    "                msg_vel.linear.x=0\n",
    "                self.velocity_pub.publish(msg_vel)\n",
    "                return \"Interrupted\"\n",
    "            \n",
    "        return \"finished\" \n",
    "        \n",
    "    def callback_pose(self, data):\n",
    "        #deltaX = data.x - self.position.x\n",
    "        #deltaY = data.y - self.position.y\n",
    "        #distance = math.sqrt( deltaX**2 + deltaY**2)\n",
    "        if (data.x >= 9.5 and data.y >= 9.5) or (data.x <= 1.5 and data.y <= 1.5):\n",
    "            self.battery += self.batteryCharge\n",
    "        else:\n",
    "            self.battery -= data.linear_velocity * self.batteryDrain\n",
    "        self.battery = np.clip(self.battery,0,100)\n",
    "        self.battery_pub.publish(self.battery)\n",
    "        self.position = data\n",
    "    \n",
    "    def get_params(self):\n",
    "        try:\n",
    "            return rospy.get_param(self.name)\n",
    "        except KeyError:\n",
    "            print(\"Brak parametrow\")\n",
    "            \n",
    "    def unregister(self):\n",
    "        self.follow_service.shutdown()\n",
    "        self.pose_sub.unregister()\n",
    "        kill_robot(self.name)\n",
    "        \n",
    "# funkcja pomocnicza do kierowania robotem\n",
    "def kieruj(robot,listaPunktow):\n",
    "    klient = rospy.ServiceProxy(robot.name+'/go_to_goal',Task)\n",
    "    for punkt in listaPunktow:\n",
    "        klient(punkt.x,punkt.y)\n",
    "        \n",
    "class Punkt():\n",
    "    x = 0.0\n",
    "    y = 0.0\n",
    "    def __init__(self,x,y):\n",
    "        self.x = x\n",
    "        self.y = y"
   ]
  },
  {
   "cell_type": "code",
   "execution_count": 3,
   "id": "devoted-stomach",
   "metadata": {},
   "outputs": [
    {
     "name": "stdout",
     "output_type": "stream",
     "text": [
      "\r\n"
     ]
    }
   ],
   "source": [
    "!rosservice call reset"
   ]
  },
  {
   "cell_type": "code",
   "execution_count": 7,
   "id": "unique-dynamics",
   "metadata": {},
   "outputs": [],
   "source": [
    "robocik.unregister()"
   ]
  },
  {
   "cell_type": "code",
   "execution_count": 3,
   "id": "expensive-durham",
   "metadata": {},
   "outputs": [],
   "source": [
    "# UZUPEŁNIĆ - utworzyć klienta i zlecić zadanie dojazdu do kilku różnych punktów\n",
    "robocik = Robot(\"Danonek4\",4,3)\n",
    "droga = [ \n",
    "    Punkt(5,5),\n",
    "    Punkt(5,8)\n",
    "    #Punkt(8,8),\n",
    "    #Punkt(1,5),\n",
    "    #Punkt(5,4)\n",
    "]\n",
    "#kieruj(robocik,droga)"
   ]
  },
  {
   "cell_type": "code",
   "execution_count": 4,
   "id": "incoming-disclaimer",
   "metadata": {},
   "outputs": [
    {
     "data": {
      "text/plain": [
       "{'tryb_pracy': 'autonomiczny'}"
      ]
     },
     "execution_count": 4,
     "metadata": {},
     "output_type": "execute_result"
    }
   ],
   "source": [
    "robocik.get_params()"
   ]
  },
  {
   "cell_type": "code",
   "execution_count": 5,
   "id": "tamil-syntax",
   "metadata": {},
   "outputs": [
    {
     "data": {
      "text/plain": [
       "x: 4.0\n",
       "y: 3.0\n",
       "theta: 0.0\n",
       "linear_velocity: 0.0\n",
       "angular_velocity: 0.0"
      ]
     },
     "execution_count": 5,
     "metadata": {},
     "output_type": "execute_result"
    }
   ],
   "source": [
    "robocik.position"
   ]
  },
  {
   "cell_type": "code",
   "execution_count": 4,
   "id": "alleged-instruction",
   "metadata": {},
   "outputs": [
    {
     "name": "stderr",
     "output_type": "stream",
     "text": [
      "[WARN] [1625573045.345765]: Inbound TCP/IP connection failed: connection from sender terminated before handshake header received. 0 bytes were received. Please check sender for additional details.\n",
      "[WARN] [1625573158.085335]: Inbound TCP/IP connection failed: connection from sender terminated before handshake header received. 0 bytes were received. Please check sender for additional details.\n",
      "[WARN] [1625573992.416643]: Inbound TCP/IP connection failed: connection from sender terminated before handshake header received. 0 bytes were received. Please check sender for additional details.\n"
     ]
    }
   ],
   "source": [
    "roboty = [\n",
    "    Robot(\"Danonek4\",4,3),\n",
    "    Robot(\"Zenonek\",8,3)\n",
    "]"
   ]
  },
  {
   "cell_type": "code",
   "execution_count": null,
   "id": "invisible-slovenia",
   "metadata": {},
   "outputs": [],
   "source": [
    "for robot in roboty:\n",
    "    robot.unregister()"
   ]
  }
 ],
 "metadata": {
  "kernelspec": {
   "display_name": "Python 3",
   "language": "python",
   "name": "python3"
  },
  "language_info": {
   "codemirror_mode": {
    "name": "ipython",
    "version": 3
   },
   "file_extension": ".py",
   "mimetype": "text/x-python",
   "name": "python",
   "nbconvert_exporter": "python",
   "pygments_lexer": "ipython3",
   "version": "3.8.5"
  }
 },
 "nbformat": 4,
 "nbformat_minor": 5
}
