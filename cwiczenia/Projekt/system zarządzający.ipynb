{
 "cells": [
  {
   "cell_type": "code",
   "execution_count": 16,
   "id": "extreme-commerce",
   "metadata": {},
   "outputs": [],
   "source": [
    "import rospy\n",
    "import numpy as np\n",
    "#from turtlesim.srv import Spawn\n",
    "from turtlesim.msg import Pose\n",
    "#from geometry_msgs.msg import Twist\n",
    "from pkg_tsr.srv import Task\n",
    "from std_msgs.msg import Float32\n",
    "from std_msgs.msg import String\n",
    "import math\n",
    "\n",
    "rospy.init_node(\"RobotSystem\")\n",
    "\n",
    "class Punkt():\n",
    "    x = 0.0\n",
    "    y = 0.0\n",
    "    def __init__(self,x,y):\n",
    "        self.x = x\n",
    "        self.y = y"
   ]
  },
  {
   "cell_type": "code",
   "execution_count": 17,
   "id": "quick-standard",
   "metadata": {},
   "outputs": [],
   "source": [
    "class RobotData():\n",
    "    name = \"NoName\"\n",
    "    battery = 100\n",
    "    position = Pose()\n",
    "    def __init__(self,name):\n",
    "        self.name = name\n",
    "        self.battery_sub = rospy.Subscriber(name+'/battery',Float32, self.callback_battery)\n",
    "        self.pose_sub = rospy.Subscriber(name+'/pose',Pose, self.callback_pose)\n",
    "        self.go_to_goal = rospy.ServiceProxy(name+'/go_to_goal',Task)\n",
    "        \n",
    "    def callback_battery(self,data):\n",
    "        self.battery = data.data\n",
    "    def callback_pose(self,data):\n",
    "        self.position = data\n",
    "        \n",
    "    def state(self):\n",
    "        print(self.name + ':')\n",
    "        print(\"battery: \" + str(self.battery))\n",
    "        print(self.position)\n",
    "        \n",
    "    def unregister(self):\n",
    "        self.battery_sub.unregister()\n",
    "        self.pose_sub.unregister()"
   ]
  },
  {
   "cell_type": "code",
   "execution_count": 18,
   "id": "indian-portal",
   "metadata": {},
   "outputs": [],
   "source": [
    "class RobotSystem():\n",
    "    robots = []\n",
    "    def __init__(self,names):\n",
    "        for name in names:\n",
    "            self.robots.append(RobotData(name))\n",
    "        self.req_sub = rospy.Subscriber('polecenia',String, self.callback_req)\n",
    "        \n",
    "    # odbieranie poleceń\n",
    "    def callback_req(self,req):\n",
    "        arguments = req.data.split(',')\n",
    "        #if str(req.data) == \"podlej\":\n",
    "        #    self.robots[0].go_to_goal(3,2)\n",
    "            \n",
    "        if arguments[0].strip() == \"R1\":\n",
    "            if arguments[1].strip() == \"idz\":\n",
    "                x = float(arguments[2])\n",
    "                y = float(arguments[3])\n",
    "                self.robots[0].go_to_goal(x,y)\n",
    "                \n",
    "        elif arguments[0].strip() == \"R2\":\n",
    "            if arguments[1].strip() == \"idz\":\n",
    "                x = float(arguments[2])\n",
    "                y = float(arguments[3])\n",
    "                self.robots[1].go_to_goal(x,y)\n",
    "            \n",
    "        \n",
    "    def listRobots(self):\n",
    "        for robot in self.robots:\n",
    "            print(robot.name)\n",
    "            \n",
    "    def unregister(self):\n",
    "        for robot in self.robots:\n",
    "            robot.unregister()\n",
    "        self.robots.clear()\n",
    "        self.req_sub.unregister()\n"
   ]
  },
  {
   "cell_type": "code",
   "execution_count": 19,
   "id": "verbal-configuration",
   "metadata": {},
   "outputs": [
    {
     "name": "stdout",
     "output_type": "stream",
     "text": [
      "Danonek4\n",
      "Zenonek\n"
     ]
    }
   ],
   "source": [
    "system = RobotSystem([\"Danonek4\",\"Zenonek\"])\n",
    "system.listRobots()"
   ]
  },
  {
   "cell_type": "code",
   "execution_count": 15,
   "id": "average-genetics",
   "metadata": {},
   "outputs": [],
   "source": [
    "system.unregister()"
   ]
  },
  {
   "cell_type": "code",
   "execution_count": 4,
   "id": "funded-party",
   "metadata": {},
   "outputs": [],
   "source": [
    "robot = RobotData(\"Danonek4\")"
   ]
  },
  {
   "cell_type": "code",
   "execution_count": 5,
   "id": "voluntary-hollow",
   "metadata": {},
   "outputs": [
    {
     "name": "stdout",
     "output_type": "stream",
     "text": [
      "Danonek4:\n",
      "battery: 94.56159210205078\n",
      "x: 5.000033378601074\n",
      "y: 7.950603485107422\n",
      "theta: 1.5591237545013428\n",
      "linear_velocity: 0.0\n",
      "angular_velocity: 0.0\n"
     ]
    }
   ],
   "source": [
    "robot.state()"
   ]
  },
  {
   "cell_type": "code",
   "execution_count": 6,
   "id": "direct-patrick",
   "metadata": {},
   "outputs": [
    {
     "data": {
      "text/plain": [
       "result: \"finished\""
      ]
     },
     "execution_count": 6,
     "metadata": {},
     "output_type": "execute_result"
    }
   ],
   "source": [
    "system.robots[0].go_to_goal(8,5)\n",
    "system.robots[0].go_to_goal(10,10)\n",
    "system.robots[0].go_to_goal(1,1)"
   ]
  },
  {
   "cell_type": "code",
   "execution_count": 23,
   "id": "advisory-lender",
   "metadata": {},
   "outputs": [],
   "source": [
    "robot.unregister()"
   ]
  },
  {
   "cell_type": "code",
   "execution_count": null,
   "id": "computational-hamilton",
   "metadata": {},
   "outputs": [],
   "source": []
  }
 ],
 "metadata": {
  "kernelspec": {
   "display_name": "Python 3",
   "language": "python",
   "name": "python3"
  },
  "language_info": {
   "codemirror_mode": {
    "name": "ipython",
    "version": 3
   },
   "file_extension": ".py",
   "mimetype": "text/x-python",
   "name": "python",
   "nbconvert_exporter": "python",
   "pygments_lexer": "ipython3",
   "version": "3.8.5"
  }
 },
 "nbformat": 4,
 "nbformat_minor": 5
}
