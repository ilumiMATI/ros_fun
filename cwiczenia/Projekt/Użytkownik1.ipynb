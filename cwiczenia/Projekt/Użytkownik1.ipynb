{
 "cells": [
  {
   "cell_type": "code",
   "execution_count": 1,
   "id": "persistent-prerequisite",
   "metadata": {},
   "outputs": [],
   "source": [
    "import rospy\n",
    "\n",
    "from std_msgs.msg import String\n",
    "\n",
    "rospy.init_node(\"Uzytkownik1\")\n",
    "\n",
    "class User():\n",
    "    def __init__(self):\n",
    "        self.msg_pub = rospy.Publisher(\"polecenia\",String, queue_size = 10)\n",
    "        self.info_sub = rospy.Subscriber(\"komunikaty\",String, self.callback_info)\n",
    "    \n",
    "    def callback_info(self,info):\n",
    "        print(info.data)\n",
    "        \n",
    "    def zadanie(self,req):\n",
    "        self.msg_pub.publish(req)\n",
    "        \n",
    "    def unregister(self):\n",
    "        self.info_sub.unregister()"
   ]
  },
  {
   "cell_type": "markdown",
   "id": "under-potter",
   "metadata": {},
   "source": [
    "# Polecenia dostępne dla użytkownika\n",
    "\n",
    "## polecenie go_to_goal:\n",
    "R[NumerRobota], idz, [X], [Y]\n",
    "\n",
    "np.: R1, idz, 4.5, 8\n",
    "## polecenie naladuj:\n",
    "R[NumerRobota], naladuj\n",
    "\n",
    "np.: R3, naladuj\n",
    "## polecenie podlania grządki:\n",
    "R[NumerRobota], podlej, [NumerGrządki]\n",
    "\n",
    "np.: R2, podlej, 3 (system wybierze bliższą stację ładującą)\n",
    "## polecenie wykonania spirali:\n",
    "R[NumerRobota], spirala\n",
    "\n",
    "np.: R1, spirala"
   ]
  },
  {
   "cell_type": "code",
   "execution_count": 2,
   "id": "present-wells",
   "metadata": {},
   "outputs": [],
   "source": [
    "user = User()"
   ]
  },
  {
   "cell_type": "code",
   "execution_count": 10,
   "id": "distinguished-assistant",
   "metadata": {},
   "outputs": [],
   "source": [
    "# wysłanie robotów do podlania wszystkich grządek\n",
    "user.zadanie(\"R1, podlej, 1\")\n",
    "user.zadanie(\"R2, podlej, 2\")\n",
    "user.zadanie(\"R3, podlej, 3\")"
   ]
  },
  {
   "cell_type": "code",
   "execution_count": 11,
   "id": "photographic-handy",
   "metadata": {},
   "outputs": [],
   "source": [
    "# wysłanie któregoś z robotów do określonego punktu\n",
    "user.zadanie(\"R2, idz, 5.5, 5.5\")"
   ]
  },
  {
   "cell_type": "code",
   "execution_count": 12,
   "id": "romance-heaven",
   "metadata": {},
   "outputs": [],
   "source": [
    "# polecenie wykonania spirali\n",
    "user.zadanie(\"R2, spirala\")"
   ]
  },
  {
   "cell_type": "code",
   "execution_count": 13,
   "id": "optical-hygiene",
   "metadata": {},
   "outputs": [],
   "source": [
    "# wysłanie wszystkich robotów do ładowania (Jeśli bateria robota spadnie poniżej 30% to zostanie wysłany automatycznie)\n",
    "user.zadanie(\"R1, naladuj\")\n",
    "user.zadanie(\"R2, naladuj\")\n",
    "user.zadanie(\"R3, naladuj\")"
   ]
  },
  {
   "cell_type": "code",
   "execution_count": 14,
   "id": "gorgeous-clause",
   "metadata": {},
   "outputs": [],
   "source": [
    "user.unregister()"
   ]
  },
  {
   "cell_type": "code",
   "execution_count": null,
   "id": "aware-cameroon",
   "metadata": {},
   "outputs": [],
   "source": []
  }
 ],
 "metadata": {
  "kernelspec": {
   "display_name": "Python 3",
   "language": "python",
   "name": "python3"
  },
  "language_info": {
   "codemirror_mode": {
    "name": "ipython",
    "version": 3
   },
   "file_extension": ".py",
   "mimetype": "text/x-python",
   "name": "python",
   "nbconvert_exporter": "python",
   "pygments_lexer": "ipython3",
   "version": "3.8.5"
  }
 },
 "nbformat": 4,
 "nbformat_minor": 5
}
