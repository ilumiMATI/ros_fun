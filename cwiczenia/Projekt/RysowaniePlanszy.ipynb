{
 "cells": [
  {
   "cell_type": "code",
   "execution_count": 1,
   "id": "deadly-serial",
   "metadata": {},
   "outputs": [],
   "source": [
    "import rospy\n",
    "from turtlesim.srv import Spawn\n",
    "from turtlesim.srv import SetPen\n",
    "from turtlesim.srv import Kill\n",
    "from std_srvs.srv import Empty\n",
    "from turtlesim.srv import TeleportAbsolute\n",
    "kill = rospy.ServiceProxy('kill',Kill)"
   ]
  },
  {
   "cell_type": "code",
   "execution_count": 2,
   "id": "ultimate-acrylic",
   "metadata": {},
   "outputs": [],
   "source": [
    "class Punkt():\n",
    "    x = 0.0\n",
    "    y = 0.0\n",
    "    def __init__(self,x,y):\n",
    "        self.x = x\n",
    "        self.y = y\n",
    "class Color():\n",
    "    def __init__(self,r,g,b):\n",
    "        self.r = r\n",
    "        self.g = g\n",
    "        self.b = b\n",
    "\n",
    "def draw_square_function(start,a,b,color,width):  \n",
    "    create_new_robot = rospy.ServiceProxy('spawn', Spawn)\n",
    "    set_pen = rospy.ServiceProxy('/pen_turtle/set_pen',SetPen)\n",
    "    set_pose = rospy.ServiceProxy('/pen_turtle/teleport_absolute', TeleportAbsolute)\n",
    "    kill = rospy.ServiceProxy('kill',Kill)\n",
    "    \n",
    "    create_new_robot(start.x, start.y, 0,\"pen_turtle\")\n",
    "    set_pen(color.r,color.g,color.b,width,0)\n",
    "    \n",
    "    set_pose(start.x + a, start.y, 0)\n",
    "    set_pose(start.x + a, start.y + b, 0)\n",
    "    set_pose(start.x, start.y + b,0)\n",
    "    set_pose(start.x, start.y, 0)\n",
    "    kill(\"pen_turtle\")"
   ]
  },
  {
   "cell_type": "code",
   "execution_count": 3,
   "id": "outside-cable",
   "metadata": {},
   "outputs": [
    {
     "name": "stdout",
     "output_type": "stream",
     "text": [
      "\r\n"
     ]
    }
   ],
   "source": [
    "!rosservice call reset"
   ]
  },
  {
   "cell_type": "code",
   "execution_count": 4,
   "id": "north-wilderness",
   "metadata": {},
   "outputs": [],
   "source": [
    "draw_square_function(Punkt(3,2),0.1,7,Color(153,102,0),70)\n",
    "draw_square_function(Punkt(8,2),0.1,7,Color(153,102,0),70)"
   ]
  },
  {
   "cell_type": "code",
   "execution_count": 5,
   "id": "handed-extension",
   "metadata": {},
   "outputs": [],
   "source": [
    "listOfPlants = [\n",
    "    Punkt(3,2),\n",
    "    Punkt(3,3),\n",
    "    Punkt(3,4),\n",
    "    Punkt(3,5),\n",
    "    Punkt(3,6),\n",
    "    Punkt(3,7),\n",
    "    Punkt(3,8),\n",
    "    Punkt(3,9),\n",
    "    Punkt(8,2),\n",
    "    Punkt(8,3),\n",
    "    Punkt(8,4),\n",
    "    Punkt(8,5),\n",
    "    Punkt(8,6),\n",
    "    Punkt(8,7),\n",
    "    Punkt(8,8),\n",
    "    Punkt(8,9)\n",
    "]"
   ]
  },
  {
   "cell_type": "code",
   "execution_count": 6,
   "id": "colored-earth",
   "metadata": {},
   "outputs": [],
   "source": [
    "for punkt in listOfPlants:\n",
    "    draw_square_function(punkt,0.1,0.1,Color(0,153,0),6)"
   ]
  },
  {
   "cell_type": "code",
   "execution_count": 7,
   "id": "ecological-journal",
   "metadata": {},
   "outputs": [],
   "source": [
    "draw_square_function(Punkt(0,0),1.5,1.5,Color(0,255,128),5)\n",
    "draw_square_function(Punkt(9.5,9.5),1.5,1.5,Color(0,255,128),5)"
   ]
  },
  {
   "cell_type": "code",
   "execution_count": 8,
   "id": "rubber-concord",
   "metadata": {},
   "outputs": [
    {
     "data": {
      "text/plain": []
     },
     "execution_count": 8,
     "metadata": {},
     "output_type": "execute_result"
    }
   ],
   "source": [
    "kill(\"turtle1\")"
   ]
  },
  {
   "cell_type": "code",
   "execution_count": null,
   "id": "dangerous-sheriff",
   "metadata": {},
   "outputs": [],
   "source": []
  }
 ],
 "metadata": {
  "kernelspec": {
   "display_name": "Python 3",
   "language": "python",
   "name": "python3"
  },
  "language_info": {
   "codemirror_mode": {
    "name": "ipython",
    "version": 3
   },
   "file_extension": ".py",
   "mimetype": "text/x-python",
   "name": "python",
   "nbconvert_exporter": "python",
   "pygments_lexer": "ipython3",
   "version": "3.8.5"
  }
 },
 "nbformat": 4,
 "nbformat_minor": 5
}
