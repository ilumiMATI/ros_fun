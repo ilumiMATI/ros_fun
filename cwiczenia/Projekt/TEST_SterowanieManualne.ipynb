{
 "cells": [
  {
   "cell_type": "code",
   "execution_count": 3,
   "id": "architectural-deadline",
   "metadata": {},
   "outputs": [
    {
     "data": {
      "application/vnd.jupyter.widget-view+json": {
       "model_id": "7f02063a5b4f4099a06cee2dfd7c0712",
       "version_major": 2,
       "version_minor": 0
      },
      "text/plain": [
       "interactive(children=(FloatSlider(value=0.0, description='forward_vel', max=3.0, min=-3.0), FloatSlider(value=…"
      ]
     },
     "metadata": {},
     "output_type": "display_data"
    },
    {
     "data": {
      "text/plain": [
       "<function __main__.send_vel(forward_vel=0, rotation_vel=0)>"
      ]
     },
     "execution_count": 3,
     "metadata": {},
     "output_type": "execute_result"
    }
   ],
   "source": [
    "# UZUPEŁNIĆ\n",
    "import rospy\n",
    "import ipywidgets as widgets\n",
    "from geometry_msgs.msg import Twist\n",
    "from turtlesim.msg import Pose\n",
    "from std_msgs.msg import Float32\n",
    "from std_msgs.msg import String\n",
    "from IPython.display import display\n",
    "\n",
    "rospy.init_node(\"ManualControl\")\n",
    "robot_name='R1'\n",
    "\n",
    "class RobotControl():\n",
    "    def __init__(self,name):\n",
    "        self.name = name\n",
    "        self.vel_pub = rospy.Publisher(name + '/cmd_vel',Twist,queue_size = 10)\n",
    "        self.slider_sub = rospy.Subscriber(name + '/slider',Twist,self.UpdatePos)\n",
    "        self.pose_sub = rospy.Subscriber(name + '/pose',Pose,self.HandleMove)\n",
    "        self.current_twist = Twist()\n",
    "        \n",
    "    def UpdatePos(self,data):\n",
    "        self.current_twist = data\n",
    "        \n",
    "    def HandleMove(self,data):\n",
    "        if rospy.get_param(robot_name+'/tryb_pracy')=='manualny':\n",
    "            self.vel_pub.publish(self.current_twist)\n",
    "        \n",
    "    def unregister(self):\n",
    "        self.slider_sub.unregister()\n",
    "        self.pose_sub.unregister()\n",
    "        self.current_twist = Twist()\n",
    "        \n",
    "    def register(self):\n",
    "        self.slider_sub = rospy.Subscriber(self.name + '/slider',Twist,self.UpdatePos)\n",
    "        self.pose_sub = rospy.Subscriber(self.name + '/pose',Pose,self.HandleMove)\n",
    "        \n",
    "robotControls = RobotControl(robot_name)\n",
    "pub_vel_slider = rospy.Publisher(robot_name+\"/slider\",Twist,queue_size=10)\n",
    "def send_vel(forward_vel = 0, rotation_vel = 0):\n",
    "    message = Twist()\n",
    "    message.angular.z = rotation_vel\n",
    "    message.linear.x = forward_vel\n",
    "    if rospy.get_param(robot_name+'/tryb_pracy')=='manualny':\n",
    "        pub_vel_slider.publish(message)\n",
    "    \n",
    "widgets.interact(send_vel,\n",
    "             forward_vel=widgets.FloatSlider(min=-3,max=3,step=0.1,value=0),\n",
    "             rotation_vel=widgets.FloatSlider(min=-1.5,max=1.5,step=0.1,value=0))"
   ]
  },
  {
   "cell_type": "code",
   "execution_count": 4,
   "id": "killing-thumb",
   "metadata": {},
   "outputs": [
    {
     "data": {
      "application/vnd.jupyter.widget-view+json": {
       "model_id": "850d8aa55bce496789c92e09c138e94e",
       "version_major": 2,
       "version_minor": 0
      },
      "text/plain": [
       "Button(description='Tryb autonomiczny', style=ButtonStyle())"
      ]
     },
     "metadata": {},
     "output_type": "display_data"
    },
    {
     "data": {
      "application/vnd.jupyter.widget-view+json": {
       "model_id": "11f24b13df534f0da8e5c3cd007bc2d5",
       "version_major": 2,
       "version_minor": 0
      },
      "text/plain": [
       "Output()"
      ]
     },
     "metadata": {},
     "output_type": "display_data"
    }
   ],
   "source": [
    "button = widgets.Button(description=\"Tryb autonomiczny\")\n",
    "output = widgets.Output()\n",
    "display(button,output)\n",
    "class count:\n",
    "    i=0;\n",
    "\n",
    "def on_button_clicked(argument):\n",
    "    with output:\n",
    "        if count.i%2==0:\n",
    "            tryb='manualny'\n",
    "            robotControls.register()\n",
    "        else:\n",
    "            tryb='autonomiczny'\n",
    "            robotControls.unregister()\n",
    "        button.description=\"Tryb \"+tryb\n",
    "        rospy.set_param(robot_name+\"/tryb_pracy\",tryb)\n",
    "        print(rospy.get_param(robot_name))\n",
    "        manualny=!manualny\n",
    "        count.i+=1        \n",
    "button.on_click(on_button_clicked)"
   ]
  },
  {
   "cell_type": "code",
   "execution_count": 7,
   "id": "legitimate-bowling",
   "metadata": {},
   "outputs": [],
   "source": [
    "robotControls.unregister()"
   ]
  }
 ],
 "metadata": {
  "kernelspec": {
   "display_name": "Python 3",
   "language": "python",
   "name": "python3"
  },
  "language_info": {
   "codemirror_mode": {
    "name": "ipython",
    "version": 3
   },
   "file_extension": ".py",
   "mimetype": "text/x-python",
   "name": "python",
   "nbconvert_exporter": "python",
   "pygments_lexer": "ipython3",
   "version": "3.8.5"
  }
 },
 "nbformat": 4,
 "nbformat_minor": 5
}
