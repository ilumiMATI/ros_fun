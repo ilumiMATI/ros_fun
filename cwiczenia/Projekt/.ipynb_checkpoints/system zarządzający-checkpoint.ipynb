{
 "cells": [
  {
   "cell_type": "code",
   "execution_count": 2,
   "id": "extreme-commerce",
   "metadata": {},
   "outputs": [],
   "source": [
    "import rospy\n",
    "import numpy as np\n",
    "#from turtlesim.srv import Spawn\n",
    "from turtlesim.msg import Pose\n",
    "#from geometry_msgs.msg import Twist\n",
    "from pkg_tsr.srv import Task\n",
    "from std_msgs.msg import Float32\n",
    "import math\n",
    "\n",
    "rospy.init_node(\"RobotSystem\")"
   ]
  },
  {
   "cell_type": "code",
   "execution_count": 3,
   "id": "quick-standard",
   "metadata": {},
   "outputs": [],
   "source": [
    "class RobotData():\n",
    "    name = \"NoName\"\n",
    "    battery = 100\n",
    "    position = Pose()\n",
    "    def __init__(self,name):\n",
    "        self.name = name\n",
    "        self.battery_sub = rospy.Subscriber(name+'/battery',Float32, self.callback_battery)\n",
    "        self.pose_sub = rospy.Subscriber(name+'/pose',Pose, self.callback_pose)\n",
    "        self.go_to_goal = rospy.ServiceProxy(name+'/go_to_goal',Task)\n",
    "        \n",
    "    def callback_battery(self,data):\n",
    "        self.battery = data.data\n",
    "    def callback_pose(self,data):\n",
    "        self.position = data\n",
    "        \n",
    "    def state(self):\n",
    "        print(self.name + ':')\n",
    "        print(\"battery: \" + str(self.battery))\n",
    "        print(self.position)\n",
    "        \n",
    "    def unregister(self):\n",
    "        self.battery_sub.unregister()\n",
    "        self.pose_sub.unregister()"
   ]
  },
  {
   "cell_type": "code",
   "execution_count": 10,
   "id": "indian-portal",
   "metadata": {},
   "outputs": [],
   "source": [
    "class RobotSystem():\n",
    "    robotNames = []\n",
    "    robotSubDict = {}\n",
    "    def __init__(self,names):\n",
    "        for name in names:\n",
    "            self.robotNames.append(name)\n",
    "            self\n",
    "        \n",
    "    def listRobots(self):\n",
    "        for robot in self.robotNames:\n",
    "            print(robot)\n"
   ]
  },
  {
   "cell_type": "code",
   "execution_count": 11,
   "id": "verbal-configuration",
   "metadata": {},
   "outputs": [
    {
     "name": "stdout",
     "output_type": "stream",
     "text": [
      "Zenon\n",
      "Marcin\n"
     ]
    }
   ],
   "source": [
    "system = RobotSystem([\"Zenon\",\"Marcin\"])\n",
    "system.listRobots()"
   ]
  },
  {
   "cell_type": "code",
   "execution_count": 4,
   "id": "funded-party",
   "metadata": {},
   "outputs": [],
   "source": [
    "robot = RobotData(\"Danonek4\")"
   ]
  },
  {
   "cell_type": "code",
   "execution_count": 5,
   "id": "voluntary-hollow",
   "metadata": {},
   "outputs": [
    {
     "name": "stdout",
     "output_type": "stream",
     "text": [
      "Danonek4:\n",
      "battery: 94.56159210205078\n",
      "x: 5.000033378601074\n",
      "y: 7.950603485107422\n",
      "theta: 1.5591237545013428\n",
      "linear_velocity: 0.0\n",
      "angular_velocity: 0.0\n"
     ]
    }
   ],
   "source": [
    "robot.state()"
   ]
  },
  {
   "cell_type": "code",
   "execution_count": 8,
   "id": "direct-patrick",
   "metadata": {},
   "outputs": [
    {
     "data": {
      "text/plain": [
       "result: \"Interrupted\""
      ]
     },
     "execution_count": 8,
     "metadata": {},
     "output_type": "execute_result"
    }
   ],
   "source": [
    "robot.go_to_goal(8,5)\n",
    "robot.go_to_goal(10,10)\n",
    "robot.go_to_goal(1,1)"
   ]
  },
  {
   "cell_type": "code",
   "execution_count": 23,
   "id": "advisory-lender",
   "metadata": {},
   "outputs": [],
   "source": [
    "robot.unregister()"
   ]
  },
  {
   "cell_type": "code",
   "execution_count": null,
   "id": "computational-hamilton",
   "metadata": {},
   "outputs": [],
   "source": []
  }
 ],
 "metadata": {
  "kernelspec": {
   "display_name": "Python 3",
   "language": "python",
   "name": "python3"
  },
  "language_info": {
   "codemirror_mode": {
    "name": "ipython",
    "version": 3
   },
   "file_extension": ".py",
   "mimetype": "text/x-python",
   "name": "python",
   "nbconvert_exporter": "python",
   "pygments_lexer": "ipython3",
   "version": "3.8.5"
  }
 },
 "nbformat": 4,
 "nbformat_minor": 5
}
