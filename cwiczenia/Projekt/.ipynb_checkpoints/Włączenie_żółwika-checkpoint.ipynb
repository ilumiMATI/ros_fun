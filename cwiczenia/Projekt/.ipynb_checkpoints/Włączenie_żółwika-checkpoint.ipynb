{
 "cells": [
  {
   "cell_type": "code",
   "execution_count": null,
   "id": "employed-spectrum",
   "metadata": {},
   "outputs": [
    {
     "name": "stdout",
     "output_type": "stream",
     "text": [
      "QStandardPaths: XDG_RUNTIME_DIR not set, defaulting to '/tmp/runtime-ubuntu'\n",
      "\u001b[0m[ INFO] [1625488358.081828000]: Starting turtlesim with node name /turtlesim\u001b[0m\n",
      "\u001b[0m[ INFO] [1625488358.109422500]: Spawning turtle [turtle1] at x=[5.544445], y=[5.544445], theta=[0.000000]\u001b[0m\n",
      "\u001b[33m[ WARN] [1625488453.536264000]: Oh no! I hit the wall! (Clamping from [x=11.089602, y=7.425788])\u001b[0m\n",
      "\u001b[33m[ WARN] [1625488453.552598300]: Oh no! I hit the wall! (Clamping from [x=11.113577, y=7.405429])\u001b[0m\n",
      "\u001b[33m[ WARN] [1625488453.568050400]: Oh no! I hit the wall! (Clamping from [x=11.112572, y=7.383909])\u001b[0m\n",
      "\u001b[33m[ WARN] [1625488453.589656000]: Oh no! I hit the wall! (Clamping from [x=11.111512, y=7.361277])\u001b[0m\n",
      "\u001b[33m[ WARN] [1625488453.620584900]: Oh no! I hit the wall! (Clamping from [x=11.110400, y=7.337585])\u001b[0m\n",
      "\u001b[33m[ WARN] [1625488453.637374000]: Oh no! I hit the wall! (Clamping from [x=11.109238, y=7.312889])\u001b[0m\n",
      "\u001b[33m[ WARN] [1625488453.653694700]: Oh no! I hit the wall! (Clamping from [x=11.108030, y=7.287245])\u001b[0m\n",
      "\u001b[33m[ WARN] [1625488453.668762100]: Oh no! I hit the wall! (Clamping from [x=11.106778, y=7.260712])\u001b[0m\n",
      "\u001b[33m[ WARN] [1625488453.684869300]: Oh no! I hit the wall! (Clamping from [x=11.105484, y=7.233351])\u001b[0m\n",
      "\u001b[33m[ WARN] [1625488453.701419100]: Oh no! I hit the wall! (Clamping from [x=11.104152, y=7.205225])\u001b[0m\n",
      "\u001b[33m[ WARN] [1625488453.717518400]: Oh no! I hit the wall! (Clamping from [x=11.102785, y=7.176400])\u001b[0m\n",
      "\u001b[33m[ WARN] [1625488453.732948900]: Oh no! I hit the wall! (Clamping from [x=11.101386, y=7.146941])\u001b[0m\n",
      "\u001b[33m[ WARN] [1625488453.749700000]: Oh no! I hit the wall! (Clamping from [x=11.099958, y=7.116916])\u001b[0m\n",
      "\u001b[33m[ WARN] [1625488453.765269700]: Oh no! I hit the wall! (Clamping from [x=11.098504, y=7.086395])\u001b[0m\n",
      "\u001b[33m[ WARN] [1625488453.781671500]: Oh no! I hit the wall! (Clamping from [x=11.097029, y=7.055448])\u001b[0m\n",
      "\u001b[33m[ WARN] [1625488453.797369600]: Oh no! I hit the wall! (Clamping from [x=11.095535, y=7.024145])\u001b[0m\n",
      "\u001b[33m[ WARN] [1625488453.813029600]: Oh no! I hit the wall! (Clamping from [x=11.094025, y=6.992560])\u001b[0m\n",
      "\u001b[33m[ WARN] [1625488453.828996800]: Oh no! I hit the wall! (Clamping from [x=11.092504, y=6.960765])\u001b[0m\n",
      "\u001b[33m[ WARN] [1625488453.844951400]: Oh no! I hit the wall! (Clamping from [x=11.090974, y=6.928833])\u001b[0m\n",
      "\u001b[33m[ WARN] [1625488453.861235400]: Oh no! I hit the wall! (Clamping from [x=11.089439, y=6.896838])\u001b[0m\n"
     ]
    }
   ],
   "source": [
    "!rosrun turtlesim turtlesim_node"
   ]
  },
  {
   "cell_type": "code",
   "execution_count": null,
   "id": "present-liabilities",
   "metadata": {},
   "outputs": [],
   "source": []
  }
 ],
 "metadata": {
  "kernelspec": {
   "display_name": "Python 3",
   "language": "python",
   "name": "python3"
  },
  "language_info": {
   "codemirror_mode": {
    "name": "ipython",
    "version": 3
   },
   "file_extension": ".py",
   "mimetype": "text/x-python",
   "name": "python",
   "nbconvert_exporter": "python",
   "pygments_lexer": "ipython3",
   "version": "3.8.5"
  }
 },
 "nbformat": 4,
 "nbformat_minor": 5
}
