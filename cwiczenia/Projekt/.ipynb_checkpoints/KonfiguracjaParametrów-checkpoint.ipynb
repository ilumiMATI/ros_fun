{
 "cells": [
  {
   "cell_type": "code",
   "execution_count": 7,
   "id": "operational-charleston",
   "metadata": {},
   "outputs": [
    {
     "data": {
      "text/plain": [
       "['/run_id',\n",
       " '/roslaunch/uris/host_localhost__42195',\n",
       " '/rosversion',\n",
       " '/rosdistro',\n",
       " '/turtlesim/background_r',\n",
       " '/turtlesim/background_g',\n",
       " '/turtlesim/background_b',\n",
       " '/robot/batteryDrain',\n",
       " '/robot/batteryCharge']"
      ]
     },
     "execution_count": 7,
     "metadata": {},
     "output_type": "execute_result"
    }
   ],
   "source": [
    "import rospy\n",
    "rospy.get_param_names()"
   ]
  },
  {
   "cell_type": "code",
   "execution_count": 10,
   "id": "faced-place",
   "metadata": {},
   "outputs": [],
   "source": [
    "rospy.set_param('robot',{'batteryDrain':0.01, 'batteryCharge':0.8})"
   ]
  },
  {
   "cell_type": "code",
   "execution_count": null,
   "id": "fixed-tissue",
   "metadata": {},
   "outputs": [],
   "source": []
  }
 ],
 "metadata": {
  "kernelspec": {
   "display_name": "Python 3",
   "language": "python",
   "name": "python3"
  },
  "language_info": {
   "codemirror_mode": {
    "name": "ipython",
    "version": 3
   },
   "file_extension": ".py",
   "mimetype": "text/x-python",
   "name": "python",
   "nbconvert_exporter": "python",
   "pygments_lexer": "ipython3",
   "version": "3.8.5"
  }
 },
 "nbformat": 4,
 "nbformat_minor": 5
}
