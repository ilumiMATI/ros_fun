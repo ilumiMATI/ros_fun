{
 "cells": [
  {
   "cell_type": "code",
   "execution_count": 17,
   "id": "persistent-prerequisite",
   "metadata": {},
   "outputs": [],
   "source": [
    "import rospy\n",
    "\n",
    "from std_msgs.msg import String\n",
    "\n",
    "rospy.init_node(\"Uzytkownik\")"
   ]
  },
  {
   "cell_type": "code",
   "execution_count": 18,
   "id": "initial-element",
   "metadata": {},
   "outputs": [],
   "source": [
    "msg_pub = rospy.Publisher(\"polecenia\",String, queue_size = 10)\n",
    "\n",
    "# polecenie go_to_goal struktura:\n",
    "# R<NumerRobota>, idz, <X>, <Y>\n",
    "\n",
    "# wysłane zadania zostaną wykonane jeden po drugim, niestety nie jest to jednoczesne w tej strukturze.\n",
    "# możliwe, że gdybyśmy zrobili oddzielne topici dla każdego robota \n",
    "msg_pub.publish(\"R1, idz, 9,9\")\n",
    "msg_pub.publish(\"R2, idz, 1,1\")"
   ]
  },
  {
   "cell_type": "code",
   "execution_count": null,
   "id": "present-wells",
   "metadata": {},
   "outputs": [],
   "source": []
  }
 ],
 "metadata": {
  "kernelspec": {
   "display_name": "Python 3",
   "language": "python",
   "name": "python3"
  },
  "language_info": {
   "codemirror_mode": {
    "name": "ipython",
    "version": 3
   },
   "file_extension": ".py",
   "mimetype": "text/x-python",
   "name": "python",
   "nbconvert_exporter": "python",
   "pygments_lexer": "ipython3",
   "version": "3.8.5"
  }
 },
 "nbformat": 4,
 "nbformat_minor": 5
}
